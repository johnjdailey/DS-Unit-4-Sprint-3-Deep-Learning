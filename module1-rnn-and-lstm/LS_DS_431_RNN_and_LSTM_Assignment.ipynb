{
  "nbformat": 4,
  "nbformat_minor": 0,
  "metadata": {
    "kernelspec": {
      "name": "python3",
      "display_name": "Python 3"
    },
    "nteract": {
      "version": "0.23.3"
    },
    "colab": {
      "name": "LS_DS_431_RNN_and_LSTM_Assignment.ipynb",
      "provenance": []
    },
    "accelerator": "GPU"
  },
  "cells": [
    {
      "cell_type": "markdown",
      "metadata": {
        "id": "nogZ-rAHFvO2",
        "colab_type": "text"
      },
      "source": [
        "<img align=\"left\" src=\"https://lever-client-logos.s3.amazonaws.com/864372b1-534c-480e-acd5-9711f850815c-1524247202159.png\" width=200>\n",
        "<br></br>\n",
        "<br></br>\n",
        "\n",
        "## *Data Science Unit 4 Sprint 3 Assignment 1*\n",
        "\n",
        "# Recurrent Neural Networks and Long Short Term Memory (LSTM)\n",
        "\n",
        "![Monkey at a typewriter](https://upload.wikimedia.org/wikipedia/commons/thumb/3/3c/Chimpanzee_seated_at_typewriter.jpg/603px-Chimpanzee_seated_at_typewriter.jpg)\n",
        "\n",
        "It is said that [infinite monkeys typing for an infinite amount of time](https://en.wikipedia.org/wiki/Infinite_monkey_theorem) will eventually type, among other things, the complete works of Wiliam Shakespeare. Let's see if we can get there a bit faster, with the power of Recurrent Neural Networks and LSTM.\n",
        "\n",
        "This text file contains the complete works of Shakespeare: https://www.gutenberg.org/files/100/100-0.txt\n",
        "\n",
        "Use it as training data for an RNN - you can keep it simple and train character level, and that is suggested as an initial approach.\n",
        "\n",
        "Then, use that trained RNN to generate Shakespearean-ish text. Your goal - a function that can take, as an argument, the size of text (e.g. number of characters or lines) to generate, and returns generated text of that size.\n",
        "\n",
        "Note - Shakespeare wrote an awful lot. It's OK, especially initially, to sample/use smaller data and parameters, so you can have a tighter feedback loop when you're trying to get things running. Then, once you've got a proof of concept - start pushing it more!"
      ]
    },
    {
      "cell_type": "code",
      "metadata": {
        "execution": {
          "iopub.status.busy": "2020-06-15T18:18:20.442Z",
          "iopub.execute_input": "2020-06-15T18:18:20.453Z",
          "iopub.status.idle": "2020-06-15T18:18:20.513Z",
          "shell.execute_reply": "2020-06-15T18:18:20.523Z"
        },
        "id": "rSPUI-YdFvO4",
        "colab_type": "code",
        "colab": {}
      },
      "source": [
        "# Imports\n",
        "\n",
        "import requests\n",
        "import pandas as pd\n",
        "import numpy as np\n",
        "import random\n",
        "import sys\n",
        "import os\n",
        "\n",
        "from __future__ import print_function\n",
        "\n",
        "from tensorflow.keras.callbacks import LambdaCallback\n",
        "from tensorflow.keras.preprocessing import sequence\n",
        "from tensorflow.keras.models import Sequential\n",
        "from tensorflow.keras.layers import Dense, Embedding\n",
        "from tensorflow.keras.layers import LSTM"
      ],
      "execution_count": 27,
      "outputs": []
    },
    {
      "cell_type": "code",
      "metadata": {
        "execution": {
          "iopub.status.busy": "2020-06-15T18:25:49.778Z",
          "iopub.execute_input": "2020-06-15T18:25:49.781Z",
          "iopub.status.idle": "2020-06-15T18:25:51.467Z",
          "shell.execute_reply": "2020-06-15T18:25:51.469Z"
        },
        "id": "OaxHKAgDFvPF",
        "colab_type": "code",
        "colab": {}
      },
      "source": [
        "# Get the Shakespeare data with requests\n",
        "\n",
        "url = \"https://www.gutenberg.org/files/100/100-0.txt\"\n",
        "\n",
        "r = requests.get(url)\n",
        "r.encoding = r.apparent_encoding\n",
        "data = r.text\n",
        "data = data.split('\\r\\n')\n",
        "toc = [l.strip() for l in data[44:130:2]]\n",
        "\n",
        "# Skip the Table of Contents\n",
        "\n",
        "data = data[135:]\n",
        "\n",
        "# Fixing Titles\n",
        "\n",
        "toc[9] = 'THE LIFE OF KING HENRY V'\n",
        "toc[18] = 'MACBETH'\n",
        "toc[24] = 'OTHELLO, THE MOOR OF VENICE'\n",
        "toc[34] = 'TWELFTH NIGHT: OR, WHAT YOU WILL'\n",
        "\n",
        "locations = {id_:{'title':title, 'start':-99} for id_,title in enumerate(toc)}\n",
        "\n",
        "# Start \n",
        "\n",
        "for e,i in enumerate(data):\n",
        "    for t,title in enumerate(toc):\n",
        "        if title in i:\n",
        "            locations[t].update({'start':e})\n",
        "            \n",
        "\n",
        "df_toc = pd.DataFrame.from_dict(locations, orient='index')\n",
        "df_toc['end'] = df_toc['start'].shift(-1).apply(lambda x: x-1)\n",
        "df_toc.loc[42, 'end'] = len(data)\n",
        "df_toc['end'] = df_toc['end'].astype('int')\n",
        "\n",
        "df_toc['text'] = df_toc.apply(lambda x: '\\r\\n'.join(data[ x['start'] : int(x['end']) ]), axis=1)"
      ],
      "execution_count": 2,
      "outputs": []
    },
    {
      "cell_type": "code",
      "metadata": {
        "collapsed": true,
        "jupyter": {
          "source_hidden": false,
          "outputs_hidden": false
        },
        "nteract": {
          "transient": {
            "deleting": false
          }
        },
        "execution": {
          "iopub.status.busy": "2020-06-15T18:26:12.630Z",
          "iopub.execute_input": "2020-06-15T18:26:12.637Z",
          "iopub.status.idle": "2020-06-15T18:26:12.643Z",
          "shell.execute_reply": "2020-06-15T18:26:12.647Z"
        },
        "id": "8ahV9-5RFvPN",
        "colab_type": "code",
        "colab": {
          "base_uri": "https://localhost:8080/",
          "height": 204
        },
        "outputId": "23041bed-0b30-4840-9701-1d843950c496"
      },
      "source": [
        "#Shakespeare Data Parsed by Play\n",
        "\n",
        "df_toc.head()"
      ],
      "execution_count": 3,
      "outputs": [
        {
          "output_type": "execute_result",
          "data": {
            "text/html": [
              "<div>\n",
              "<style scoped>\n",
              "    .dataframe tbody tr th:only-of-type {\n",
              "        vertical-align: middle;\n",
              "    }\n",
              "\n",
              "    .dataframe tbody tr th {\n",
              "        vertical-align: top;\n",
              "    }\n",
              "\n",
              "    .dataframe thead th {\n",
              "        text-align: right;\n",
              "    }\n",
              "</style>\n",
              "<table border=\"1\" class=\"dataframe\">\n",
              "  <thead>\n",
              "    <tr style=\"text-align: right;\">\n",
              "      <th></th>\n",
              "      <th>title</th>\n",
              "      <th>start</th>\n",
              "      <th>end</th>\n",
              "      <th>text</th>\n",
              "    </tr>\n",
              "  </thead>\n",
              "  <tbody>\n",
              "    <tr>\n",
              "      <th>0</th>\n",
              "      <td>ALL’S WELL THAT ENDS WELL</td>\n",
              "      <td>2777</td>\n",
              "      <td>7738</td>\n",
              "      <td>ALL’S WELL THAT ENDS WELL\\r\\n\\r\\n\\r\\n\\r\\nConte...</td>\n",
              "    </tr>\n",
              "    <tr>\n",
              "      <th>1</th>\n",
              "      <td>THE TRAGEDY OF ANTONY AND CLEOPATRA</td>\n",
              "      <td>7739</td>\n",
              "      <td>11840</td>\n",
              "      <td>THE TRAGEDY OF ANTONY AND CLEOPATRA\\r\\n\\r\\nDRA...</td>\n",
              "    </tr>\n",
              "    <tr>\n",
              "      <th>2</th>\n",
              "      <td>AS YOU LIKE IT</td>\n",
              "      <td>11841</td>\n",
              "      <td>14631</td>\n",
              "      <td>AS YOU LIKE IT\\r\\n\\r\\nDRAMATIS PERSONAE.\\r\\n\\r...</td>\n",
              "    </tr>\n",
              "    <tr>\n",
              "      <th>3</th>\n",
              "      <td>THE COMEDY OF ERRORS</td>\n",
              "      <td>14632</td>\n",
              "      <td>17832</td>\n",
              "      <td>THE COMEDY OF ERRORS\\r\\n\\r\\n\\r\\n\\r\\nContents\\r...</td>\n",
              "    </tr>\n",
              "    <tr>\n",
              "      <th>4</th>\n",
              "      <td>THE TRAGEDY OF CORIOLANUS</td>\n",
              "      <td>17833</td>\n",
              "      <td>27806</td>\n",
              "      <td>THE TRAGEDY OF CORIOLANUS\\r\\n\\r\\nDramatis Pers...</td>\n",
              "    </tr>\n",
              "  </tbody>\n",
              "</table>\n",
              "</div>"
            ],
            "text/plain": [
              "                                 title  ...                                               text\n",
              "0            ALL’S WELL THAT ENDS WELL  ...  ALL’S WELL THAT ENDS WELL\\r\\n\\r\\n\\r\\n\\r\\nConte...\n",
              "1  THE TRAGEDY OF ANTONY AND CLEOPATRA  ...  THE TRAGEDY OF ANTONY AND CLEOPATRA\\r\\n\\r\\nDRA...\n",
              "2                       AS YOU LIKE IT  ...  AS YOU LIKE IT\\r\\n\\r\\nDRAMATIS PERSONAE.\\r\\n\\r...\n",
              "3                 THE COMEDY OF ERRORS  ...  THE COMEDY OF ERRORS\\r\\n\\r\\n\\r\\n\\r\\nContents\\r...\n",
              "4            THE TRAGEDY OF CORIOLANUS  ...  THE TRAGEDY OF CORIOLANUS\\r\\n\\r\\nDramatis Pers...\n",
              "\n",
              "[5 rows x 4 columns]"
            ]
          },
          "metadata": {
            "tags": []
          },
          "execution_count": 3
        }
      ]
    },
    {
      "cell_type": "code",
      "metadata": {
        "id": "Sevi7IKidcFi",
        "colab_type": "code",
        "colab": {
          "base_uri": "https://localhost:8080/",
          "height": 34
        },
        "outputId": "aac5186b-8eaf-470a-d6ac-6caa185ba5e5"
      },
      "source": [
        "# Check shape of dataframe\n",
        "\n",
        "df_toc.shape"
      ],
      "execution_count": 4,
      "outputs": [
        {
          "output_type": "execute_result",
          "data": {
            "text/plain": [
              "(43, 4)"
            ]
          },
          "metadata": {
            "tags": []
          },
          "execution_count": 4
        }
      ]
    },
    {
      "cell_type": "code",
      "metadata": {
        "id": "twQCdYMtcPNk",
        "colab_type": "code",
        "colab": {}
      },
      "source": [
        "# Clean the text column\n",
        "\n",
        "df_toc['text'] = df_toc[\"text\"].str.replace('\\n',\"\")\n",
        "df_toc['text'] = df_toc[\"text\"].str.replace('\\r',\"\")\n",
        "df_toc['text'] = df_toc[\"text\"].str.replace('[',\"\")\n",
        "df_toc['text'] = df_toc[\"text\"].str.replace(']',\"\")\n",
        "df_toc['text'] = df_toc[\"text\"].str.replace('_',\"\")\n",
        "df_toc['text'] = df_toc[\"text\"].str.replace('<',\"\")\n",
        "df_toc['text'] = df_toc[\"text\"].str.replace('>',\"\")\n",
        "df_toc['text'] = df_toc[\"text\"].str.replace('/',\"\")\n",
        "df_toc['text'] = df_toc[\"text\"].str.replace('*',\"\")"
      ],
      "execution_count": 5,
      "outputs": []
    },
    {
      "cell_type": "code",
      "metadata": {
        "id": "qRB8Cf4MclV4",
        "colab_type": "code",
        "colab": {
          "base_uri": "https://localhost:8080/",
          "height": 106
        },
        "outputId": "aecf5257-1c5b-4ae0-c45c-c9145836d8bf"
      },
      "source": [
        "# Verify changes in first text\n",
        "\n",
        "df_toc['text'][0]"
      ],
      "execution_count": 6,
      "outputs": [
        {
          "output_type": "execute_result",
          "data": {
            "application/vnd.google.colaboratory.intrinsic+json": {
              "type": "string"
            },
            "text/plain": [
              "'ALL’S WELL THAT ENDS WELLContentsACT IScene I. Rossillon. A room in the Countess’s palace.Scene II. Paris. A room in the King’s palace.Scene III. Rossillon. A Room in the Palace.ACT IIScene I. Paris. A room in the King’s palace.Scene II. Rossillon. A room in the Countess’s palace.Scene III. Paris. The King’s palace.Scene IV. Paris. The King’s palace.Scene V. Another room in the same.ACT IIIScene I. Florence. A room in the Duke’s palace.Scene II. Rossillon. A room in the Countess’s palace.Scene III. Florence. Before the Duke’s palace.Scene IV. Rossillon. A room in the Countess’s palace.Scene V. Without the walls of Florence.Scene VI. Camp before Florence.Scene VII. Florence. A room in the Widow’s house.ACT IVScene I. Without the Florentine camp.Scene II. Florence. A room in the Widow’s house.Scene III. The Florentine camp.Scene IV. Florence. A room in the Widow’s house.Scene V. Rossillon. A room in the Countess’s palace.ACT VScene I. Marseilles. A street.Scene II. Rossillon. The inner court of the Countess’s palace.Scene III. The same. A room in the Countess’s palace. Dramatis PersonæKING OF FRANCE.THE DUKE OF FLORENCE.BERTRAM, Count of Rossillon.LAFEW, an old Lord.PAROLLES, a follower of Bertram.Several young French Lords, that serve with Bertram in the FlorentineWar.RYNALDO, servant to the Countess of Rossillon.Clown, servant to the Countess of Rossillon.A Page, servant to the Countess of Rossillon.COUNTESS OF ROSSILLON, mother to Bertram.HELENA, a Gentlewoman protected by the Countess.An old WIDOW of Florence.DIANA, daughter to the Widow.VIOLENTA, neighbour and friend to the Widow.MARIANA, neighbour and friend to the Widow.Lords attending on the KING; Officers; Soldiers, &c., French andFlorentine.SCENE: Partly in France, and partly in Tuscany.ACT ISCENE I. Rossillon. A room in the Countess’s palace. Enter Bertram, the Countess of Rossillon, Helena, and Lafew, all in black.COUNTESS.In delivering my son from me, I bury a second husband.BERTRAM.And I in going, madam, weep o’er my father’s death anew; but I mustattend his majesty’s command, to whom I am now in ward, evermore insubjection.LAFEW.You shall find of the king a husband, madam; you, sir, a father. Hethat so generally is at all times good, must of necessity hold hisvirtue to you, whose worthiness would stir it up where it wanted,rather than lack it where there is such abundance.COUNTESS.What hope is there of his majesty’s amendment?LAFEW.He hath abandon’d his physicians, madam; under whose practices he hathpersecuted time with hope, and finds no other advantage in the processbut only the losing of hope by time.COUNTESS.This young gentlewoman had a father—O that “had!”, how sad a passage’tis!—whose skill was almost as great as his honesty; had it stretch’dso far, would have made nature immortal, and death should have play forlack of work. Would for the king’s sake he were living! I think itwould be the death of the king’s disease.LAFEW.How called you the man you speak of, madam?COUNTESS.He was famous, sir, in his profession, and it was his great right to beso: Gerard de Narbon.LAFEW.He was excellent indeed, madam; the king very lately spoke of himadmiringly, and mourningly; he was skilful enough to have liv’d still,if knowledge could be set up against mortality.BERTRAM.What is it, my good lord, the king languishes of?LAFEW.A fistula, my lord.BERTRAM.I heard not of it before.LAFEW.I would it were not notorious. Was this gentlewoman the daughter ofGerard de Narbon?COUNTESS.His sole child, my lord, and bequeathed to my overlooking. I have thosehopes of her good that her education promises her dispositions sheinherits, which makes fair gifts fairer; for where an unclean mindcarries virtuous qualities, there commendations go with pity, they arevirtues and traitors too. In her they are the better for theirsimpleness; she derives her honesty, and achieves her goodness.LAFEW.Your commendations, madam, get from her tears.COUNTESS.’Tis the best brine a maiden can season her praise in. The remembranceof her father never approaches her heart but the tyranny of her sorrowstakes all livelihood from her cheek. No more of this, Helena; go to, nomore, lest it be rather thought you affect a sorrow than to have.HELENA.I do affect a sorrow indeed, but I have it too.LAFEW.Moderate lamentation is the right of the dead; excessive grief theenemy to the living.COUNTESS.If the living be enemy to the grief, the excess makes it soon mortal.BERTRAM.Madam, I desire your holy wishes.LAFEW.How understand we that?COUNTESS.Be thou blest, Bertram, and succeed thy fatherIn manners, as in shape! Thy blood and virtueContend for empire in thee, and thy goodnessShare with thy birthright! Love all, trust a few,Do wrong to none. Be able for thine enemyRather in power than use; and keep thy friendUnder thy own life’s key. Be check’d for silence,But never tax’d for speech. What heaven more will,That thee may furnish and my prayers pluck down,Fall on thy head! Farewell. My lord,’Tis an unseason’d courtier; good my lord,Advise him.LAFEW.He cannot want the bestThat shall attend his love.COUNTESS.Heaven bless him! Farewell, Bertram. Exit Countess.BERTRAM.The best wishes that can be forg’d in your thoughts be servants to you!To Helena. Be comfortable to my mother, your mistress, and makemuch of her.LAFEW.Farewell, pretty lady, you must hold the credit of your father. Exeunt Bertram and Lafew.HELENA.O, were that all! I think not on my father,And these great tears grace his remembrance moreThan those I shed for him. What was he like?I have forgot him; my imaginationCarries no favour in’t but Bertram’s.I am undone: there is no living, none,If Bertram be away. ’Twere all oneThat I should love a bright particular star,And think to wed it, he is so above me.In his bright radiance and collateral lightMust I be comforted, not in his sphere.Th’ambition in my love thus plagues itself:The hind that would be mated by the lionMust die for love. ’Twas pretty, though a plague,To see him every hour; to sit and drawHis arched brows, his hawking eye, his curls,In our heart’s table,—heart too capableOf every line and trick of his sweet favour.But now he’s gone, and my idolatrous fancyMust sanctify his relics. Who comes here? Enter Parolles.One that goes with him: I love him for his sake,And yet I know him a notorious liar,Think him a great way fool, solely a coward;Yet these fix’d evils sit so fit in himThat they take place when virtue’s steely bonesLooks bleak i’ th’ cold wind: withal, full oft we seeCold wisdom waiting on superfluous folly.PAROLLES.Save you, fair queen!HELENA.And you, monarch!PAROLLES.No.HELENA.And no.PAROLLES.Are you meditating on virginity?HELENA.Ay. You have some stain of soldier in you; let me ask you a question.Man is enemy to virginity; how may we barricado it against him?PAROLLES.Keep him out.HELENA.But he assails; and our virginity, though valiant, in the defence, yetis weak. Unfold to us some warlike resistance.PAROLLES.There is none. Man setting down before you will undermine you and blowyou up.HELENA.Bless our poor virginity from underminers and blowers-up! Is there nomilitary policy how virgins might blow up men?PAROLLES.Virginity being blown down, man will quicklier be blown up; marry, inblowing him down again, with the breach yourselves made, you lose yourcity. It is not politic in the commonwealth of nature to preservevirginity. Loss of virginity is rational increase, and there was nevervirgin got till virginity was first lost. That you were made of ismetal to make virgins. Virginity, by being once lost, may be ten timesfound; by being ever kept, it is ever lost. ’Tis too cold a companion.Away with it!HELENA.I will stand for’t a little, though therefore I die a virgin.PAROLLES.There’s little can be said in’t; ’tis against the rule of nature. Tospeak on the part of virginity is to accuse your mothers; which is mostinfallible disobedience. He that hangs himself is a virgin: virginitymurders itself, and should be buried in highways out of all sanctifiedlimit, as a desperate offendress against nature. Virginity breedsmites, much like a cheese; consumes itself to the very paring, and sodies with feeding his own stomach. Besides, virginity is peevish,proud, idle, made of self-love, which is the most inhibited sin in thecanon. Keep it not; you cannot choose but lose by’t. Out with’t! Withinthe year it will make itself two, which is a goodly increase, and theprincipal itself not much the worse. Away with it!HELENA.How might one do, sir, to lose it to her own liking?PAROLLES.Let me see. Marry, ill, to like him that ne’er it likes. ’Tis acommodity will lose the gloss with lying; the longer kept, the lessworth. Off with’t while ’tis vendible; answer the time of request.Virginity, like an old courtier, wears her cap out of fashion, richlysuited, but unsuitable, just like the brooch and the toothpick, whichwear not now. Your date is better in your pie and your porridge than inyour cheek. And your virginity, your old virginity, is like one of ourFrench wither’d pears; it looks ill, it eats drily; marry, ’tis awither’d pear; it was formerly better; marry, yet ’tis a wither’d pear.Will you anything with it?HELENA.Not my virginity yet.There shall your master have a thousand loves,A mother, and a mistress, and a friend,A phoenix, captain, and an enemy,A guide, a goddess, and a sovereign,A counsellor, a traitress, and a dear:His humble ambition, proud humility,His jarring concord, and his discord dulcet,His faith, his sweet disaster; with a worldOf pretty, fond, adoptious christendomsThat blinking Cupid gossips. Now shall he—I know not what he shall. God send him well!The court’s a learning-place; and he is one.PAROLLES.What one, i’ faith?HELENA.That I wish well. ’Tis pity—PAROLLES.What’s pity?HELENA.That wishing well had not a body in’tWhich might be felt, that we, the poorer born,Whose baser stars do shut us up in wishes,Might with effects of them follow our friends,And show what we alone must think, which neverReturns us thanks. Enter a Page.PAGE.Monsieur Parolles, my lord calls for you. Exit Page.PAROLLES.Little Helen, farewell. If I can remember thee, I will think of thee atcourt.HELENA.Monsieur Parolles, you were born under a charitable star.PAROLLES.Under Mars, I.HELENA.I especially think, under Mars.PAROLLES.Why under Mars?HELENA.The wars hath so kept you under, that you must needs be born underMars.PAROLLES.When he was predominant.HELENA.When he was retrograde, I think rather.PAROLLES.Why think you so?HELENA.You go so much backward when you fight.PAROLLES.That’s for advantage.HELENA.So is running away, when fear proposes the safety: but the compositionthat your valour and fear makes in you is a virtue of a good wing, andI like the wear well.PAROLLES.I am so full of business I cannot answer thee acutely. I will returnperfect courtier; in the which my instruction shall serve to naturalizethee, so thou wilt be capable of a courtier’s counsel, and understandwhat advice shall thrust upon thee; else thou diest in thineunthankfulness, and thine ignorance makes thee away. Farewell. Whenthou hast leisure, say thy prayers; when thou hast none, remember thyfriends. Get thee a good husband, and use him as he uses thee. So,farewell. Exit.HELENA.Our remedies oft in ourselves do lie,Which we ascribe to heaven: the fated skyGives us free scope; only doth backward pullOur slow designs when we ourselves are dull.What power is it which mounts my love so high,That makes me see, and cannot feed mine eye?The mightiest space in fortune nature bringsTo join like likes, and kiss like native things.Impossible be strange attempts to thoseThat weigh their pains in sense, and do supposeWhat hath been cannot be. Who ever stroveTo show her merit that did miss her love?The king’s disease,—my project may deceive me,But my intents are fix’d, and will not leave me. Exit.SCENE II. Paris. A room in the King’s palace. Flourish of cornets. Enter the King of France, with letters; Lords and others attending.KING.The Florentines and Senoys are by th’ ears;Have fought with equal fortune, and continueA braving war.FIRST LORD.So ’tis reported, sir.KING.Nay, ’tis most credible, we here receive it,A certainty, vouch’d from our cousin Austria,With caution, that the Florentine will move usFor speedy aid; wherein our dearest friendPrejudicates the business, and would seemTo have us make denial.FIRST LORD.His love and wisdom,Approv’d so to your majesty, may pleadFor amplest credence.KING.He hath arm’d our answer,And Florence is denied before he comes:Yet, for our gentlemen that mean to seeThe Tuscan service, freely have they leaveTo stand on either part.SECOND LORD.It well may serveA nursery to our gentry, who are sickFor breathing and exploit.KING.What’s he comes here? Enter Bertram, Lafew and Parolles.FIRST LORD.It is the Count Rossillon, my good lord,Young Bertram.KING.Youth, thou bear’st thy father’s face;Frank nature, rather curious than in haste,Hath well compos’d thee. Thy father’s moral partsMayst thou inherit too! Welcome to Paris.BERTRAM.My thanks and duty are your majesty’s.KING.I would I had that corporal soundness now,As when thy father and myself in friendshipFirst tried our soldiership. He did look farInto the service of the time, and wasDiscipled of the bravest. He lasted long,But on us both did haggish age steal on,And wore us out of act. It much repairs meTo talk of your good father; in his youthHe had the wit which I can well observeToday in our young lords; but they may jestTill their own scorn return to them unnotedEre they can hide their levity in honourSo like a courtier, contempt nor bitternessWere in his pride or sharpness; if they were,His equal had awak’d them, and his honour,Clock to itself, knew the true minute whenException bid him speak, and at this timeHis tongue obey’d his hand. Who were below himHe us’d as creatures of another place,And bow’d his eminent top to their low ranks,Making them proud of his humility,In their poor praise he humbled. Such a manMight be a copy to these younger times;Which, followed well, would demonstrate them nowBut goers backward.BERTRAM.His good remembrance, sir,Lies richer in your thoughts than on his tomb;So in approof lives not his epitaphAs in your royal speech.KING.Would I were with him! He would always say,—Methinks I hear him now; his plausive wordsHe scatter’d not in ears, but grafted themTo grow there and to bear,—“Let me not live,”This his good melancholy oft beganOn the catastrophe and heel of pastime,When it was out,—“Let me not live” quoth he,“After my flame lacks oil, to be the snuffOf younger spirits, whose apprehensive sensesAll but new things disdain; whose judgments areMere fathers of their garments; whose constanciesExpire before their fashions.” This he wish’d.I, after him, do after him wish too,Since I nor wax nor honey can bring home,I quickly were dissolved from my hiveTo give some labourers room.SECOND LORD.You’re lov’d, sir;They that least lend it you shall lack you first.KING.I fill a place, I know’t. How long is’t, Count,Since the physician at your father’s died?He was much fam’d.BERTRAM.Some six months since, my lord.KING.If he were living, I would try him yet;—Lend me an arm;—the rest have worn me outWith several applications; nature and sicknessDebate it at their leisure. Welcome, Count;My son’s no dearer.BERTRAM.Thank your majesty. Exeunt. Flourish.SCENE III. Rossillon. A Room in the Palace. Enter Countess, Steward and Clown.COUNTESS.I will now hear. What say you of this gentlewoman?STEWARD.Madam, the care I have had to even your content, I wish might be foundin the calendar of my past endeavours; for then we wound our modesty,and make foul the clearness of our deservings, when of ourselves wepublish them.COUNTESS.What does this knave here? Get you gone, sirrah. The complaints I haveheard of you I do not all believe; ’tis my slowness that I do not; forI know you lack not folly to commit them, and have ability enough tomake such knaveries yours.CLOWN.’Tis not unknown to you, madam, I am a poor fellow.COUNTESS.Well, sir.CLOWN.No, madam, ’tis not so well that I am poor, though many of the rich aredamned; but if I may have your ladyship’s good will to go to the world,Isbel the woman and I will do as we may.COUNTESS.Wilt thou needs be a beggar?CLOWN.I do beg your good will in this case.COUNTESS.In what case?CLOWN.In Isbel’s case and mine own. Service is no heritage, and I think Ishall never have the blessing of God till I have issue of my body; forthey say barnes are blessings.COUNTESS.Tell me thy reason why thou wilt marry.CLOWN.My poor body, madam, requires it; I am driven on by the flesh, and hemust needs go that the devil drives.COUNTESS.Is this all your worship’s reason?CLOWN.Faith, madam, I have other holy reasons, such as they are.COUNTESS.May the world know them?CLOWN.I have been, madam, a wicked creature, as you and all flesh and bloodare; and indeed I do marry that I may repent.COUNTESS.Thy marriage, sooner than thy wickedness.CLOWN.I am out of friends, madam, and I hope to have friends for my wife’ssake.COUNTESS.Such friends are thine enemies, knave.CLOWN.Y’are shallow, madam, in great friends; for the knaves come to do thatfor me which I am a-weary of. He that ears my land spares my team, andgives me leave to in the crop: if I be his cuckold, he’s my drudge. Hethat comforts my wife is the cherisher of my flesh and blood; he thatcherishes my flesh and blood loves my flesh and blood; he that loves myflesh and blood is my friend; ergo, he that kisses my wife is myfriend. If men could be contented to be what they are, there were nofear in marriage; for young Charbon the puritan and old Poysam thepapist, howsome’er their hearts are sever’d in religion, their headsare both one; they may jowl horns together like any deer i’ the herd.COUNTESS.Wilt thou ever be a foul-mouth’d and calumnious knave?CLOWN.A prophet I, madam; and I speak the truth the next way:   For I the ballad will repeat,   Which men full true shall find;   Your marriage comes by destiny,   Your cuckoo sings by kind.COUNTESS.Get you gone, sir; I’ll talk with you more anon.STEWARD.May it please you, madam, that he bid Helen come to you; of her I am tospeak.COUNTESS.Sirrah, tell my gentlewoman I would speak with her; Helen I mean.CLOWN.Sings.   Was this fair face the cause, quoth she,     Why the Grecians sacked Troy?   Fond done, done fond,      Was this King Priam’s joy?   With that she sighed as she stood,   With that she sighed as she stood,      And gave this sentence then:   Among nine bad if one be good,   Among nine bad if one be good,     There’s yet one good in ten.COUNTESS.What, one good in ten? You corrupt the song, sirrah.CLOWN.One good woman in ten, madam, which is a purifying o’ the song. WouldGod would serve the world so all the year! We’d find no fault with thetithe-woman, if I were the parson. One in ten, quoth ’a! And we mighthave a good woman born but or every blazing star, or at an earthquake,’twould mend the lottery well; a man may draw his heart out ere hepluck one.COUNTESS.You’ll be gone, sir knave, and do as I command you!CLOWN.That man should be at woman’s command, and yet no hurt done! Thoughhonesty be no puritan, yet it will do no hurt; it will wear thesurplice of humility over the black gown of a big heart. I am going,forsooth; the business is for Helen to come hither. Exit.COUNTESS.Well, now.STEWARD.I know, madam, you love your gentlewoman entirely.COUNTESS.Faith I do. Her father bequeath’d her to me, and she herself, withoutother advantage, may lawfully make title to as much love as she finds;there is more owing her than is paid, and more shall be paid her thanshe’ll demand.STEWARD.Madam, I was very late more near her than I think she wish’d me; aloneshe was, and did communicate to herself her own words to her own ears;she thought, I dare vow for her, they touch’d not any stranger sense.Her matter was, she loved your son. Fortune, she said, was no goddess,that had put such difference betwixt their two estates; Love no god,that would not extend his might only where qualities were level; Dianano queen of virgins, that would suffer her poor knight surpris’d,without rescue in the first assault or ransom afterward. This shedeliver’d in the most bitter touch of sorrow that e’er I heard virginexclaim in, which I held my duty speedily to acquaint you withal;sithence, in the loss that may happen, it concerns you something toknow it.COUNTESS.You have discharg’d this honestly; keep it to yourself; manylikelihoods inform’d me of this before, which hung so tottering in thebalance that I could neither believe nor misdoubt. Pray you leave me;stall this in your bosom; and I thank you for your honest care. I willspeak with you further anon. Exit Steward. Enter Helena.Even so it was with me when I was young;If ever we are nature’s, these are ours; this thornDoth to our rose of youth rightly belong;Our blood to us, this to our blood is born;It is the show and seal of nature’s truth,Where love’s strong passion is impress’d in youth.By our remembrances of days foregone,Such were our faults, or then we thought them none.Her eye is sick on’t; I observe her now.HELENA.What is your pleasure, madam?COUNTESS.You know, Helen,I am a mother to you.HELENA.Mine honourable mistress.COUNTESS.Nay, a mother.Why not a mother? When I said a mother,Methought you saw a serpent. What’s in mother,That you start at it? I say I am your mother,And put you in the catalogue of thoseThat were enwombed mine. ’Tis often seenAdoption strives with nature, and choice breedsA native slip to us from foreign seeds.You ne’er oppress’d me with a mother’s groan,Yet I express to you a mother’s care.God’s mercy, maiden! does it curd thy bloodTo say I am thy mother? What’s the matter,That this distempered messenger of wet,The many-colour’d Iris, rounds thine eye?—Why, that you are my daughter?HELENA.That I am not.COUNTESS.I say, I am your mother.HELENA.Pardon, madam;The Count Rossillon cannot be my brother.I am from humble, he from honoured name;No note upon my parents, his all noble,My master, my dear lord he is; and IHis servant live, and will his vassal die.He must not be my brother.COUNTESS.Nor I your mother?HELENA.You are my mother, madam; would you were—So that my lord your son were not my brother,—Indeed my mother! or were you both our mothers,I care no more for than I do for heaven,So I were not his sister. Can’t no other,But, I your daughter, he must be my brother?COUNTESS.Yes, Helen, you might be my daughter-in-law.God shield you mean it not! daughter and motherSo strive upon your pulse. What! pale again?My fear hath catch’d your fondness; now I seeThe mystery of your loneliness, and findYour salt tears’ head. Now to all sense ’tis grossYou love my son; invention is asham’d,Against the proclamation of thy passionTo say thou dost not. Therefore tell me true;But tell me then, ’tis so; for, look, thy cheeksConfess it, t’one to th’other; and thine eyesSee it so grossly shown in thy behaviours,That in their kind they speak it; only sinAnd hellish obstinacy tie thy tongue,That truth should be suspected. Speak, is’t so?If it be so, you have wound a goodly clew;If it be not, forswear’t: howe’er, I charge thee,As heaven shall work in me for thine avail,To tell me truly.HELENA.Good madam, pardon me.COUNTESS.Do you love my son?HELENA.Your pardon, noble mistress.COUNTESS.Love you my son?HELENA.Do not you love him, madam?COUNTESS.Go not about; my love hath in’t a bondWhereof the world takes note. Come, come, discloseThe state of your affection, for your passionsHave to the full appeach’d.HELENA.Then I confess,Here on my knee, before high heaven and you,That before you, and next unto high heaven,I love your son.My friends were poor, but honest; so’s my love.Be not offended; for it hurts not himThat he is lov’d of me; I follow him notBy any token of presumptuous suit,Nor would I have him till I do deserve him;Yet never know how that desert should be.I know I love in vain, strive against hope;Yet in this captious and inteemable sieveI still pour in the waters of my loveAnd lack not to lose still. Thus, Indian-like,Religious in mine error, I adoreThe sun that looks upon his worshipper,But knows of him no more. My dearest madam,Let not your hate encounter with my love,For loving where you do; but if yourself,Whose aged honour cites a virtuous youth,Did ever, in so true a flame of liking,Wish chastely, and love dearly, that your DianWas both herself and love; O then, give pityTo her whose state is such that cannot chooseBut lend and give where she is sure to lose;That seeks not to find that her search implies,But riddle-like, lives sweetly where she dies!COUNTESS.Had you not lately an intent,—speak truly,—To go to Paris?HELENA.Madam, I had.COUNTESS.Wherefore? tell true.HELENA.I will tell truth; by grace itself I swear.You know my father left me some prescriptionsOf rare and prov’d effects, such as his readingAnd manifest experience had collectedFor general sovereignty; and that he will’d meIn heedfull’st reservation to bestow them,As notes whose faculties inclusive wereMore than they were in note. Amongst the restThere is a remedy, approv’d, set down,To cure the desperate languishings whereofThe king is render’d lost.COUNTESS.This was your motiveFor Paris, was it? Speak.HELENA.My lord your son made me to think of this;Else Paris, and the medicine, and the king,Had from the conversation of my thoughtsHaply been absent then.COUNTESS.But think you, Helen,If you should tender your supposed aid,He would receive it? He and his physiciansAre of a mind; he, that they cannot help him;They, that they cannot help. How shall they creditA poor unlearned virgin, when the schools,Embowell’d of their doctrine, have let offThe danger to itself?HELENA.There’s something in’tMore than my father’s skill, which was the great’stOf his profession, that his good receiptShall for my legacy be sanctifiedBy th’ luckiest stars in heaven; and would your honourBut give me leave to try success, I’d ventureThe well-lost life of mine on his grace’s cure.By such a day, an hour.COUNTESS.Dost thou believe’t?HELENA.Ay, madam, knowingly.COUNTESS.Why, Helen, thou shalt have my leave and love,Means and attendants, and my loving greetingsTo those of mine in court. I’ll stay at home,And pray God’s blessing into thy attempt.Be gone tomorrow; and be sure of this,What I can help thee to, thou shalt not miss. Exeunt.ACT II.SCENE I. Paris. A room in the King’s palace. Flourish. Enter the King with young Lords taking leave for the Florentine war; Bertram, Parolles and Attendants.KING.Farewell, young lords; these warlike principlesDo not throw from you; and you, my lords, farewell;Share the advice betwixt you; if both gain all,The gift doth stretch itself as ’tis receiv’d,And is enough for both.FIRST LORD.’Tis our hope, sir,After well-ent’red soldiers, to returnAnd find your grace in health.KING.No, no, it cannot be; and yet my heartWill not confess he owes the maladyThat doth my life besiege. Farewell, young lords.Whether I live or die, be you the sonsOf worthy Frenchmen; let higher Italy,—Those bated that inherit but the fallOf the last monarchy—see that you comeNot to woo honour, but to wed it, whenThe bravest questant shrinks: find what you seek,That fame may cry you loud. I say farewell.SECOND LORD.Health, at your bidding serve your majesty!KING.Those girls of Italy, take heed of them;They say our French lack language to denyIf they demand; beware of being captivesBefore you serve.BOTH.Our hearts receive your warnings.KING.Farewell.—Come hither to me. The King retires to a couch.FIRST LORD.O my sweet lord, that you will stay behind us!PAROLLES.’Tis not his fault; the spark.SECOND LORD.O, ’tis brave wars!PAROLLES.Most admirable! I have seen those wars.BERTRAM.I am commanded here, and kept a coil with,“Too young”, and “the next year” and “’tis too early”.PAROLLES.An thy mind stand to’t, boy, steal away bravely.BERTRAM.I shall stay here the forehorse to a smock,Creaking my shoes on the plain masonry,Till honour be bought up, and no sword wornBut one to dance with. By heaven, I’ll steal away.FIRST LORD.There’s honour in the theft.PAROLLES.Commit it, count.SECOND LORD.I am your accessary; and so farewell.BERTRAM.I grow to you, and our parting is a tortur’d body.FIRST LORD.Farewell, captain.SECOND LORD.Sweet Monsieur Parolles!PAROLLES.Noble heroes, my sword and yours are kin. Good sparks and lustrous, aword, good metals. You shall find in the regiment of the Spinii oneCaptain Spurio, with his cicatrice, an emblem of war, here on hissinister cheek; it was this very sword entrench’d it. Say to him Ilive; and observe his reports for me.FIRST LORD.We shall, noble captain.PAROLLES.Mars dote on you for his novices! Exeunt Lords.What will ye do?BERTRAM.Stay the king.PAROLLES.Use a more spacious ceremony to the noble lords; you have restrain’dyourself within the list of too cold an adieu. Be more expressive tothem; for they wear themselves in the cap of the time; there do mustertrue gait; eat, speak, and move, under the influence of the mostreceiv’d star; and though the devil lead the measure, such are to befollowed. After them, and take a more dilated farewell.BERTRAM.And I will do so.PAROLLES.Worthy fellows, and like to prove most sinewy sword-men. Exeunt Bertram and Parolles. Enter Lafew.LAFEW.Pardon, my lord kneeling, for me and for my tidings.KING.I’ll fee thee to stand up.LAFEW.Then here’s a man stands that has brought his pardon.I would you had kneel’d, my lord, to ask me mercy,And that at my bidding you could so stand up.KING.I would I had; so I had broke thy pate,And ask’d thee mercy for’t.LAFEW.Good faith, across;But, my good lord, ’tis thus: will you be cur’dOf your infirmity?KING.No.LAFEW.O, will you eatNo grapes, my royal fox? Yes, but you willMy noble grapes, and if my royal foxCould reach them. I have seen a medicineThat’s able to breathe life into a stone,Quicken a rock, and make you dance canaryWith sprightly fire and motion; whose simple touchIs powerful to araise King Pippen, nay,To give great Charlemain a pen in’s handAnd write to her a love-line.KING.What ‘her’ is this?LAFEW.Why, doctor ‘she’! My lord, there’s one arriv’d,If you will see her. Now, by my faith and honour,If seriously I may convey my thoughtsIn this my light deliverance, I have spokeWith one that in her sex, her years, profession,Wisdom, and constancy, hath amaz’d me moreThan I dare blame my weakness. Will you see her,For that is her demand, and know her business?That done, laugh well at me.KING.Now, good Lafew,Bring in the admiration; that we with theeMay spend our wonder too, or take off thineBy wond’ring how thou took’st it.LAFEW.Nay, I’ll fit you,And not be all day neither. Exit Lafew.KING.Thus he his special nothing ever prologues. Enter Lafew with Helena.LAFEW.Nay, come your ways.KING.This haste hath wings indeed.LAFEW.Nay, come your ways.This is his majesty, say your mind to him.A traitor you do look like, but such traitorsHis majesty seldom fears; I am Cressid’s uncle,That dare leave two together. Fare you well. Exit.KING.Now, fair one, does your business follow us?HELENA.Ay, my good lord.Gerard de Narbon was my father,In what he did profess, well found.KING.I knew him.HELENA.The rather will I spare my praises towards him.Knowing him is enough. On his bed of deathMany receipts he gave me; chiefly one,Which, as the dearest issue of his practice,And of his old experience the only darling,He bade me store up as a triple eye,Safer than mine own two; more dear I have so,And hearing your high majesty is touch’dWith that malignant cause, wherein the honourOf my dear father’s gift stands chief in power,I come to tender it, and my appliance,With all bound humbleness.KING.We thank you, maiden,But may not be so credulous of cure,When our most learned doctors leave us, andThe congregated college have concludedThat labouring art can never ransom natureFrom her inaidable estate. I say we must notSo stain our judgment, or corrupt our hope,To prostitute our past-cure maladyTo empirics, or to dissever soOur great self and our credit, to esteemA senseless help, when help past sense we deem.HELENA.My duty then shall pay me for my pains.I will no more enforce mine office on you,Humbly entreating from your royal thoughtsA modest one to bear me back again.KING.I cannot give thee less, to be call’d grateful.Thou thought’st to help me; and such thanks I giveAs one near death to those that wish him live.But what at full I know, thou know’st no part;I knowing all my peril, thou no art.HELENA.What I can do can do no hurt to try,Since you set up your rest ’gainst remedy.He that of greatest works is finisherOft does them by the weakest minister.So holy writ in babes hath judgment shown,When judges have been babes. Great floods have flownFrom simple sources, and great seas have driedWhen miracles have by the great’st been denied.Oft expectation fails, and most oft thereWhere most it promises; and oft it hitsWhere hope is coldest, and despair most fits.KING.I must not hear thee. Fare thee well, kind maid.Thy pains, not us’d, must by thyself be paid;Proffers, not took, reap thanks for their reward.HELENA.Inspired merit so by breath is barr’d.It is not so with Him that all things knowsAs ’tis with us that square our guess by shows;But most it is presumption in us whenThe help of heaven we count the act of men.Dear sir, to my endeavours give consent;Of heaven, not me, make an experiment.I am not an impostor, that proclaimMyself against the level of mine aim,But know I think, and think I know most sure,My art is not past power nor you past cure.KING.Art thou so confident? Within what spaceHop’st thou my cure?HELENA.The greatest grace lending grace.Ere twice the horses of the sun shall bringTheir fiery torcher his diurnal ring,Ere twice in murk and occidental dampMoist Hesperus hath quench’d her sleepy lamp;Or four and twenty times the pilot’s glassHath told the thievish minutes how they pass;What is infirm from your sound parts shall fly,Health shall live free, and sickness freely die.KING.Upon thy certainty and confidenceWhat dar’st thou venture?HELENA.Tax of impudence,A strumpet’s boldness, a divulged shame,Traduc’d by odious ballads; my maiden’s nameSear’d otherwise; ne worse of worst extendedWith vildest torture, let my life be ended.KING.Methinks in thee some blessed spirit doth speakHis powerful sound within an organ weak;And what impossibility would slayIn common sense, sense saves another way.Thy life is dear, for all that life can rateWorth name of life in thee hath estimate:Youth, beauty, wisdom, courage, allThat happiness and prime can happy call.Thou this to hazard needs must intimateSkill infinite, or monstrous desperate.Sweet practiser, thy physic I will try,That ministers thine own death if I die.HELENA.If I break time, or flinch in propertyOf what I spoke, unpitied let me die,And well deserv’d. Not helping, death’s my fee;But if I help, what do you promise me?KING.Make thy demand.HELENA.But will you make it even?KING.Ay, by my sceptre and my hopes of heaven.HELENA.Then shalt thou give me, with thy kingly handWhat husband in thy power I will command:Exempted be from me the arroganceTo choose from forth the royal blood of France,My low and humble name to propagateWith any branch or image of thy state;But such a one, thy vassal, whom I knowIs free for me to ask, thee to bestow.KING.Here is my hand; the premises observ’d,Thy will by my performance shall be serv’d;So make the choice of thy own time, for I,Thy resolv’d patient, on thee still rely.More should I question thee, and more I must,Though more to know could not be more to trust:From whence thou cam’st, how tended on; but restUnquestion’d welcome, and undoubted bless’d.Give me some help here, ho! If thou proceedAs high as word, my deed shall match thy deed. Flourish. Exeunt.SCENE II. Rossillon. A room in the Countess’s palace. Enter Countess and Clown.COUNTESS.Come on, sir; I shall now put you to the height of your breeding.CLOWN.I will show myself highly fed and lowly taught. I know my business isbut to the court.COUNTESS.To the court! Why, what place make you special, when you put off thatwith such contempt? But to the court!CLOWN.Truly, madam, if God have lent a man any manners, he may easily put itoff at court: he that cannot make a leg, put off’s cap, kiss his hand,and say nothing, has neither leg, hands, lip, nor cap; and indeed sucha fellow, to say precisely, were not for the court; but for me, I havean answer will serve all men.COUNTESS.Marry, that’s a bountiful answer that fits all questions.CLOWN.It is like a barber’s chair, that fits all buttocks—the pin-buttock,the quatch-buttock, the brawn-buttock, or any buttock.COUNTESS.Will your answer serve fit to all questions?CLOWN.As fit as ten groats is for the hand of an attorney, as your Frenchcrown for your taffety punk, as Tib’s rush for Tom’s forefinger, as apancake for Shrove-Tuesday, a morris for May-day, as the nail to hishole, the cuckold to his horn, as a scolding quean to a wranglingknave, as the nun’s lip to the friar’s mouth; nay, as the pudding tohis skin.COUNTESS.Have you, I say, an answer of such fitness for all questions?CLOWN.From below your duke to beneath your constable, it will fit anyquestion.COUNTESS.It must be an answer of most monstrous size that must fit all demands.CLOWN.But a trifle neither, in good faith, if the learned should speak truthof it. Here it is, and all that belongs to’t. Ask me if I am acourtier; it shall do you no harm to learn.COUNTESS.To be young again, if we could: I will be a fool in question, hoping tobe the wiser by your answer. I pray you, sir, are you a courtier?CLOWN.O Lord, sir! There’s a simple putting off. More, more, a hundred ofthem.COUNTESS.Sir, I am a poor friend of yours, that loves you.CLOWN.O Lord, sir! Thick, thick; spare not me.COUNTESS.I think, sir, you can eat none of this homely meat.CLOWN.O Lord, sir! Nay, put me to’t, I warrant you.COUNTESS.You were lately whipp’d, sir, as I think.CLOWN.O Lord, sir! Spare not me.COUNTESS.Do you cry ‘O Lord, sir!’ at your whipping, and ‘spare not me’? Indeedyour ‘O Lord, sir!’ is very sequent to your whipping. You would answervery well to a whipping, if you were but bound to’t.CLOWN.I ne’er had worse luck in my life in my ‘O Lord, sir!’ I see things mayserve long, but not serve ever.COUNTESS.I play the noble housewife with the time, to entertain it so merrilywith a fool.CLOWN.O Lord, sir! Why, there’t serves well again.COUNTESS.An end, sir! To your business. Give Helen this,And urge her to a present answer back.Commend me to my kinsmen and my son.This is not much.CLOWN.Not much commendation to them?COUNTESS.Not much employment for you. You understand me?CLOWN.Most fruitfully. I am there before my legs.COUNTESS.Haste you again. Exeunt severally.SCENE III. Paris. The King’s palace. Enter Bertram, Lafew and Parolles.LAFEW.They say miracles are past; and we have our philosophical persons tomake modern and familiar things supernatural and causeless. Hence is itthat we make trifles of terrors, ensconcing ourselves into seemingknowledge when we should submit ourselves to an unknown fear.PAROLLES.Why, ’tis the rarest argument of wonder that hath shot out in ourlatter times.BERTRAM.And so ’tis.LAFEW.To be relinquish’d of the artists,—PAROLLES.So I say; both of Galen and Paracelsus.LAFEW.Of all the learned and authentic fellows,—PAROLLES.Right; so I say.LAFEW.That gave him out incurable,—PAROLLES.Why, there ’tis; so say I too.LAFEW.Not to be helped.PAROLLES.Right; as ’twere a man assur’d of a—LAFEW.Uncertain life and sure death.PAROLLES.Just; you say well. So would I have said.LAFEW.I may truly say, it is a novelty to the world.PAROLLES.It is indeed; if you will have it in showing, you shall read it in whatdo you call there?LAFEW.A showing of a heavenly effect in an earthly actor.PAROLLES.That’s it; I would have said the very same.LAFEW.Why, your dolphin is not lustier; fore me, I speak in respect—PAROLLES.Nay, ’tis strange, ’tis very strange; that is the brief and the tediousof it; and he’s of a most facinerious spirit that will not acknowledgeit to be the—LAFEW.Very hand of heaven.PAROLLES.Ay, so I say.LAFEW.In a most weak—PAROLLES.And debile minister, great power, great transcendence, which shouldindeed give us a further use to be made than alone the recov’ry of theking, as to be—LAFEW.Generally thankful.PAROLLES.I would have said it; you say well. Here comes the king. Enter King, Helena and Attendants.LAFEW.Lustique, as the Dutchman says. I’ll like a maid the better, whilst Ihave a tooth in my head. Why, he’s able to lead her a coranto.PAROLLES.Mor du vinager! is not this Helen?LAFEW.Fore God, I think so.KING.Go, call before me all the lords in court. Exit an Attendant.Sit, my preserver, by thy patient’s side,And with this healthful hand, whose banish’d senseThou has repeal’d, a second time receiveThe confirmation of my promis’d gift,Which but attends thy naming. Enter several Lords.Fair maid, send forth thine eye. This youthful parcelOf noble bachelors stand at my bestowing,O’er whom both sovereign power and father’s voiceI have to use. Thy frank election make;Thou hast power to choose, and they none to forsake.HELENA.To each of you one fair and virtuous mistressFall, when love please! Marry, to each but one!LAFEW.I’d give bay curtal and his furnitureMy mouth no more were broken than these boys’,And writ as little beard.KING.Peruse them well.Not one of those but had a noble father. She addresses her to a Lord.HELENA.Gentlemen,Heaven hath through me restor’d the king to health.ALL.We understand it, and thank heaven for you.HELENA.I am a simple maid, and therein wealthiestThat I protest I simply am a maid.Please it, your majesty, I have done already.The blushes in my cheeks thus whisper me:“We blush that thou shouldst choose; but, be refused,Let the white death sit on thy cheek for ever,We’ll ne’er come there again.”KING.Make choice; and, see,Who shuns thy love shuns all his love in me.HELENA.Now, Dian, from thy altar do I fly,And to imperial Love, that god most high,Do my sighs stream. To first Lord. Sir, will you hear my suit?FIRST LORD.And grant it.HELENA.Thanks, sir; all the rest is mute.LAFEW.I had rather be in this choice than throw ames-ace for my life.HELENA.To second Lord. The honour, sir, that flames in your fair eyes,Before I speak, too threat’ningly replies.Love make your fortunes twenty times aboveHer that so wishes, and her humble love!SECOND LORD.No better, if you please.HELENA.My wish receive,Which great Love grant; and so I take my leave.LAFEW.Do all they deny her? An they were sons of mine I’d have them whipp’d;or I would send them to th’ Turk to make eunuchs of.HELENA.To third Lord. Be not afraid that I your hand should take;I’ll never do you wrong for your own sake.Blessing upon your vows, and in your bedFind fairer fortune, if you ever wed!LAFEW.These boys are boys of ice, they’ll none have her. Sure, they arebastards to the English; the French ne’er got ’em.HELENA.To fourth Lord. You are too young, too happy, and too good,To make yourself a son out of my blood.FOURTH LORD.Fair one, I think not so.LAFEW.There’s one grape yet. I am sure thy father drank wine. But if thoubeest not an ass, I am a youth of fourteen; I have known thee already.HELENA.To Bertram. I dare not say I take you, but I giveMe and my service, ever whilst I live,Into your guiding power. This is the man.KING.Why, then, young Bertram, take her; she’s thy wife.BERTRAM.My wife, my liege! I shall beseech your highness,In such a business give me leave to useThe help of mine own eyes.KING.Know’st thou not, Bertram,What she has done for me?BERTRAM.Yes, my good lord,But never hope to know why I should marry her.KING.Thou know’st she has rais’d me from my sickly bed.BERTRAM.But follows it, my lord, to bring me downMust answer for your raising? I know her well;She had her breeding at my father’s charge:A poor physician’s daughter my wife! DisdainRather corrupt me ever!KING.’Tis only title thou disdain’st in her, the whichI can build up. Strange is it that our bloods,Of colour, weight, and heat, pour’d all together,Would quite confound distinction, yet stands offIn differences so mighty. If she beAll that is virtuous, save what thou dislik’st,A poor physician’s daughter,—thou dislik’st—Of virtue for the name. But do not so.From lowest place when virtuous things proceed,The place is dignified by the doer’s deed.Where great additions swell’s, and virtue none,It is a dropsied honour. Good aloneIs good without a name; vileness is so:The property by what it is should go,Not by the title. She is young, wise, fair;In these to nature she’s immediate heir;And these breed honour: that is honour’s scornWhich challenges itself as honour’s born,And is not like the sire. Honours thriveWhen rather from our acts we them deriveThan our fore-goers. The mere word’s a slave,Debauch’d on every tomb, on every graveA lying trophy, and as oft is dumbWhere dust and damn’d oblivion is the tombOf honour’d bones indeed. What should be said?If thou canst like this creature as a maid,I can create the rest. Virtue and sheIs her own dower; honour and wealth from me.BERTRAM.I cannot love her, nor will strive to do ’t.KING.Thou wrong’st thyself, if thou shouldst strive to choose.HELENA.That you are well restor’d, my lord, I am glad.Let the rest go.KING.My honour’s at the stake, which to defeat,I must produce my power. Here, take her hand,Proud scornful boy, unworthy this good gift,That dost in vile misprision shackle upMy love and her desert; that canst not dreamWe, poising us in her defective scale,Shall weigh thee to the beam; that wilt not knowIt is in us to plant thine honour whereWe please to have it grow. Check thy contempt;Obey our will, which travails in thy good;Believe not thy disdain, but presentlyDo thine own fortunes that obedient rightWhich both thy duty owes and our power claims;Or I will throw thee from my care for everInto the staggers and the careless lapseOf youth and ignorance; both my revenge and hateLoosing upon thee in the name of justice,Without all terms of pity. Speak! Thine answer!BERTRAM.Pardon, my gracious lord; for I submitMy fancy to your eyes. When I considerWhat great creation, and what dole of honourFlies where you bid it, I find that she, which lateWas in my nobler thoughts most base, is nowThe praised of the king; who, so ennobled,Is as ’twere born so.KING.Take her by the hand,And tell her she is thine; to whom I promiseA counterpoise; if not to thy estate,A balance more replete.BERTRAM.I take her hand.KING.Good fortune and the favour of the kingSmile upon this contract; whose ceremonyShall seem expedient on the now-born brief,And be perform’d tonight. The solemn feastShall more attend upon the coming space,Expecting absent friends. As thou lov’st her,Thy love’s to me religious; else, does err. Exeunt King, Bertram, Helena, Lords, and Attendants.LAFEW.Do you hear, monsieur? A word with you.PAROLLES.Your pleasure, sir.LAFEW.Your lord and master did well to make his recantation.PAROLLES.Recantation! My lord! My master!LAFEW.Ay. Is it not a language I speak?PAROLLES.A most harsh one, and not to be understood without bloody succeeding.My master!LAFEW.Are you companion to the Count Rossillon?PAROLLES.To any count; to all counts; to what is man.LAFEW.To what is count’s man: count’s master is of another style.PAROLLES.You are too old, sir; let it satisfy you, you are too old.LAFEW.I must tell thee, sirrah, I write man; to which title age cannot bringthee.PAROLLES.What I dare too well do, I dare not do.LAFEW.I did think thee, for two ordinaries, to be a pretty wise fellow; thoudidst make tolerable vent of thy travel; it might pass. Yet the scarfsand the bannerets about thee did manifoldly dissuade me from believingthee a vessel of too great a burden. I have now found thee; when I losethee again I care not. Yet art thou good for nothing but taking up, andthat thou art scarce worth.PAROLLES.Hadst thou not the privilege of antiquity upon thee—LAFEW.Do not plunge thyself too far in anger, lest thou hasten thy trial;which if—Lord have mercy on thee for a hen! So, my good window oflattice, fare thee well; thy casement I need not open, for I lookthrough thee. Give me thy hand.PAROLLES.My lord, you give me most egregious indignity.LAFEW.Ay, with all my heart; and thou art worthy of it.PAROLLES.I have not, my lord, deserv’d it.LAFEW.Yes, good faith, every dram of it; and I will not bate thee a scruple.PAROLLES.Well, I shall be wiser.LAFEW.Ev’n as soon as thou canst, for thou hast to pull at a smack o’ th’contrary. If ever thou beest bound in thy scarf and beaten, thou shaltfind what it is to be proud of thy bondage. I have a desire to hold myacquaintance with thee, or rather my knowledge, that I may say in thedefault, “He is a man I know.”PAROLLES.My lord, you do me most insupportable vexation.LAFEW.I would it were hell-pains for thy sake, and my poor doing eternal; fordoing I am past, as I will by thee, in what motion age will give meleave. Exit.PAROLLES.Well, thou hast a son shall take this disgrace off me; scurvy, old,filthy, scurvy lord! Well, I must be patient; there is no fettering ofauthority. I’ll beat him, by my life, if I can meet him with anyconvenience, an he were double and double a lord. I’ll have no morepity of his age than I would have of—I’ll beat him, and if I could butmeet him again. Enter Lafew.LAFEW.Sirrah, your lord and master’s married; there’s news for you; you havea new mistress.PAROLLES.I most unfeignedly beseech your lordship to make some reservation ofyour wrongs. He is my good lord; whom I serve above is my master.LAFEW.Who? God?PAROLLES.Ay, sir.LAFEW.The devil it is that’s thy master. Why dost thou garter up thy arms o’this fashion? Dost make hose of thy sleeves? Do other servants so? Thouwert best set thy lower part where thy nose stands. By mine honour, ifI were but two hours younger, I’d beat thee. Methink’st thou art ageneral offence, and every man should beat thee. I think thou wastcreated for men to breathe themselves upon thee.PAROLLES.This is hard and undeserved measure, my lord.LAFEW.Go to, sir; you were beaten in Italy for picking a kernel out of apomegranate; you are a vagabond, and no true traveller. You are moresaucy with lords and honourable personages than the commission of yourbirth and virtue gives you heraldry. You are not worth another word,else I’d call you knave. I leave you. Exit. Enter Bertram.PAROLLES.Good, very good, it is so then. Good, very good; let it be conceal’dawhile.BERTRAM.Undone, and forfeited to cares for ever!PAROLLES.What’s the matter, sweetheart?BERTRAM.Although before the solemn priest I have sworn,I will not bed her.PAROLLES.What, what, sweetheart?BERTRAM.O my Parolles, they have married me!I’ll to the Tuscan wars, and never bed her.PAROLLES.France is a dog-hole, and it no more meritsThe tread of a man’s foot: to the wars!BERTRAM.There’s letters from my mother; what th’ import isI know not yet.PAROLLES.Ay, that would be known. To th’ wars, my boy, to th’ wars!He wears his honour in a box unseenThat hugs his kicky-wicky here at home,Spending his manly marrow in her arms,Which should sustain the bound and high curvetOf Mars’s fiery steed. To other regions!France is a stable; we that dwell in’t, jades,Therefore, to th’ war!BERTRAM.It shall be so; I’ll send her to my house,Acquaint my mother with my hate to her,And wherefore I am fled; write to the kingThat which I durst not speak. His present giftShall furnish me to those Italian fieldsWhere noble fellows strike. War is no strifeTo the dark house and the detested wife.PAROLLES.Will this caprichio hold in thee, art sure?BERTRAM.Go with me to my chamber and advise me.I’ll send her straight away. TomorrowI’ll to the wars, she to her single sorrow.PAROLLES.Why, these balls bound; there’s noise in it. ’Tis hard:A young man married is a man that’s marr’d.Therefore away, and leave her bravely; go.The king has done you wrong; but hush ’tis so. Exeunt.SCENE IV. Paris. The King’s palace. Enter Helena and Clown.HELENA.My mother greets me kindly: is she well?CLOWN.She is not well, but yet she has her health; she’s very merry, but yetshe is not well. But thanks be given, she’s very well, and wantsnothing i’ the world; but yet she is not well.HELENA.If she be very well, what does she ail that she’s not very well?CLOWN.Truly, she’s very well indeed, but for two things.HELENA.What two things?CLOWN.One, that she’s not in heaven, whither God send her quickly! The other,that she’s in earth, from whence God send her quickly! Enter Parolles.PAROLLES.Bless you, my fortunate lady!HELENA.I hope, sir, I have your good will to have mine own good fortune.PAROLLES.You had my prayers to lead them on; and to keep them on, have themstill. O, my knave how does my old lady?CLOWN.So that you had her wrinkles and I her money, I would she did as yousay.PAROLLES.Why, I say nothing.CLOWN.Marry, you are the wiser man; for many a man’s tongue shakes out hismaster’s undoing. To say nothing, to do nothing, to know nothing, andto have nothing, is to be a great part of your title; which is within avery little of nothing.PAROLLES.Away! Thou art a knave.CLOWN.You should have said, sir, before a knave thou art a knave; that isbefore me thou art a knave. This had been truth, sir.PAROLLES.Go to, thou art a witty fool; I have found thee.CLOWN.Did you find me in yourself, sir? or were you taught to find me? Thesearch, sir, was profitable; and much fool may you find in you, even tothe world’s pleasure and the increase of laughter.PAROLLES.A good knave, i’ faith, and well fed.Madam, my lord will go away tonight;A very serious business calls on him.The great prerogative and right of love,Which, as your due, time claims, he does acknowledge;But puts it off to a compell’d restraint;Whose want, and whose delay, is strew’d with sweets;Which they distil now in the curbed time,To make the coming hour o’erflow with joyAnd pleasure drown the brim.HELENA.What’s his will else?PAROLLES.That you will take your instant leave o’ the king,And make this haste as your own good proceeding,Strengthen’d with what apology you thinkMay make it probable need.HELENA.What more commands he?PAROLLES.That, having this obtain’d, you presentlyAttend his further pleasure.HELENA.In everything I wait upon his will.PAROLLES.I shall report it so.HELENA.I pray you. Come, sirrah. Exeunt.SCENE V. Another room in the same. Enter Lafew and Bertram.LAFEW.But I hope your lordship thinks not him a soldier.BERTRAM.Yes, my lord, and of very valiant approof.LAFEW.You have it from his own deliverance.BERTRAM.And by other warranted testimony.LAFEW.Then my dial goes not true; I took this lark for a bunting.BERTRAM.I do assure you, my lord, he is very great in knowledge, andaccordingly valiant.LAFEW.I have, then, sinned against his experience and transgressed againsthis valour; and my state that way is dangerous, since I cannot yet findin my heart to repent. Here he comes; I pray you make us friends; Iwill pursue the amity Enter Parolles.PAROLLES.To Bertram. These things shall be done, sir.LAFEW.Pray you, sir, who’s his tailor?PAROLLES.Sir!LAFEW.O, I know him well, I, sir; he, sir, is a good workman, a very goodtailor.BERTRAM.Aside to Parolles. Is she gone to the king?PAROLLES.She is.BERTRAM.Will she away tonight?PAROLLES.As you’ll have her.BERTRAM.I have writ my letters, casketed my treasure,Given order for our horses; and tonight,When I should take possession of the bride,End ere I do begin.LAFEW.A good traveller is something at the latter end of a dinner; but onethat lies three-thirds and uses a known truth to pass a thousandnothings with, should be once heard and thrice beaten.— God save you,Captain.BERTRAM.Is there any unkindness between my lord and you, monsieur?PAROLLES.I know not how I have deserved to run into my lord’s displeasure.LAFEW.You have made shift to run into ’t, boots and spurs and all, like himthat leapt into the custard; and out of it you’ll run again, ratherthan suffer question for your residence.BERTRAM.It may be you have mistaken him, my lord.LAFEW.And shall do so ever, though I took him at his prayers. Fare you well,my lord; and believe this of me, there can be no kernal in this lightnut; the soul of this man is his clothes; trust him not in matter ofheavy consequence; I have kept of them tame, and know their natures.Farewell, monsieur; I have spoken better of you than you have or willto deserve at my hand; but we must do good against evil. Exit.PAROLLES.An idle lord, I swear.BERTRAM.I think so.PAROLLES.Why, do you not know him?BERTRAM.Yes, I do know him well; and common speechGives him a worthy pass. Here comes my clog. Enter Helena.HELENA.I have, sir, as I was commanded from you,Spoke with the king, and have procur’d his leaveFor present parting; only he desiresSome private speech with you.BERTRAM.I shall obey his will.You must not marvel, Helen, at my course,Which holds not colour with the time, nor doesThe ministration and required officeOn my particular. Prepared I was notFor such a business; therefore am I foundSo much unsettled: this drives me to entreat you;That presently you take your way for home,And rather muse than ask why I entreat you:For my respects are better than they seem;And my appointments have in them a needGreater than shows itself at the first viewTo you that know them not. This to my mother. Giving a letter.’Twill be two days ere I shall see you; soI leave you to your wisdom.HELENA.Sir, I can nothing sayBut that I am your most obedient servant.BERTRAM.Come, come, no more of that.HELENA.And ever shallWith true observance seek to eke out thatWherein toward me my homely stars have fail’dTo equal my great fortune.BERTRAM.Let that go.My haste is very great. Farewell; hie home.HELENA.Pray, sir, your pardon.BERTRAM.Well, what would you say?HELENA.I am not worthy of the wealth I owe;Nor dare I say ’tis mine, and yet it is;But, like a timorous thief, most fain would stealWhat law does vouch mine own.BERTRAM.What would you have?HELENA.Something; and scarce so much; nothing indeed.I would not tell you what I would, my lord. Faith, yes,Strangers and foes do sunder and not kiss.BERTRAM.I pray you, stay not, but in haste to horse.HELENA.I shall not break your bidding, good my lord.Where are my other men, monsieur?Farewell, Exit Helena.BERTRAM.Go thou toward home, where I will never comeWhilst I can shake my sword or hear the drum.Away, and for our flight.PAROLLES.Bravely, coragio! Exeunt.ACT III.SCENE I. Florence. A room in the Duke’s palace. Flourish. Enter the Duke of Florence attended; two French Lords, and Soldiers.DUKE.So that, from point to point, now have you heardThe fundamental reasons of this war,Whose great decision hath much blood let forth,And more thirsts after.FIRST LORD.Holy seems the quarrelUpon your Grace’s part; black and fearfulOn the opposer.DUKE.Therefore we marvel much our cousin FranceWould, in so just a business, shut his bosomAgainst our borrowing prayers.SECOND LORD.Good my lord,The reasons of our state I cannot yield,But like a common and an outward manThat the great figure of a council framesBy self-unable motion; therefore dare notSay what I think of it, since I have foundMyself in my incertain grounds to failAs often as I guess’d.DUKE.Be it his pleasure.FIRST LORD.But I am sure the younger of our nature,That surfeit on their ease, will day by dayCome here for physic.DUKE.Welcome shall they be;And all the honours that can fly from usShall on them settle. You know your places well;When better fall, for your avails they fell.Tomorrow to the field. Flourish. Exeunt.SCENE II. Rossillon. A room in the Countess’s palace. Enter Countess and Clown.COUNTESS.It hath happen’d all as I would have had it, save that he comes notalong with her.CLOWN.By my troth, I take my young lord to be a very melancholy man.COUNTESS.By what observance, I pray you?CLOWN.Why, he will look upon his boot and sing; mend the ruff and sing; askquestions and sing; pick his teeth and sing. I know a man that had thistrick of melancholy sold a goodly manor for a song.COUNTESS.Let me see what he writes, and when he means to come. Opening a letter.CLOWN.I have no mind to Isbel since I was at court. Our old lings and ourIsbels o’ th’ country are nothing like your old ling and your Isbels o’th’ court. The brains of my Cupid’s knock’d out, and I begin to love,as an old man loves money, with no stomach.COUNTESS.What have we here?CLOWN.E’en that you have there. Exit.COUNTESS.Reads. I have sent you a daughter-in-law; she hath recovered theking and undone me. I have wedded her, not bedded her, and sworn tomake the “not” eternal. You shall hear I am run away; know it beforethe report come. If there be breadth enough in the world, I will hold along distance. My duty to you.              Your unfortunate son,                            BERTRAM.This is not well, rash and unbridled boy,To fly the favours of so good a king,To pluck his indignation on thy headBy the misprizing of a maid too virtuousFor the contempt of empire. Enter Clown.CLOWN.O madam, yonder is heavy news within between two soldiers and my younglady.COUNTESS.What is the matter?CLOWN.Nay, there is some comfort in the news, some comfort; your son will notbe kill’d so soon as I thought he would.COUNTESS.Why should he be kill’d?CLOWN.So say I, madam, if he run away, as I hear he does; the danger is instanding to’t; that’s the loss of men, though it be the getting ofchildren. Here they come will tell you more. For my part, I only hearyour son was run away. Exit. Enter Helena and the two Gentlemen.FIRST GENTLEMAN.Save you, good madam.HELENA.Madam, my lord is gone, for ever gone.SECOND GENTLEMAN.Do not say so.COUNTESS.Think upon patience. Pray you, gentlemen,—I have felt so many quirks of joy and griefThat the first face of neither on the startCan woman me unto ’t. Where is my son, I pray you?SECOND GENTLEMAN.Madam, he’s gone to serve the Duke of Florence;We met him thitherward, for thence we came,And, after some despatch in hand at court,Thither we bend again.HELENA.Look on this letter, madam; here’s my passport.Reads. When thou canst get the ring upon my finger, which nevershall come off, and show me a child begotten of thy body that I amfather to, then call me husband; but in such a “then” I write a“never”.This is a dreadful sentence.COUNTESS.Brought you this letter, gentlemen?FIRST GENTLEMAN.Ay, madam; And for the contents’ sake, are sorry for our pains.COUNTESS.I pr’ythee, lady, have a better cheer;If thou engrossest all the griefs are thine,Thou robb’st me of a moiety. He was my son,But I do wash his name out of my blood,And thou art all my child. Towards Florence is he?SECOND GENTLEMAN.Ay, madam.COUNTESS.And to be a soldier?SECOND GENTLEMAN.Such is his noble purpose, and, believe’t,The duke will lay upon him all the honourThat good convenience claims.COUNTESS.Return you thither?FIRST GENTLEMAN.Ay, madam, with the swiftest wing of speed.HELENA.Reads. Till I have no wife, I have nothing in France.’Tis bitter.COUNTESS.Find you that there?HELENA.Ay, madam.FIRST GENTLEMAN.’Tis but the boldness of his hand haply, which his heart was notconsenting to.COUNTESS.Nothing in France until he have no wife!There’s nothing here that is too good for himBut only she, and she deserves a lordThat twenty such rude boys might tend upon,And call her hourly mistress. Who was with him?FIRST GENTLEMAN.A servant only, and a gentleman which I have sometime known.COUNTESS.Parolles, was it not?FIRST GENTLEMAN.Ay, my good lady, he.COUNTESS.A very tainted fellow, and full of wickedness.My son corrupts a well-derived natureWith his inducement.FIRST GENTLEMAN.Indeed, good lady,The fellow has a deal of that too much,Which holds him much to have.COUNTESS.Y’are welcome, gentlemen.I will entreat you, when you see my son,To tell him that his sword can never winThe honour that he loses: more I’ll entreat youWritten to bear along.SECOND GENTLEMAN.We serve you, madam,In that and all your worthiest affairs.COUNTESS.Not so, but as we change our courtesies.Will you draw near? Exeunt Countess and Gentlemen.HELENA.“Till I have no wife, I have nothing in France.”Nothing in France until he has no wife!Thou shalt have none, Rossillon, none in France;Then hast thou all again. Poor lord, is’t IThat chase thee from thy country, and exposeThose tender limbs of thine to the eventOf the none-sparing war? And is it IThat drive thee from the sportive court, where thouWast shot at with fair eyes, to be the markOf smoky muskets? O you leaden messengers,That ride upon the violent speed of fire,Fly with false aim; move the still-peering air,That sings with piercing; do not touch my lord.Whoever shoots at him, I set him there;Whoever charges on his forward breast,I am the caitiff that do hold him to’t;And though I kill him not, I am the causeHis death was so effected. Better ’twereI met the ravin lion when he roar’dWith sharp constraint of hunger; better ’twereThat all the miseries which nature owesWere mine at once. No; come thou home, Rossillon,Whence honour but of danger wins a scar,As oft it loses all. I will be gone;My being here it is that holds thee hence.Shall I stay here to do’t? No, no, althoughThe air of paradise did fan the house,And angels offic’d all. I will be gone,That pitiful rumour may report my flightTo consolate thine ear. Come, night; end, day;For with the dark, poor thief, I’ll steal away. Exit.SCENE III. Florence. Before the Duke’s palace. Flourish. Enter the Duke of Florence, Bertram, drum and trumpets, Soldiers, Parolles.DUKE.The general of our horse thou art, and we,Great in our hope, lay our best love and credenceUpon thy promising fortune.BERTRAM.Sir, it isA charge too heavy for my strength; but yetWe’ll strive to bear it for your worthy sakeTo th’extreme edge of hazard.DUKE.Then go thou forth;And fortune play upon thy prosperous helm,As thy auspicious mistress!BERTRAM.This very day,Great Mars, I put myself into thy file;Make me but like my thoughts, and I shall proveA lover of thy drum, hater of love. Exeunt.SCENE IV. Rossillon. A room in the Countess’s palace. Enter Countess and Steward.COUNTESS.Alas! and would you take the letter of her?Might you not know she would do as she has done,By sending me a letter? Read it again.STEWARD.Reads. I am Saint Jaques’ pilgrim, thither gone.Ambitious love hath so in me offendedThat barefoot plod I the cold ground upon,With sainted vow my faults to have amended.Write, write, that from the bloody course of warMy dearest master, your dear son, may hie.Bless him at home in peace, whilst I from farHis name with zealous fervour sanctify.His taken labours bid him me forgive;I, his despiteful Juno, sent him forthFrom courtly friends, with camping foes to live,Where death and danger dog the heels of worth.He is too good and fair for death and me;Whom I myself embrace to set him free.COUNTESS.Ah, what sharp stings are in her mildest words!Rynaldo, you did never lack advice so muchAs letting her pass so; had I spoke with her,I could have well diverted her intents,Which thus she hath prevented.STEWARD.Pardon me, madam;If I had given you this at over-night,She might have been o’erta’en; and yet she writesPursuit would be but vain.COUNTESS.What angel shallBless this unworthy husband? He cannot thrive,Unless her prayers, whom heaven delights to hearAnd loves to grant, reprieve him from the wrathOf greatest justice. Write, write, Rynaldo,To this unworthy husband of his wife;Let every word weigh heavy of her worth,That he does weigh too light; my greatest grief,Though little he do feel it, set down sharply.Dispatch the most convenient messenger.When haply he shall hear that she is goneHe will return; and hope I may that she,Hearing so much, will speed her foot again,Led hither by pure love. Which of them bothIs dearest to me I have no skill in senseTo make distinction. Provide this messenger.My heart is heavy, and mine age is weak;Grief would have tears, and sorrow bids me speak. Exeunt.SCENE V. Without the walls of Florence. Enter an old Widow of Florence, Diana, Violenta, Mariana and other Citizens.WIDOW.Nay, come; for if they do approach the city, we shall lose all thesight.DIANA.They say the French count has done most honourable service.WIDOW.It is reported that he has taken their great’st commander, and thatwith his own hand he slew the duke’s brother. A tucket afar off.We have lost our labour; they are gone a contrary way. Hark! you mayknow by their trumpets.MARIANA.Come, let’s return again, and suffice ourselves with the report of it.Well, Diana, take heed of this French earl; the honour of a maid is hername; and no legacy is so rich as honesty.WIDOW.I have told my neighbour how you have been solicited by a gentleman hiscompanion.MARIANA.I know that knave; hang him! one Parolles; a filthy officer he is inthose suggestions for the young earl. Beware of them, Diana; theirpromises, enticements, oaths, tokens, and all these engines of lust,are not the things they go under; many a maid hath been seduced bythem; and the misery is, example, that so terrible shows in the wreckof maidenhood, cannot for all that dissuade succession, but that theyare limed with the twigs that threaten them. I hope I need not toadvise you further; but I hope your own grace will keep you where youare, though there were no further danger known but the modesty which isso lost.DIANA.You shall not need to fear me. Enter Helena in the dress of a pilgrim.WIDOW.I hope so. Look, here comes a pilgrim. I know she will lie at my house;thither they send one another; I’ll question her. God save you,pilgrim! Whither are bound?HELENA.To Saint Jaques le Grand.Where do the palmers lodge, I do beseech you?WIDOW.At the Saint Francis here, beside the port.HELENA.Is this the way? A march afar.WIDOW.Ay, marry, is’t. Hark you, they come this way.If you will tarry, holy pilgrim,But till the troops come by,I will conduct you where you shall be lodg’d;The rather for I think I know your hostessAs ample as myself.HELENA.Is it yourself?WIDOW.If you shall please so, pilgrim.HELENA.I thank you, and will stay upon your leisure.WIDOW.You came, I think, from France?HELENA.I did so.WIDOW.Here you shall see a countryman of yoursThat has done worthy service.HELENA.His name, I pray you.DIANA.The Count Rossillon. Know you such a one?HELENA.But by the ear, that hears most nobly of him;His face I know not.DIANA.Whatsome’er he is,He’s bravely taken here. He stole from France,As ’tis reported, for the king had married himAgainst his liking. Think you it is so?HELENA.Ay, surely, mere the truth; I know his lady.DIANA.There is a gentleman that serves the countReports but coarsely of her.HELENA.What’s his name?DIANA.Monsieur Parolles.HELENA.O, I believe with him,In argument of praise, or to the worthOf the great count himself, she is too meanTo have her name repeated; all her deservingIs a reserved honesty, and thatI have not heard examin’d.DIANA.Alas, poor lady!’Tis a hard bondage to become the wifeOf a detesting lord.WIDOW.Ay, right; good creature, wheresoe’er she is,Her heart weighs sadly. This young maid might do herA shrewd turn, if she pleas’d.HELENA.How do you mean?Maybe the amorous count solicits herIn the unlawful purpose.WIDOW.He does indeed,And brokes with all that can in such a suitCorrupt the tender honour of a maid;But she is arm’d for him, and keeps her guardIn honestest defence. Enter, with a drum and colours, a party of the Florentine army, Bertram and Parolles.MARIANA.The gods forbid else!WIDOW.So, now they come.That is Antonio, the Duke’s eldest son;That Escalus.HELENA.Which is the Frenchman?DIANA.He;That with the plume; ’tis a most gallant fellow.I would he lov’d his wife; if he were honesterHe were much goodlier. Is’t not a handsome gentleman?HELENA.I like him well.DIANA.’Tis pity he is not honest. Yond’s that same knaveThat leads him to these places. Were I his ladyI would poison that vile rascal.HELENA.Which is he?DIANA.That jack-an-apes with scarfs. Why is he melancholy?HELENA.Perchance he’s hurt i’ the battle.PAROLLES.Lose our drum! Well.MARIANA.He’s shrewdly vex’d at something. Look, he has spied us.WIDOW.Marry, hang you!MARIANA.And your courtesy, for a ring-carrier! Exeunt Bertram, Parolles, Officers and Soldiers.WIDOW.The troop is past. Come, pilgrim, I will bring youWhere you shall host; of enjoin’d penitentsThere’s four or five, to great Saint Jaques bound,Already at my house.HELENA.I humbly thank you.Please it this matron and this gentle maidTo eat with us tonight; the charge and thankingShall be for me; and, to requite you further,I will bestow some precepts of this virgin,Worthy the note.BOTH.We’ll take your offer kindly. Exeunt.SCENE VI. Camp before Florence. Enter Bertram and the two French Lords.FIRST LORD.Nay, good my lord, put him to’t; let him have his way.SECOND LORD.If your lordship find him not a hilding, hold me no more in yourrespect.FIRST LORD.On my life, my lord, a bubble.BERTRAM.Do you think I am so far deceived in him?FIRST LORD.Believe it, my lord, in mine own direct knowledge, without any malice,but to speak of him as my kinsman, he’s a most notable coward, aninfinite and endless liar, an hourly promise-breaker, the owner of noone good quality worthy your lordship’s entertainment.SECOND LORD.It were fit you knew him; lest, reposing too far in his virtue, whichhe hath not, he might at some great and trusty business, in a maindanger fail you.BERTRAM.I would I knew in what particular action to try him.SECOND LORD.None better than to let him fetch off his drum, which you hear him soconfidently undertake to do.FIRST LORD.I with a troop of Florentines will suddenly surprise him; such I willhave whom I am sure he knows not from the enemy; we will bind andhoodwink him so that he shall suppose no other but that he is carriedinto the leaguer of the adversaries when we bring him to our own tents.Be but your lordship present at his examination; if he do not for thepromise of his life, and in the highest compulsion of base fear, offerto betray you, and deliver all the intelligence in his power againstyou, and that with the divine forfeit of his soul upon oath, nevertrust my judgment in anything.SECOND LORD.O, for the love of laughter, let him fetch his drum; he says he has astratagem for’t. When your lordship sees the bottom of his successin’t, and to what metal this counterfeit lump of ore will be melted, ifyou give him not John Drum’s entertainment, your inclining cannot beremoved. Here he comes. Enter Parolles.FIRST LORD.O, for the love of laughter, hinder not the honour of his design: lethim fetch off his drum in any hand.BERTRAM.How now, monsieur! This drum sticks sorely in your disposition.SECOND LORD.A pox on ’t; let it go; ’tis but a drum.PAROLLES.But a drum! Is’t but a drum? A drum so lost! There was excellentcommand, to charge in with our horse upon our own wings, and to rendour own soldiers.SECOND LORD.That was not to be blam’d in the command of the service; it was adisaster of war that Caesar himself could not have prevented, if he hadbeen there to command.BERTRAM.Well, we cannot greatly condemn our success: some dishonour we had inthe loss of that drum, but it is not to be recovered.PAROLLES.It might have been recovered.BERTRAM.It might, but it is not now.PAROLLES.It is to be recovered. But that the merit of service is seldomattributed to the true and exact performer, I would have that drum oranother, or hic jacet.BERTRAM.Why, if you have a stomach, to’t, monsieur, if you think your mysteryin stratagem can bring this instrument of honour again into his nativequarter, be magnanimous in the enterprise, and go on; I will grace theattempt for a worthy exploit; if you speed well in it, the duke shallboth speak of it and extend to you what further becomes his greatness,even to the utmost syllable of your worthiness.PAROLLES.By the hand of a soldier, I will undertake it.BERTRAM.But you must not now slumber in it.PAROLLES.I’ll about it this evening; and I will presently pen down my dilemmas,encourage myself in my certainty, put myself into my mortalpreparation; and by midnight look to hear further from me.BERTRAM.May I be bold to acquaint his grace you are gone about it?PAROLLES.I know not what the success will be, my lord, but the attempt I vow.BERTRAM.I know th’art valiant; and to the possibility of thy soldiership, willsubscribe for thee. Farewell.PAROLLES.I love not many words. Exit.FIRST LORD.No more than a fish loves water. Is not this a strange fellow, my lord,that so confidently seems to undertake this business, which he knows isnot to be done; damns himself to do, and dares better be damn’d than todo’t.SECOND LORD.You do not know him, my lord, as we do; certain it is that he willsteal himself into a man’s favour, and for a week escape a great dealof discoveries, but when you find him out, you have him ever after.BERTRAM.Why, do you think he will make no deed at all of this, that soseriously he does address himself unto?FIRST LORD.None in the world; but return with an invention, and clap upon you twoor three probable lies; but we have almost embossed him; you shall seehis fall tonight; for indeed he is not for your lordship’s respect.SECOND LORD.We’ll make you some sport with the fox ere we case him. He was firstsmok’d by the old Lord Lafew; when his disguise and he is parted, tellme what a sprat you shall find him; which you shall see this verynight.FIRST LORD.I must go look my twigs. He shall be caught.BERTRAM.Your brother, he shall go along with me.FIRST LORD.As’t please your lordship. I’ll leave you. Exit.BERTRAM.Now will I lead you to the house, and show youThe lass I spoke of.SECOND LORD.But you say she’s honest.BERTRAM.That’s all the fault. I spoke with her but once,And found her wondrous cold, but I sent to herBy this same coxcomb that we have i’ the windTokens and letters which she did re-send,And this is all I have done. She’s a fair creature;Will you go see her?SECOND LORD.With all my heart, my lord. Exeunt.SCENE VII. Florence. A room in the Widow’s house. Enter Helena and Widow.HELENA.If you misdoubt me that I am not she,I know not how I shall assure you further,But I shall lose the grounds I work upon.WIDOW.Though my estate be fall’n, I was well born,Nothing acquainted with these businesses,And would not put my reputation nowIn any staining act.HELENA.Nor would I wish you.First give me trust, the count he is my husband,And what to your sworn counsel I have spokenIs so from word to word; and then you cannot,By the good aid that I of you shall borrow,Err in bestowing it.WIDOW.I should believe you,For you have show’d me that which well approvesY’are great in fortune.HELENA.Take this purse of gold,And let me buy your friendly help thus far,Which I will over-pay, and pay againWhen I have found it. The count he woos your daughterLays down his wanton siege before her beauty,Resolv’d to carry her; let her in fine consent,As we’ll direct her how ’tis best to bear it.Now his important blood will naught denyThat she’ll demand; a ring the county wears,That downward hath succeeded in his houseFrom son to son, some four or five descentsSince the first father wore it. This ring he holdsIn most rich choice; yet, in his idle fire,To buy his will, it would not seem too dear,Howe’er repented after.WIDOW.Now I seeThe bottom of your purpose.HELENA.You see it lawful then; it is no moreBut that your daughter, ere she seems as won,Desires this ring; appoints him an encounter;In fine, delivers me to fill the time,Herself most chastely absent. After,To marry her, I’ll add three thousand crownsTo what is pass’d already.WIDOW.I have yielded.Instruct my daughter how she shall persever,That time and place with this deceit so lawfulMay prove coherent. Every night he comesWith musics of all sorts, and songs compos’dTo her unworthiness: it nothing steads usTo chide him from our eaves; for he persistsAs if his life lay on ’t.HELENA.Why then tonightLet us assay our plot; which, if it speed,Is wicked meaning in a lawful deed,And lawful meaning in a lawful act,Where both not sin, and yet a sinful fact.But let’s about it. Exeunt.ACT IV.SCENE I. Without the Florentine camp. Enter first Lord with five or six Soldiers in ambush.FIRST LORD.He can come no other way but by this hedge-corner. When you sally uponhim, speak what terrible language you will; though you understand itnot yourselves, no matter; for we must not seem to understand him,unless someone among us, whom we must produce for an interpreter.FIRST SOLDIER.Good captain, let me be th’ interpreter.FIRST LORD.Art not acquainted with him? Knows he not thy voice?FIRST SOLDIER.No sir, I warrant you.FIRST LORD.But what linsey-woolsey has thou to speak to us again?FIRST SOLDIER.E’en such as you speak to me.FIRST LORD.He must think us some band of strangers i’ the adversary’sentertainment. Now he hath a smack of all neighbouring languages,therefore we must every one be a man of his own fancy; not to know whatwe speak one to another, so we seem to know, is to know straight ourpurpose: choughs’ language, gabble enough, and good enough. As for you,interpreter, you must seem very politic. But couch, ho! Here he comes;to beguile two hours in a sleep, and then to return and swear the lieshe forges. Enter Parolles.PAROLLES.Ten o’clock. Within these three hours ’twill be time enough to go home.What shall I say I have done? It must be a very plausive invention thatcarries it. They begin to smoke me, and disgraces have of late knock’dtoo often at my door. I find my tongue is too foolhardy, but my hearthath the fear of Mars before it, and of his creatures, not daring thereports of my tongue.FIRST LORD.Aside. This is the first truth that e’er thine own tongue wasguilty of.PAROLLES.What the devil should move me to undertake the recovery of this drum,being not ignorant of the impossibility, and knowing I had no suchpurpose? I must give myself some hurts, and say I got them in exploit;yet slight ones will not carry it. They will say “Came you off with solittle?” and great ones I dare not give. Wherefore, what’s theinstance? Tongue, I must put you into a butter-woman’s mouth, and buymyself another of Bajazet’s mule, if you prattle me into these perils.FIRST LORD.Aside. Is it possible he should know what he is, and be that he is?PAROLLES.I would the cutting of my garments would serve the turn, or thebreaking of my Spanish sword.FIRST LORD.Aside. We cannot afford you so.PAROLLES.Or the baring of my beard, and to say it was in stratagem.FIRST LORD.Aside. ’Twould not do.PAROLLES.Or to drown my clothes, and say I was stripped.FIRST LORD.Aside. Hardly serve.PAROLLES.Though I swore I leap’d from the window of the citadel,—FIRST LORD.Aside. How deep?PAROLLES.Thirty fathom.FIRST LORD.Aside. Three great oaths would scarce make that be believed.PAROLLES.I would I had any drum of the enemy’s; I would swear I recover’d it.FIRST LORD.Aside. You shall hear one anon.PAROLLES.A drum now of the enemy’s! Alarum within.FIRST LORD.Throca movousus, cargo, cargo, cargo.ALL.Cargo, cargo, cargo, villianda par corbo, cargo. They seize and blindfold him.PAROLLES.O, ransom, ransom! Do not hide mine eyes.FIRST SOLDIER.Boskos thromuldo boskos.PAROLLES.I know you are the Muskos’ regiment,And I shall lose my life for want of language.If there be here German, or Dane, Low Dutch,Italian, or French, let him speak to me,I’ll discover that which shall undo the Florentine.FIRST SOLDIER.Boskos vauvado. I understand thee, and can speak thy tongue.Kerelybonto. Sir, Betake thee to thy faith, for seventeen poniardsare at thy bosom.PAROLLES.O!FIRST SOLDIER.O, pray, pray, pray!Manka revania dulche.FIRST LORD.Oscorbidulchos volivorco.FIRST SOLDIER.The General is content to spare thee yet;And, hoodwink’d as thou art, will lead thee onTo gather from thee. Haply thou mayst informSomething to save thy life.PAROLLES.O, let me live,And all the secrets of our camp I’ll show,Their force, their purposes; nay, I’ll speak thatWhich you will wonder at.FIRST SOLDIER.But wilt thou faithfully?PAROLLES.If I do not, damn me.FIRST SOLDIER.Acordo linta.Come on; thou art granted space. Exit, with Parolles guarded. A short alarum within.FIRST LORD.Go tell the Count Rossillon and my brotherWe have caught the woodcock, and will keep him muffledTill we do hear from them.SECOND SOLDIER.Captain, I will.FIRST LORD.’A will betray us all unto ourselves;Inform on that.SECOND SOLDIER.So I will, sir.FIRST LORD.Till then I’ll keep him dark, and safely lock’d. Exeunt.SCENE II. Florence. A room in the Widow’s house. Enter Bertram and Diana.BERTRAM.They told me that your name was Fontybell.DIANA.No, my good lord, Diana.BERTRAM.Titled goddess;And worth it, with addition! But, fair soul,In your fine frame hath love no quality?If the quick fire of youth light not your mind,You are no maiden but a monument;When you are dead, you should be such a oneAs you are now; for you are cold and stern,And now you should be as your mother wasWhen your sweet self was got.DIANA.She then was honest.BERTRAM.So should you be.DIANA.No.My mother did but duty; such, my lord,As you owe to your wife.BERTRAM.No more a’ that!I pr’ythee do not strive against my vows;I was compell’d to her; but I love theeBy love’s own sweet constraint, and will for everDo thee all rights of service.DIANA.Ay, so you serve usTill we serve you; but when you have our roses,You barely leave our thorns to prick ourselves,And mock us with our bareness.BERTRAM.How have I sworn?DIANA.’Tis not the many oaths that makes the truth,But the plain single vow that is vow’d true.What is not holy, that we swear not by,But take the highest to witness: then, pray you, tell me,If I should swear by Jove’s great attributesI lov’d you dearly, would you believe my oathsWhen I did love you ill? This has no holding,To swear by him whom I protest to loveThat I will work against him. Therefore your oathsAre words and poor conditions; but unseal’d,—At least in my opinion.BERTRAM.Change it, change it.Be not so holy-cruel. Love is holy;And my integrity ne’er knew the craftsThat you do charge men with. Stand no more off,But give thyself unto my sick desires,Who then recovers. Say thou art mine, and everMy love as it begins shall so persever.DIANA.I see that men make hopes in such a case,That we’ll forsake ourselves. Give me that ring.BERTRAM.I’ll lend it thee, my dear, but have no powerTo give it from me.DIANA.Will you not, my lord?BERTRAM.It is an honour ’longing to our house,Bequeathed down from many ancestors,Which were the greatest obloquy i’ the worldIn me to lose.DIANA.Mine honour’s such a ring;My chastity’s the jewel of our house,Bequeathed down from many ancestors,Which were the greatest obloquy i’ the worldIn me to lose. Thus your own proper wisdomBrings in the champion honour on my partAgainst your vain assault.BERTRAM.Here, take my ring;My house, mine honour, yea, my life be thine,And I’ll be bid by thee.DIANA.When midnight comes, knock at my chamber window;I’ll order take my mother shall not hear.Now will I charge you in the band of truth,When you have conquer’d my yet maiden-bed,Remain there but an hour, nor speak to me.My reasons are most strong; and you shall know themWhen back again this ring shall be deliver’d;And on your finger in the night, I’ll putAnother ring, that what in time proceedsMay token to the future our past deeds.Adieu till then; then fail not. You have wonA wife of me, though there my hope be done.BERTRAM.A heaven on earth I have won by wooing thee. Exit.DIANA.For which live long to thank both heaven and me!You may so in the end.My mother told me just how he would woo,As if she sat in’s heart. She says all menHave the like oaths. He had sworn to marry meWhen his wife’s dead; therefore I’ll lie with himWhen I am buried. Since Frenchmen are so braid,Marry that will, I live and die a maid.Only, in this disguise, I think’t no sinTo cozen him that would unjustly win. Exit.SCENE III. The Florentine camp. Enter the two French Lords and two or three Soldiers.FIRST LORD.You have not given him his mother’s letter?SECOND LORD.I have deliv’red it an hour since; there is something in’t that stingshis nature; for on the reading it, he chang’d almost into another man.FIRST LORD.He has much worthy blame laid upon him for shaking off so good a wifeand so sweet a lady.SECOND LORD.Especially he hath incurred the everlasting displeasure of the king,who had even tun’d his bounty to sing happiness to him. I will tell youa thing, but you shall let it dwell darkly with you.FIRST LORD.When you have spoken it, ’tis dead, and I am the grave of it.SECOND LORD.He hath perverted a young gentlewoman here in Florence, of a mostchaste renown, and this night he fleshes his will in the spoil of herhonour; he hath given her his monumental ring, and thinks himself madein the unchaste composition.FIRST LORD.Now, God delay our rebellion! As we are ourselves, what things are we!SECOND LORD.Merely our own traitors. And as in the common course of all treasons,we still see them reveal themselves till they attain to their abhorr’dends; so he that in this action contrives against his own nobility, inhis proper stream, o’erflows himself.FIRST LORD.Is it not meant damnable in us to be trumpeters of our unlawfulintents? We shall not then have his company tonight?SECOND LORD.Not till after midnight; for he is dieted to his hour.FIRST LORD.That approaches apace. I would gladly have him see his companyanatomized, that he might take a measure of his own judgments, whereinso curiously he had set this counterfeit.SECOND LORD.We will not meddle with him till he come; for his presence must be thewhip of the other.FIRST LORD.In the meantime, what hear you of these wars?SECOND LORD.I hear there is an overture of peace.FIRST LORD.Nay, I assure you, a peace concluded.SECOND LORD.What will Count Rossillon do then? Will he travel higher, or returnagain into France?FIRST LORD.I perceive by this demand, you are not altogether of his council.SECOND LORD.Let it be forbid, sir! So should I be a great deal of his act.FIRST LORD.Sir, his wife some two months since fled from his house. Her pretenceis a pilgrimage to Saint Jaques le Grand; which holy undertaking withmost austere sanctimony she accomplished; and there residing, thetenderness of her nature became as a prey to her grief; in fine, made agroan of her last breath, and now she sings in heaven.SECOND LORD.How is this justified?FIRST LORD.The stronger part of it by her own letters, which makes her story true,even to the point of her death. Her death itself, which could not beher office to say is come, was faithfully confirm’d by the rector ofthe place.SECOND LORD.Hath the count all this intelligence?FIRST LORD.Ay, and the particular confirmations, point from point, to the fullarming of the verity.SECOND LORD.I am heartily sorry that he’ll be glad of this.FIRST LORD.How mightily sometimes we make us comforts of our losses!SECOND LORD.And how mightily some other times we drown our gain in tears! The greatdignity that his valour hath here acquir’d for him shall at home beencountered with a shame as ample.FIRST LORD.The web of our life is of a mingled yarn, good and ill together; ourvirtues would be proud if our faults whipped them not; and our crimeswould despair if they were not cherish’d by our virtues. Enter a Messenger.How now? Where’s your master?MESSENGER.He met the duke in the street, sir; of whom he hath taken a solemnleave: his lordship will next morning for France. The duke hath offeredhim letters of commendations to the king.SECOND LORD.They shall be no more than needful there, if they were more than theycan commend. Enter Bertram.FIRST LORD.They cannot be too sweet for the king’s tartness. Here’s his lordshipnow. How now, my lord, is’t not after midnight?BERTRAM.I have tonight despatch’d sixteen businesses, a month’s length apiece;by an abstract of success: I have congied with the duke, done my adieuwith his nearest; buried a wife, mourn’d for her, writ to my ladymother I am returning, entertained my convoy, and between these mainparcels of despatch effected many nicer needs: the last was thegreatest, but that I have not ended yet.SECOND LORD.If the business be of any difficulty and this morning your departurehence, it requires haste of your lordship.BERTRAM.I mean the business is not ended, as fearing to hear of it hereafter.But shall we have this dialogue between the Fool and the Soldier? Come,bring forth this counterfeit module has deceiv’d me like adouble-meaning prophesier.SECOND LORD.Bring him forth. Exeunt Soldiers.Has sat i’ the stocks all night, poor gallant knave.BERTRAM.No matter; his heels have deserv’d it, in usurping his spurs so long.How does he carry himself?FIRST LORD.I have told your lordship already; the stocks carry him. But to answeryou as you would be understood: he weeps like a wench that had shed hermilk; he hath confessed himself to Morgan, whom he supposes to be afriar, from the time of his remembrance to this very instant disasterof his setting i’ the stocks. And what think you he hath confessed?BERTRAM.Nothing of me, has he?SECOND LORD.His confession is taken, and it shall be read to his face; if yourlordship be in’t, as I believe you are, you must have the patience tohear it. Enter Soldiers with Parolles.BERTRAM.A plague upon him! muffled! he can say nothing of me; hush, hush!FIRST LORD.Hoodman comes! Portotartarossa.FIRST SOLDIER.He calls for the tortures. What will you say without ’em?PAROLLES.I will confess what I know without constraint. If ye pinch me like apasty I can say no more.FIRST SOLDIER.Bosko chimurcho.FIRST LORD.Boblibindo chicurmurco.FIRST SOLDIER.You are a merciful general. Our general bids you answer to what I shallask you out of a note.PAROLLES.And truly, as I hope to live.FIRST SOLDIER.‘First demand of him how many horse the duke is strong.’ What say youto that?PAROLLES.Five or six thousand; but very weak and unserviceable: the troops areall scattered, and the commanders very poor rogues, upon my reputationand credit, and as I hope to live.FIRST SOLDIER.Shall I set down your answer so?PAROLLES.Do. I’ll take the sacrament on ’t, how and which way you will.BERTRAM.All’s one to him. What a past-saving slave is this!FIRST LORD.You are deceived, my lord; this is Monsieur Parolles, the gallantmilitarist (that was his own phrase), that had the whole theoric of warin the knot of his scarf, and the practice in the chape of his dagger.SECOND LORD.I will never trust a man again for keeping his sword clean, nor believehe can have everything in him by wearing his apparel neatly.FIRST SOLDIER.Well, that’s set down.PAROLLES.‘Five or six thousand horse’ I said—I will say true—or thereabouts, setdown,—for I’ll speak truth.FIRST LORD.He’s very near the truth in this.BERTRAM.But I con him no thanks for’t in the nature he delivers it.PAROLLES.Poor rogues, I pray you say.FIRST SOLDIER.Well, that’s set down.PAROLLES.I humbly thank you, sir; a truth’s a truth, the rogues are marvellouspoor.FIRST SOLDIER.‘Demand of him of what strength they are a-foot.’ What say you to that?PAROLLES.By my troth, sir, if I were to live this present hour, I will telltrue. Let me see: Spurio, a hundred and fifty, Sebastian, so many;Corambus, so many; Jaques, so many; Guiltian, Cosmo, Lodowick, andGratii, two hundred fifty each; mine own company, Chitopher, Vaumond,Bentii, two hundred fifty each: so that the muster-file, rotten andsound, upon my life, amounts not to fifteen thousand poll; half of thewhich dare not shake the snow from off their cassocks lest they shakethemselves to pieces.BERTRAM.What shall be done to him?FIRST LORD.Nothing, but let him have thanks. Demand of him my condition, and whatcredit I have with the duke.FIRST SOLDIER.Well, that’s set down. ‘You shall demand of him whether one CaptainDumaine be i’ the camp, a Frenchman; what his reputation is with theduke, what his valour, honesty and expertness in wars; or whether hethinks it were not possible with well-weighing sums of gold to corrupthim to a revolt.’ What say you to this? What do you know of it?PAROLLES.I beseech you, let me answer to the particular of the inter’gatories.Demand them singly.FIRST SOLDIER.Do you know this Captain Dumaine?PAROLLES.I know him: he was a botcher’s ’prentice in Paris, from whence he waswhipped for getting the shrieve’s fool with child, a dumb innocent thatcould not say him nay. First Lord lifts up his hand in anger.BERTRAM.Nay, by your leave, hold your hands; though I know his brains areforfeit to the next tile that falls.FIRST SOLDIER.Well, is this captain in the Duke of Florence’s camp?PAROLLES.Upon my knowledge, he is, and lousy.FIRST LORD.Nay, look not so upon me; we shall hear of your lordship anon.FIRST SOLDIER.What is his reputation with the duke?PAROLLES.The duke knows him for no other but a poor officer of mine, and writ tome this other day to turn him out o’ the band. I think I have hisletter in my pocket.FIRST SOLDIER.Marry, we’ll search.PAROLLES.In good sadness, I do not know; either it is there or it is upon afile, with the duke’s other letters, in my tent.FIRST SOLDIER.Here ’tis; here’s a paper; shall I read it to you?PAROLLES.I do not know if it be it or no.BERTRAM.Our interpreter does it well.FIRST LORD.Excellently.FIRST SOLDIER.Reads. Dian, the Count’s a fool, and full of gold.PAROLLES.That is not the duke’s letter, sir; that is an advertisement to aproper maid in Florence, one Diana, to take heed of the allurement ofone Count Rossillon, a foolish idle boy, but for all that very ruttish.I pray you, sir, put it up again.FIRST SOLDIER.Nay, I’ll read it first by your favour.PAROLLES.My meaning in’t, I protest, was very honest in the behalf of the maid;for I knew the young count to be a dangerous and lascivious boy, who isa whale to virginity, and devours up all the fry it finds.BERTRAM.Damnable both sides rogue!FIRST SOLDIER.Reads.When he swears oaths, bid him drop gold, and take it;After he scores, he never pays the score.Half won is match well made; match, and well make it;He ne’er pays after-debts, take it before.And say a soldier, ‘Dian,’ told thee this:Men are to mell with, boys are not to kiss;For count of this, the count’s a fool, I know it,Who pays before, but not when he does owe it.Thine, as he vow’d to thee in thine ear,                                     PAROLLES.BERTRAM.He shall be whipped through the army with this rhyme in’s forehead.SECOND LORD.This is your devoted friend, sir, the manifold linguist, and thearmipotent soldier.BERTRAM.I could endure anything before but a cat, and now he’s a cat to me.FIRST SOLDIER.I perceive, sir, by our general’s looks we shall be fain to hang you.PAROLLES.My life, sir, in any case. Not that I am afraid to die, but that, myoffences being many, I would repent out the remainder of nature. Let melive, sir, in a dungeon, i’ the stocks, or anywhere, so I may live.FIRST SOLDIER.We’ll see what may be done, so you confess freely. Therefore, once moreto this Captain Dumaine: you have answer’d to his reputation with theduke, and to his valour. What is his honesty?PAROLLES.He will steal, sir, an egg out of a cloister: for rapes and ravishmentshe parallels Nessus. He professes not keeping of oaths; in breakingthem he is stronger than Hercules. He will lie, sir, with suchvolubility that you would think truth were a fool: drunkenness is hisbest virtue, for he will be swine-drunk, and in his sleep he doeslittle harm, save to his bedclothes about him; but they know hisconditions and lay him in straw. I have but little more to say, sir, ofhis honesty; he has everything that an honest man should not have; whatan honest man should have, he has nothing.FIRST LORD.I begin to love him for this.BERTRAM.For this description of thine honesty? A pox upon him for me, he’s moreand more a cat.FIRST SOLDIER.What say you to his expertness in war?PAROLLES.Faith, sir, has led the drum before the English tragedians,—to beliehim I will not,—and more of his soldiership I know not, except in thatcountry he had the honour to be the officer at a place there calledMile-end, to instruct for the doubling of files. I would do the manwhat honour I can, but of this I am not certain.FIRST LORD.He hath out-villain’d villainy so far that the rarity redeems him.BERTRAM.A pox on him! He’s a cat still.FIRST SOLDIER.His qualities being at this poor price, I need not to ask you if goldwill corrupt him to revolt.PAROLLES.Sir, for a quart d’ecu he will sell the fee-simple of his salvation,the inheritance of it, and cut the entail from all remainders, and aperpetual succession for it perpetually.FIRST SOLDIER.What’s his brother, the other Captain Dumaine?SECOND LORD.Why does he ask him of me?FIRST SOLDIER.What’s he?PAROLLES.E’en a crow o’ the same nest; not altogether so great as the first ingoodness, but greater a great deal in evil. He excels his brother for acoward, yet his brother is reputed one of the best that is. In aretreat he outruns any lackey; marry, in coming on he has the cramp.FIRST SOLDIER.If your life be saved, will you undertake to betray the Florentine?PAROLLES.Ay, and the captain of his horse, Count Rossillon.FIRST SOLDIER.I’ll whisper with the general, and know his pleasure.PAROLLES.Aside. I’ll no more drumming; a plague of all drums! Only to seemto deserve well, and to beguile the supposition of that lasciviousyoung boy the count, have I run into this danger: yet who would havesuspected an ambush where I was taken?FIRST SOLDIER.There is no remedy, sir, but you must die. The general says you thathave so traitorously discovered the secrets of your army, and made suchpestiferous reports of men very nobly held, can serve the world for nohonest use; therefore you must die. Come, headsman, off with his head.PAROLLES.O Lord! sir, let me live, or let me see my death.FIRST SOLDIER.That shall you, and take your leave of all your friends. Unmuffling him.So, look about you; know you any here?BERTRAM.Good morrow, noble captain.SECOND LORD.God bless you, Captain Parolles.FIRST LORD.God save you, noble captain.SECOND LORD.Captain, what greeting will you to my Lord Lafew? I am for France.FIRST LORD.Good Captain, will you give me a copy of the sonnet you writ to Dianain behalf of the Count Rossillon? And I were not a very coward I’dcompel it of you; but fare you well. Exeunt Bertram, Lords &c.FIRST SOLDIER.You are undone, captain: all but your scarf; that has a knot on’t yet.PAROLLES.Who cannot be crushed with a plot?FIRST SOLDIER.If you could find out a country where but women were that had receivedso much shame, you might begin an impudent nation. Fare ye well, sir. Iam for France too; we shall speak of you there. Exeunt.PAROLLES.Yet am I thankful. If my heart were great’Twould burst at this. Captain I’ll be no more,But I will eat, and drink, and sleep as softAs captain shall. Simply the thing I amShall make me live. Who knows himself a braggart,Let him fear this; for it will come to passThat every braggart shall be found an ass.Rust, sword; cool, blushes; and, Parolles liveSafest in shame; being fool’d, by foolery thrive.There’s place and means for every man alive.I’ll after them. Exit.SCENE IV. Florence. A room in the Widow’s house. Enter Helena, Widow and Diana.HELENA.That you may well perceive I have not wrong’d youOne of the greatest in the Christian worldShall be my surety; fore whose throne ’tis needful,Ere I can perfect mine intents, to kneel.Time was I did him a desired office,Dear almost as his life; which gratitudeThrough flinty Tartar’s bosom would peep forth,And answer thanks. I duly am inform’dHis grace is at Marseilles; to which placeWe have convenient convoy. You must knowI am supposed dead. The army breaking,My husband hies him home, where, heaven aiding,And by the leave of my good lord the king,We’ll be before our welcome.WIDOW.Gentle madam,You never had a servant to whose trustYour business was more welcome.HELENA.Nor you, mistress,Ever a friend whose thoughts more truly labourTo recompense your love. Doubt not but heavenHath brought me up to be your daughter’s dower,As it hath fated her to be my motiveAnd helper to a husband. But, O strange men!That can such sweet use make of what they hate,When saucy trusting of the cozen’d thoughtsDefiles the pitchy night; so lust doth playWith what it loathes, for that which is away.But more of this hereafter. You, Diana,Under my poor instructions yet must sufferSomething in my behalf.DIANA.Let death and honestyGo with your impositions, I am yoursUpon your will to suffer.HELENA.Yet, I pray you;But with the word the time will bring on summer,When briers shall have leaves as well as thorns,And be as sweet as sharp. We must away;Our waggon is prepar’d, and time revives us.All’s well that ends well; still the fine’s the crown.Whate’er the course, the end is the renown. Exeunt.SCENE V. Rossillon. A room in the Countess’s palace. Enter Clown, Countess and Lafew.LAFEW.No, no, no, your son was misled with a snipt-taffeta fellow there,whose villanous saffron would have made all the unbak’d and doughyyouth of a nation in his colour. Your daughter-in-law had been alive atthis hour, and your son here at home, more advanc’d by the king than bythat red-tail’d humble-bee I speak of.COUNTESS.I would I had not known him; it was the death of the most virtuousgentlewoman that ever nature had praise for creating. If she hadpartaken of my flesh and cost me the dearest groans of a mother, Icould not have owed her a more rooted love.LAFEW.’Twas a good lady, ’twas a good lady. We may pick a thousand salads erewe light on such another herb.CLOWN.Indeed, sir, she was the sweet marjoram of the salad, or, rather, theherb of grace.LAFEW.They are not herbs, you knave; they are nose-herbs.CLOWN.I am no great Nebuchadnezzar, sir; I have not much skill in grass.LAFEW.Whether dost thou profess thyself,—a knave or a fool?CLOWN.A fool, sir, at a woman’s service, and a knave at a man’s.LAFEW.Your distinction?CLOWN.I would cozen the man of his wife, and do his service.LAFEW.So you were a knave at his service indeed.CLOWN.And I would give his wife my bauble, sir, to do her service.LAFEW.I will subscribe for thee; thou art both knave and fool.CLOWN.At your service.LAFEW.No, no, no.CLOWN.Why, sir, if I cannot serve you, I can serve as great a prince as youare.LAFEW.Who’s that? a Frenchman?CLOWN.Faith, sir, ’a has an English name; but his phisnomy is more hotter inFrance than there.LAFEW.What prince is that?CLOWN.The black prince, sir; alias the prince of darkness; alias the devil.LAFEW.Hold thee, there’s my purse. I give thee not this to suggest thee fromthy master thou talk’st of; serve him still.CLOWN.I am a woodland fellow, sir, that always loved a great fire, and themaster I speak of ever keeps a good fire. But sure he is the prince ofthe world; let his nobility remain in’s court. I am for the house withthe narrow gate, which I take to be too little for pomp to enter: somethat humble themselves may, but the many will be too chill and tender,and they’ll be for the flow’ry way that leads to the broad gate and thegreat fire.LAFEW.Go thy ways, I begin to be a-weary of thee; and I tell thee so before,because I would not fall out with thee. Go thy ways; let my horses bewell look’d to, without any tricks.CLOWN.If I put any tricks upon ’em, sir, they shall be jades’ tricks, whichare their own right by the law of nature. Exit.LAFEW.A shrewd knave, and an unhappy.COUNTESS.So he is. My lord that’s gone made himself much sport out of him; byhis authority he remains here, which he thinks is a patent for hissauciness; and indeed he has no pace, but runs where he will.LAFEW.I like him well; ’tis not amiss. And I was about to tell you, since Iheard of the good lady’s death, and that my lord your son was upon hisreturn home, I moved the king my master to speak in the behalf of mydaughter; which, in the minority of them both, his majesty out of aself-gracious remembrance did first propose. His highness hath promis’dme to do it; and, to stop up the displeasure he hath conceived againstyour son, there is no fitter matter. How does your ladyship like it?COUNTESS.With very much content, my lord, and I wish it happily effected.LAFEW.His highness comes post from Marseilles, of as able body as when henumber’d thirty; he will be here tomorrow, or I am deceived by him thatin such intelligence hath seldom fail’d.COUNTESS.It rejoices me that I hope I shall see him ere I die. I have lettersthat my son will be here tonight. I shall beseech your lordship toremain with me till they meet together.LAFEW.Madam, I was thinking with what manners I might safely be admitted.COUNTESS.You need but plead your honourable privilege.LAFEW.Lady, of that I have made a bold charter; but, I thank my God, it holdsyet. Enter Clown.CLOWN.O madam, yonder’s my lord your son with a patch of velvet on’s face;whether there be a scar under’t or no, the velvet knows; but ’tis agoodly patch of velvet. His left cheek is a cheek of two pile and ahalf, but his right cheek is worn bare.LAFEW.A scar nobly got, or a noble scar, is a good livery of honour; sobelike is that.CLOWN.But it is your carbonado’d face.LAFEW.Let us go see your son, I pray you. I long to talk with the young noblesoldier.CLOWN.Faith, there’s a dozen of ’em, with delicate fine hats, and mostcourteous feathers, which bow the head and nod at every man. Exeunt.ACT V.SCENE I. Marseilles. A street. Enter Helena, Widow and Diana with two Attendants.HELENA.But this exceeding posting day and nightMust wear your spirits low. We cannot help it.But since you have made the days and nights as one,To wear your gentle limbs in my affairs,Be bold you do so grow in my requitalAs nothing can unroot you. In happy time;— Enter a Gentleman.This man may help me to his majesty’s ear,If he would spend his power. God save you, sir.GENTLEMAN.And you.HELENA.Sir, I have seen you in the court of France.GENTLEMAN.I have been sometimes there.HELENA.I do presume, sir, that you are not fallenFrom the report that goes upon your goodness;And therefore, goaded with most sharp occasions,Which lay nice manners by, I put you toThe use of your own virtues, for the whichI shall continue thankful.GENTLEMAN.What’s your will?HELENA.That it will please youTo give this poor petition to the king,And aid me with that store of power you haveTo come into his presence.GENTLEMAN.The king’s not here.HELENA.Not here, sir?GENTLEMAN.Not indeed.He hence remov’d last night, and with more hasteThan is his use.WIDOW.Lord, how we lose our pains!HELENA.All’s well that ends well yet,Though time seem so adverse and means unfit.I do beseech you, whither is he gone?GENTLEMAN.Marry, as I take it, to Rossillon;Whither I am going.HELENA.I do beseech you, sir,Since you are like to see the king before me,Commend the paper to his gracious hand,Which I presume shall render you no blame,But rather make you thank your pains for it.I will come after you with what good speedOur means will make us means.GENTLEMAN.This I’ll do for you.HELENA.And you shall find yourself to be well thank’d,Whate’er falls more. We must to horse again.Go, go, provide. Exeunt.SCENE II. Rossillon. The inner court of the Countess’s palace. Enter Clown and Parolles.PAROLLES.Good Monsieur Lavache, give my Lord Lafew this letter; I have ere now,sir, been better known to you, when I have held familiarity withfresher clothes; but I am now, sir, muddied in Fortune’s mood, andsmell somewhat strong of her strong displeasure.CLOWN.Truly, Fortune’s displeasure is but sluttish, if it smell so stronglyas thou speak’st of. I will henceforth eat no fish of Fortune’sbuttering. Pr’ythee, allow the wind.PAROLLES.Nay, you need not to stop your nose, sir. I spake but by a metaphor.CLOWN.Indeed, sir, if your metaphor stink, I will stop my nose, or againstany man’s metaphor. Pr’ythee, get thee further.PAROLLES.Pray you, sir, deliver me this paper.CLOWN.Foh, pr’ythee stand away. A paper from Fortune’s close-stool to give toa nobleman! Look here he comes himself. Enter Lafew.Here is a pur of Fortune’s, sir, or of Fortune’s cat, but not amusk-cat, that has fallen into the unclean fishpond of her displeasure,and as he says, is muddied withal. Pray you, sir, use the carp as youmay, for he looks like a poor, decayed, ingenious, foolish, rascallyknave. I do pity his distress in my similes of comfort, and leave himto your lordship. Exit.PAROLLES.My lord, I am a man whom Fortune hath cruelly scratch’d.LAFEW.And what would you have me to do? ’Tis too late to pare her nails now.Wherein have you played the knave with Fortune that she should scratchyou, who of herself is a good lady, and would not have knaves thrivelong under her? There’s a quart d’ecu for you. Let the justices makeyou and Fortune friends; I am for other business.PAROLLES.I beseech your honour to hear me one single word.LAFEW.You beg a single penny more. Come, you shall ha’t; save your word.PAROLLES.My name, my good lord, is Parolles.LAFEW.You beg more than word then. Cox my passion! Give me your hand. Howdoes your drum?PAROLLES.O my good lord, you were the first that found me.LAFEW.Was I, in sooth? And I was the first that lost thee.PAROLLES.It lies in you, my lord, to bring me in some grace, for you did bringme out.LAFEW.Out upon thee, knave! dost thou put upon me at once both the office ofGod and the devil? One brings the in grace, and the other brings theeout. Trumpets sound.The king’s coming; I know by his trumpets. Sirrah, inquire furtherafter me. I had talk of you last night; though you are a fool and aknave, you shall eat. Go to; follow.PAROLLES.I praise God for you. Exeunt.SCENE III. The same. A room in the Countess’s palace. Flourish. Enter King, Countess, Lafew, Lords, Gentlemen, Guards &c.KING.We lost a jewel of her, and our esteemWas made much poorer by it; but your son,As mad in folly, lack’d the sense to knowHer estimation home.COUNTESS.’Tis past, my liege,And I beseech your majesty to make itNatural rebellion, done i’ the blaze of youth,When oil and fire, too strong for reason’s force,O’erbears it and burns on.KING.My honour’d lady,I have forgiven and forgotten all,Though my revenges were high bent upon him,And watch’d the time to shoot.LAFEW.This I must say,—But first, I beg my pardon,—the young lordDid to his majesty, his mother, and his lady,Offence of mighty note; but to himselfThe greatest wrong of all. He lost a wifeWhose beauty did astonish the surveyOf richest eyes; whose words all ears took captive;Whose dear perfection hearts that scorn’d to serveHumbly call’d mistress.KING.Praising what is lostMakes the remembrance dear. Well, call him hither;We are reconcil’d, and the first view shall killAll repetition. Let him not ask our pardon;The nature of his great offence is dead,And deeper than oblivion do we buryTh’ incensing relics of it. Let him approachA stranger, no offender; and inform himSo ’tis our will he should.GENTLEMAN.I shall, my liege. Exit Gentleman.KING.What says he to your daughter? Have you spoke?LAFEW.All that he is hath reference to your highness.KING.Then shall we have a match. I have letters sent meThat sets him high in fame. Enter Bertram.LAFEW.He looks well on ’t.KING.I am not a day of season,For thou mayst see a sunshine and a hailIn me at once. But to the brightest beamsDistracted clouds give way; so stand thou forth;The time is fair again.BERTRAM.My high-repented blamesDear sovereign, pardon to me.KING.All is whole.Not one word more of the consumed time.Let’s take the instant by the forward top;For we are old, and on our quick’st decreesTh’inaudible and noiseless foot of timeSteals ere we can effect them. You rememberThe daughter of this lord?BERTRAM.Admiringly, my liege. At firstI stuck my choice upon her, ere my heartDurst make too bold herald of my tongue:Where the impression of mine eye infixing,Contempt his scornful perspective did lend me,Which warp’d the line of every other favour,Scorn’d a fair colour, or express’d it stolen,Extended or contracted all proportionsTo a most hideous object. Thence it cameThat she whom all men prais’d, and whom myself,Since I have lost, have lov’d, was in mine eyeThe dust that did offend it.KING.Well excus’d:That thou didst love her, strikes some scores awayFrom the great compt: but love that comes too late,Like a remorseful pardon slowly carried,To the great sender turns a sour offence,Crying, That’s good that’s gone. Our rash faultsMake trivial price of serious things we have,Not knowing them until we know their grave.Oft our displeasures, to ourselves unjust,Destroy our friends, and after weep their dust:Our own love waking cries to see what’s done,While shameful hate sleeps out the afternoon.Be this sweet Helen’s knell, and now forget her.Send forth your amorous token for fair Maudlin.The main consents are had, and here we’ll stayTo see our widower’s second marriage-day.COUNTESS.Which better than the first, O dear heaven, bless!Or, ere they meet, in me, O nature, cesse!LAFEW.Come on, my son, in whom my house’s nameMust be digested; give a favour from you,To sparkle in the spirits of my daughter,That she may quickly come. Bertram gives a ring to Lafew.By my old beard,And ev’ry hair that’s on ’t, Helen that’s deadWas a sweet creature: such a ring as this,The last that e’er I took her leave at court,I saw upon her finger.BERTRAM.Hers it was not.KING.Now, pray you, let me see it; for mine eye,While I was speaking, oft was fasten’d to it.This ring was mine; and when I gave it HelenI bade her, if her fortunes ever stoodNecessitied to help, that by this tokenI would relieve her. Had you that craft to ’reave herOf what should stead her most?BERTRAM.My gracious sovereign,Howe’er it pleases you to take it so,The ring was never hers.COUNTESS.Son, on my life,I have seen her wear it; and she reckon’d itAt her life’s rate.LAFEW.I am sure I saw her wear it.BERTRAM.You are deceiv’d, my lord; she never saw it.In Florence was it from a casement thrown me,Wrapp’d in a paper, which contain’d the nameOf her that threw it. Noble she was, and thoughtI stood engag’d; but when I had subscrib’dTo mine own fortune, and inform’d her fullyI could not answer in that course of honourAs she had made the overture, she ceas’d,In heavy satisfaction, and would neverReceive the ring again.KING.Plutus himself,That knows the tinct and multiplying medicine,Hath not in nature’s mystery more scienceThan I have in this ring. ’Twas mine, ’twas Helen’s,Whoever gave it you. Then if you knowThat you are well acquainted with yourself,Confess ’twas hers, and by what rough enforcementYou got it from her. She call’d the saints to suretyThat she would never put it from her fingerUnless she gave it to yourself in bed,Where you have never come, or sent it usUpon her great disaster.BERTRAM.She never saw it.KING.Thou speak’st it falsely, as I love mine honour,And mak’st conjectural fears to come into meWhich I would fain shut out. If it should proveThat thou art so inhuman,—’twill not prove so:And yet I know not, thou didst hate her deadly.And she is dead; which nothing but to closeHer eyes myself, could win me to believeMore than to see this ring. Take him away. Guards seize Bertram.My fore-past proofs, howe’er the matter fall,Shall tax my fears of little vanity,Having vainly fear’d too little. Away with him.We’ll sift this matter further.BERTRAM.If you shall proveThis ring was ever hers, you shall as easyProve that I husbanded her bed in Florence,Where she yet never was. Exit, guarded.KING.I am wrapp’d in dismal thinkings. Enter a Gentleman.GENTLEMAN.Gracious sovereign,Whether I have been to blame or no, I know not:Here’s a petition from a Florentine,Who hath for four or five removes come shortTo tender it herself. I undertook it,Vanquish’d thereto by the fair grace and speechOf the poor suppliant, who by this, I know,Is here attending: her business looks in herWith an importing visage, and she told meIn a sweet verbal brief, it did concernYour highness with herself.KING.Reads. Upon his many protestations to marry me when his wife wasdead, I blush to say it, he won me. Now is the Count Rossillon awidower; his vows are forfeited to me, and my honour’s paid to him. Hestole from Florence, taking no leave, and I follow him to his countryfor justice. Grant it me, O king, in you it best lies; otherwise aseducer flourishes, and a poor maid is undone.                                    DIANA CAPILET.LAFEW.I will buy me a son-in-law in a fair, and toll for this. I’ll none ofhim.KING.The heavens have thought well on thee, Lafew,To bring forth this discovery. Seek these suitors.Go speedily, and bring again the count. Exeunt Gentleman and some Attendants.I am afeard the life of Helen, lady,Was foully snatch’d.COUNTESS.Now, justice on the doers! Enter Bertram, guarded.KING.I wonder, sir, since wives are monsters to you,And that you fly them as you swear them lordship,Yet you desire to marry. What woman’s that? Enter Widow and Diana.DIANA.I am, my lord, a wretched Florentine,Derived from the ancient Capilet;My suit, as I do understand, you know,And therefore know how far I may be pitied.WIDOW.I am her mother, sir, whose age and honourBoth suffer under this complaint we bring,And both shall cease, without your remedy.KING.Come hither, count; do you know these women?BERTRAM.My lord, I neither can nor will denyBut that I know them. Do they charge me further?DIANA.Why do you look so strange upon your wife?BERTRAM.She’s none of mine, my lord.DIANA.If you shall marry,You give away this hand, and that is mine,You give away heaven’s vows, and those are mine,You give away myself, which is known mine;For I by vow am so embodied yoursThat she which marries you must marry me,Either both or none.LAFEW.To Bertram Your reputation comes too short for my daughter; you areno husband for her.BERTRAM.My lord, this is a fond and desperate creatureWhom sometime I have laugh’d with. Let your highnessLay a more noble thought upon mine honourThan for to think that I would sink it here.KING.Sir, for my thoughts, you have them ill to friendTill your deeds gain them; fairer prove your honourThan in my thought it lies!DIANA.Good my lord,Ask him upon his oath, if he does thinkHe had not my virginity.KING.What say’st thou to her?BERTRAM.She’s impudent, my lord,And was a common gamester to the camp.DIANA.He does me wrong, my lord; if I were soHe might have bought me at a common price.Do not believe him. O, behold this ring,Whose high respect and rich validityDid lack a parallel; yet for all thatHe gave it to a commoner o’ the camp,If I be one.COUNTESS.He blushes, and ’tis it.Of six preceding ancestors, that gemConferr’d by testament to th’ sequent issue,Hath it been owed and worn. This is his wife;That ring’s a thousand proofs.KING.Methought you saidYou saw one here in court could witness it.DIANA.I did, my lord, but loath am to produceSo bad an instrument; his name’s Parolles.LAFEW.I saw the man today, if man he be.KING.Find him, and bring him hither. Exit an Attendant.BERTRAM.What of him?He’s quoted for a most perfidious slave,With all the spots o’ the world tax’d and debauch’d:Whose nature sickens but to speak a truth.Am I or that or this for what he’ll utter,That will speak anything?KING.She hath that ring of yours.BERTRAM.I think she has. Certain it is I lik’d herAnd boarded her i’ the wanton way of youth.She knew her distance, and did angle for me,Madding my eagerness with her restraint,As all impediments in fancy’s courseAre motives of more fancy; and in fine,Her infinite cunning with her modern grace,Subdu’d me to her rate; she got the ring,And I had that which any inferior mightAt market-price have bought.DIANA.I must be patient.You that have turn’d off a first so noble wifeMay justly diet me. I pray you yet,—Since you lack virtue, I will lose a husband—Send for your ring, I will return it home,And give me mine again.BERTRAM.I have it not.KING.What ring was yours, I pray you?DIANA.Sir, much likeThe same upon your finger.KING.Know you this ring? This ring was his of late.DIANA.And this was it I gave him, being abed.KING.The story then goes false you threw it himOut of a casement.DIANA.I have spoke the truth. Enter Attendant with Parolles.BERTRAM.My lord, I do confess the ring was hers.KING.You boggle shrewdly; every feather starts you.Is this the man you speak of?DIANA.Ay, my lord.KING.Tell me, sirrah, but tell me true I charge you,Not fearing the displeasure of your master,Which on your just proceeding, I’ll keep off,—By him and by this woman here what know you?PAROLLES.So please your majesty, my master hath been an honourable gentleman.Tricks he hath had in him, which gentlemen have.KING.Come, come, to the purpose. Did he love this woman?PAROLLES.Faith, sir, he did love her; but how?KING.How, I pray you?PAROLLES.He did love her, sir, as a gentleman loves a woman.KING.How is that?PAROLLES.He lov’d her, sir, and lov’d her not.KING.As thou art a knave and no knave.What an equivocal companion is this!PAROLLES.I am a poor man, and at your majesty’s command.LAFEW.He’s a good drum, my lord, but a naughty orator.DIANA.Do you know he promised me marriage?PAROLLES.Faith, I know more than I’ll speak.KING.But wilt thou not speak all thou know’st?PAROLLES.Yes, so please your majesty. I did go between them as I said; but morethan that, he loved her, for indeed he was mad for her, and talked ofSatan, and of Limbo, and of furies, and I know not what: yet I was inthat credit with them at that time that I knew of their going to bed;and of other motions, as promising her marriage, and things which wouldderive me ill will to speak of; therefore I will not speak what I know.KING.Thou hast spoken all already, unless thou canst say they are married;but thou art too fine in thy evidence; therefore stand aside. Thisring, you say, was yours?DIANA.Ay, my good lord.KING.Where did you buy it? Or who gave it you?DIANA.It was not given me, nor I did not buy it.KING.Who lent it you?DIANA.It was not lent me neither.KING.Where did you find it then?DIANA.I found it not.KING.If it were yours by none of all these ways,How could you give it him?DIANA.I never gave it him.LAFEW.This woman’s an easy glove, my lord; she goes off and on at pleasure.KING.This ring was mine, I gave it his first wife.DIANA.It might be yours or hers for ought I know.KING.Take her away, I do not like her now.To prison with her. And away with him.Unless thou tell’st me where thou hadst this ring,Thou diest within this hour.DIANA.I’ll never tell you.KING.Take her away.DIANA.I’ll put in bail, my liege.KING.I think thee now some common customer.DIANA.By Jove, if ever I knew man, ’twas you.KING.Wherefore hast thou accus’d him all this while?DIANA.Because he’s guilty, and he is not guilty.He knows I am no maid, and he’ll swear to’t:I’ll swear I am a maid, and he knows not.Great King, I am no strumpet, by my life;I am either maid, or else this old man’s wife. Pointing to Lafew.KING.She does abuse our ears; to prison with her.DIANA.Good mother, fetch my bail. Stay, royal sir; Exit Widow.The jeweller that owes the ring is sent for,And he shall surety me. But for this lordWho hath abus’d me as he knows himself,Though yet he never harm’d me, here I quit him.He knows himself my bed he hath defil’d;And at that time he got his wife with child.Dead though she be, she feels her young one kick;So there’s my riddle: one that’s dead is quick,And now behold the meaning. Enter Widow with Helena.KING.Is there no exorcistBeguiles the truer office of mine eyes?Is’t real that I see?HELENA.No, my good lord;’Tis but the shadow of a wife you see,The name, and not the thing.BERTRAM.Both, both. O, pardon!HELENA.O, my good lord, when I was like this maid;I found you wondrous kind. There is your ring,And, look you, here’s your letter. This it says,‘When from my finger you can get this ring,And is by me with child, &c.’ This is done;Will you be mine now you are doubly won?BERTRAM.If she, my liege, can make me know this clearly,I’ll love her dearly, ever, ever dearly.HELENA.If it appear not plain, and prove untrue,Deadly divorce step between me and you!O my dear mother, do I see you living?LAFEW.Mine eyes smell onions; I shall weep anon.to Parolles Good Tom Drum, lend me a handkercher.So, I thank thee. Wait on me home, I’ll make sport with thee.Let thy courtesies alone, they are scurvy ones.KING.Let us from point to point this story know,To make the even truth in pleasure flow.To Diana. If thou beest yet a fresh uncropped flower,Choose thou thy husband, and I’ll pay thy dower;For I can guess that by thy honest aid,Thou kept’st a wife herself, thyself a maid.Of that and all the progress more and less,Resolvedly more leisure shall express.All yet seems well, and if it end so meet,The bitter past, more welcome is the sweet. Flourish.EPILOGUEThe king’s a beggar, now the play is done;All is well ended if this suit be won,That you express content; which we will payWith strife to please you, day exceeding day.Ours be your patience then, and yours our parts;Your gentle hands lend us, and take our hearts. Exeunt omnes.'"
            ]
          },
          "metadata": {
            "tags": []
          },
          "execution_count": 6
        }
      ]
    },
    {
      "cell_type": "code",
      "metadata": {
        "id": "1RwkFaxaoFKT",
        "colab_type": "code",
        "colab": {}
      },
      "source": [
        "# Encode Data as Chars\n",
        "\n",
        "# Gather all text \n",
        "\n",
        "# Why? 1. See all possible characters 2. For training / splitting later\n",
        "\n",
        "text = \" \".join(df_toc['text'])\n",
        "\n",
        "# Unique Characters\n",
        "\n",
        "chars = list(set(text))\n",
        "\n",
        "# Lookup Tables\n",
        "\n",
        "char_int = {c:i for i, c in enumerate(chars)} \n",
        "int_char = {i:c for i, c in enumerate(chars)} "
      ],
      "execution_count": 7,
      "outputs": []
    },
    {
      "cell_type": "code",
      "metadata": {
        "id": "iB-SzuGUoQPv",
        "colab_type": "code",
        "colab": {
          "base_uri": "https://localhost:8080/",
          "height": 34
        },
        "outputId": "4d6d0b64-532a-42a5-d9e0-ee7804ba0732"
      },
      "source": [
        "# Number of unique characters\n",
        "\n",
        "len(chars)"
      ],
      "execution_count": 8,
      "outputs": [
        {
          "output_type": "execute_result",
          "data": {
            "text/plain": [
              "99"
            ]
          },
          "metadata": {
            "tags": []
          },
          "execution_count": 8
        }
      ]
    },
    {
      "cell_type": "code",
      "metadata": {
        "id": "kxXt47gNoah4",
        "colab_type": "code",
        "colab": {
          "base_uri": "https://localhost:8080/",
          "height": 1000
        },
        "outputId": "8b9704e3-af2d-4218-8d7a-1201e014e013"
      },
      "source": [
        "# See integer:characters\n",
        "\n",
        "int_char"
      ],
      "execution_count": 9,
      "outputs": [
        {
          "output_type": "execute_result",
          "data": {
            "text/plain": [
              "{0: 'ê',\n",
              " 1: 'Q',\n",
              " 2: 's',\n",
              " 3: '1',\n",
              " 4: 'c',\n",
              " 5: '-',\n",
              " 6: '’',\n",
              " 7: 'Y',\n",
              " 8: 'k',\n",
              " 9: '\"',\n",
              " 10: 'â',\n",
              " 11: 'X',\n",
              " 12: 'L',\n",
              " 13: '|',\n",
              " 14: 'é',\n",
              " 15: 'z',\n",
              " 16: 'W',\n",
              " 17: '0',\n",
              " 18: 'p',\n",
              " 19: '.',\n",
              " 20: 'l',\n",
              " 21: 'E',\n",
              " 22: '2',\n",
              " 23: 'ç',\n",
              " 24: '7',\n",
              " 25: 'r',\n",
              " 26: 'É',\n",
              " 27: 't',\n",
              " 28: 'S',\n",
              " 29: '”',\n",
              " 30: 'R',\n",
              " 31: 'B',\n",
              " 32: 'H',\n",
              " 33: ')',\n",
              " 34: 'o',\n",
              " 35: ';',\n",
              " 36: 'C',\n",
              " 37: 'u',\n",
              " 38: '“',\n",
              " 39: 'n',\n",
              " 40: 'P',\n",
              " 41: 'g',\n",
              " 42: 'N',\n",
              " 43: 'æ',\n",
              " 44: 'j',\n",
              " 45: '%',\n",
              " 46: '&',\n",
              " 47: '3',\n",
              " 48: '`',\n",
              " 49: 'd',\n",
              " 50: '$',\n",
              " 51: '(',\n",
              " 52: '!',\n",
              " 53: 'Æ',\n",
              " 54: 'm',\n",
              " 55: 'è',\n",
              " 56: 'î',\n",
              " 57: 'y',\n",
              " 58: 'U',\n",
              " 59: '8',\n",
              " 60: 'v',\n",
              " 61: 'x',\n",
              " 62: 'O',\n",
              " 63: \"'\",\n",
              " 64: 'A',\n",
              " 65: '6',\n",
              " 66: 'œ',\n",
              " 67: '—',\n",
              " 68: ':',\n",
              " 69: 'q',\n",
              " 70: '\\\\',\n",
              " 71: '9',\n",
              " 72: 'i',\n",
              " 73: '‘',\n",
              " 74: '?',\n",
              " 75: '}',\n",
              " 76: 'Z',\n",
              " 77: 'à',\n",
              " 78: 'f',\n",
              " 79: '4',\n",
              " 80: '@',\n",
              " 81: 'I',\n",
              " 82: ' ',\n",
              " 83: ',',\n",
              " 84: '\\t',\n",
              " 85: 'T',\n",
              " 86: 'w',\n",
              " 87: 'a',\n",
              " 88: 'h',\n",
              " 89: 'J',\n",
              " 90: 'D',\n",
              " 91: 'e',\n",
              " 92: 'G',\n",
              " 93: 'V',\n",
              " 94: 'b',\n",
              " 95: 'F',\n",
              " 96: 'M',\n",
              " 97: '5',\n",
              " 98: 'K'}"
            ]
          },
          "metadata": {
            "tags": []
          },
          "execution_count": 9
        }
      ]
    },
    {
      "cell_type": "code",
      "metadata": {
        "id": "kzNVIBaopFP1",
        "colab_type": "code",
        "colab": {
          "base_uri": "https://localhost:8080/",
          "height": 34
        },
        "outputId": "fd9fd6dc-9228-49b5-b3f7-a1cc12e8e5fb"
      },
      "source": [
        "# Create the sequence data\n",
        "\n",
        "maxlen = 40\n",
        "step = 5\n",
        "\n",
        "encoded = [char_int[c] for c in text]\n",
        "\n",
        "sequences = [] # Each element is 40 chars long\n",
        "next_char = [] # One element for each sequence\n",
        "\n",
        "for i in range(0, len(encoded) - maxlen, step):\n",
        "    \n",
        "    sequences.append(encoded[i : i + maxlen])\n",
        "    next_char.append(encoded[i + maxlen])\n",
        "    \n",
        "print('sequences: ', len(sequences))"
      ],
      "execution_count": 10,
      "outputs": [
        {
          "output_type": "stream",
          "text": [
            "sequences:  1059264\n"
          ],
          "name": "stdout"
        }
      ]
    },
    {
      "cell_type": "code",
      "metadata": {
        "id": "VG-50BGRpYjE",
        "colab_type": "code",
        "colab": {
          "base_uri": "https://localhost:8080/",
          "height": 697
        },
        "outputId": "93581bdb-ea2a-4c5b-ab12-563acd1d1c43"
      },
      "source": [
        "# Check sequence 42\n",
        "\n",
        "sequences[42]"
      ],
      "execution_count": 11,
      "outputs": [
        {
          "output_type": "execute_result",
          "data": {
            "text/plain": [
              "[27,\n",
              " 88,\n",
              " 91,\n",
              " 82,\n",
              " 98,\n",
              " 72,\n",
              " 39,\n",
              " 41,\n",
              " 6,\n",
              " 2,\n",
              " 82,\n",
              " 18,\n",
              " 87,\n",
              " 20,\n",
              " 87,\n",
              " 4,\n",
              " 91,\n",
              " 19,\n",
              " 28,\n",
              " 4,\n",
              " 91,\n",
              " 39,\n",
              " 91,\n",
              " 82,\n",
              " 81,\n",
              " 81,\n",
              " 19,\n",
              " 82,\n",
              " 30,\n",
              " 34,\n",
              " 2,\n",
              " 2,\n",
              " 72,\n",
              " 20,\n",
              " 20,\n",
              " 34,\n",
              " 39,\n",
              " 19,\n",
              " 82,\n",
              " 64]"
            ]
          },
          "metadata": {
            "tags": []
          },
          "execution_count": 11
        }
      ]
    },
    {
      "cell_type": "code",
      "metadata": {
        "id": "VoXzrzO1pklo",
        "colab_type": "code",
        "colab": {
          "base_uri": "https://localhost:8080/",
          "height": 697
        },
        "outputId": "4d5808a5-ee63-43cd-fd71-053623703d68"
      },
      "source": [
        " # Check what sequence 0 prints\n",
        " \n",
        "for i in sequences[0]:\n",
        "    print(int_char[i])"
      ],
      "execution_count": 12,
      "outputs": [
        {
          "output_type": "stream",
          "text": [
            "A\n",
            "L\n",
            "L\n",
            "’\n",
            "S\n",
            " \n",
            "W\n",
            "E\n",
            "L\n",
            "L\n",
            " \n",
            "T\n",
            "H\n",
            "A\n",
            "T\n",
            " \n",
            "E\n",
            "N\n",
            "D\n",
            "S\n",
            " \n",
            "W\n",
            "E\n",
            "L\n",
            "L\n",
            "C\n",
            "o\n",
            "n\n",
            "t\n",
            "e\n",
            "n\n",
            "t\n",
            "s\n",
            "A\n",
            "C\n",
            "T\n",
            " \n",
            "I\n",
            "S\n",
            "c\n"
          ],
          "name": "stdout"
        }
      ]
    },
    {
      "cell_type": "code",
      "metadata": {
        "id": "amyOEJLdp6Bq",
        "colab_type": "code",
        "colab": {
          "base_uri": "https://localhost:8080/",
          "height": 34
        },
        "outputId": "8cf1d3de-0bca-4fe8-9fb1-bae65ee508e7"
      },
      "source": [
        "# Next char is one element for each sequence, to help the model keep learning\n",
        "\n",
        "next_char[0], int_char[next_char[0]]"
      ],
      "execution_count": 13,
      "outputs": [
        {
          "output_type": "execute_result",
          "data": {
            "text/plain": [
              "(91, 'e')"
            ]
          },
          "metadata": {
            "tags": []
          },
          "execution_count": 13
        }
      ]
    },
    {
      "cell_type": "code",
      "metadata": {
        "id": "DP7I47cypjHk",
        "colab_type": "code",
        "colab": {}
      },
      "source": [
        "# Create X & y\n",
        "\n",
        "X = np.zeros((len(sequences), maxlen, len(chars)), dtype=np.bool)\n",
        "y = np.zeros((len(sequences),len(chars)), dtype=np.bool)\n",
        "\n",
        "for i, sequence in enumerate(sequences):\n",
        "    for t, char in enumerate(sequence):\n",
        "        X[i,t,char] = 1\n",
        "    y[i, next_char[i]] = 1"
      ],
      "execution_count": 14,
      "outputs": []
    },
    {
      "cell_type": "code",
      "metadata": {
        "id": "bKo_jGWfgDb7",
        "colab_type": "code",
        "colab": {
          "base_uri": "https://localhost:8080/",
          "height": 34
        },
        "outputId": "137a13a3-72d8-4912-d3fa-cac2b2fb4b78"
      },
      "source": [
        "# See X shape\n",
        "\n",
        "X.shape"
      ],
      "execution_count": 15,
      "outputs": [
        {
          "output_type": "execute_result",
          "data": {
            "text/plain": [
              "(1059264, 40, 99)"
            ]
          },
          "metadata": {
            "tags": []
          },
          "execution_count": 15
        }
      ]
    },
    {
      "cell_type": "code",
      "metadata": {
        "id": "85zyaiVCpiV5",
        "colab_type": "code",
        "colab": {
          "base_uri": "https://localhost:8080/",
          "height": 136
        },
        "outputId": "f80c62eb-0c8b-4422-f301-b4f51b6f2145"
      },
      "source": [
        "# Array of characters, like a grid for each character, in each word\n",
        "\n",
        "# ie: no a, b, c or x, y, z in this text, from what is visible.\n",
        "\n",
        "# Keep in mind the first and last characters could be non-alphabet\n",
        "\n",
        "X[0]"
      ],
      "execution_count": 16,
      "outputs": [
        {
          "output_type": "execute_result",
          "data": {
            "text/plain": [
              "array([[False, False, False, ..., False, False, False],\n",
              "       [False, False, False, ..., False, False, False],\n",
              "       [False, False, False, ..., False, False, False],\n",
              "       ...,\n",
              "       [False, False, False, ..., False, False, False],\n",
              "       [False, False, False, ..., False, False, False],\n",
              "       [False, False, False, ..., False, False, False]])"
            ]
          },
          "metadata": {
            "tags": []
          },
          "execution_count": 16
        }
      ]
    },
    {
      "cell_type": "code",
      "metadata": {
        "id": "m6P4mLJwilOa",
        "colab_type": "code",
        "colab": {
          "base_uri": "https://localhost:8080/",
          "height": 1000
        },
        "outputId": "b597422e-4cc6-4b5e-dbfb-1961d79759e7"
      },
      "source": [
        "# See the chars\n",
        "\n",
        "chars"
      ],
      "execution_count": 17,
      "outputs": [
        {
          "output_type": "execute_result",
          "data": {
            "text/plain": [
              "['ê',\n",
              " 'Q',\n",
              " 's',\n",
              " '1',\n",
              " 'c',\n",
              " '-',\n",
              " '’',\n",
              " 'Y',\n",
              " 'k',\n",
              " '\"',\n",
              " 'â',\n",
              " 'X',\n",
              " 'L',\n",
              " '|',\n",
              " 'é',\n",
              " 'z',\n",
              " 'W',\n",
              " '0',\n",
              " 'p',\n",
              " '.',\n",
              " 'l',\n",
              " 'E',\n",
              " '2',\n",
              " 'ç',\n",
              " '7',\n",
              " 'r',\n",
              " 'É',\n",
              " 't',\n",
              " 'S',\n",
              " '”',\n",
              " 'R',\n",
              " 'B',\n",
              " 'H',\n",
              " ')',\n",
              " 'o',\n",
              " ';',\n",
              " 'C',\n",
              " 'u',\n",
              " '“',\n",
              " 'n',\n",
              " 'P',\n",
              " 'g',\n",
              " 'N',\n",
              " 'æ',\n",
              " 'j',\n",
              " '%',\n",
              " '&',\n",
              " '3',\n",
              " '`',\n",
              " 'd',\n",
              " '$',\n",
              " '(',\n",
              " '!',\n",
              " 'Æ',\n",
              " 'm',\n",
              " 'è',\n",
              " 'î',\n",
              " 'y',\n",
              " 'U',\n",
              " '8',\n",
              " 'v',\n",
              " 'x',\n",
              " 'O',\n",
              " \"'\",\n",
              " 'A',\n",
              " '6',\n",
              " 'œ',\n",
              " '—',\n",
              " ':',\n",
              " 'q',\n",
              " '\\\\',\n",
              " '9',\n",
              " 'i',\n",
              " '‘',\n",
              " '?',\n",
              " '}',\n",
              " 'Z',\n",
              " 'à',\n",
              " 'f',\n",
              " '4',\n",
              " '@',\n",
              " 'I',\n",
              " ' ',\n",
              " ',',\n",
              " '\\t',\n",
              " 'T',\n",
              " 'w',\n",
              " 'a',\n",
              " 'h',\n",
              " 'J',\n",
              " 'D',\n",
              " 'e',\n",
              " 'G',\n",
              " 'V',\n",
              " 'b',\n",
              " 'F',\n",
              " 'M',\n",
              " '5',\n",
              " 'K']"
            ]
          },
          "metadata": {
            "tags": []
          },
          "execution_count": 17
        }
      ]
    },
    {
      "cell_type": "code",
      "metadata": {
        "id": "0RXhBc3ftJzz",
        "colab_type": "code",
        "colab": {
          "base_uri": "https://localhost:8080/",
          "height": 34
        },
        "outputId": "cbf82a1f-3034-4899-8376-cdf8331c6362"
      },
      "source": [
        "# See y shape\n",
        "\n",
        "y.shape"
      ],
      "execution_count": 18,
      "outputs": [
        {
          "output_type": "execute_result",
          "data": {
            "text/plain": [
              "(1059264, 99)"
            ]
          },
          "metadata": {
            "tags": []
          },
          "execution_count": 18
        }
      ]
    },
    {
      "cell_type": "code",
      "metadata": {
        "id": "w41Z8Ja3tPyD",
        "colab_type": "code",
        "colab": {
          "base_uri": "https://localhost:8080/",
          "height": 34
        },
        "outputId": "f8f3a598-c1a9-4e8f-d74c-dbe3e5185adb"
      },
      "source": [
        "# Again, \n",
        "\n",
        "# maxlen was set above when creating sequence data and \n",
        "\n",
        "# the number of unique characters remains the same as before\n",
        "\n",
        "(maxlen, len(chars))"
      ],
      "execution_count": 19,
      "outputs": [
        {
          "output_type": "execute_result",
          "data": {
            "text/plain": [
              "(40, 99)"
            ]
          },
          "metadata": {
            "tags": []
          },
          "execution_count": 19
        }
      ]
    },
    {
      "cell_type": "code",
      "metadata": {
        "id": "l-IZe7z5tP6q",
        "colab_type": "code",
        "colab": {}
      },
      "source": [
        "# Build the model: a single LSTM\n",
        "\n",
        "model = Sequential()\n",
        "model.add(LSTM(128, input_shape=(maxlen, len(chars))))\n",
        "model.add(Dense(len(chars), activation='softmax'))\n",
        "model.compile(loss='categorical_crossentropy', optimizer='adam')"
      ],
      "execution_count": 20,
      "outputs": []
    },
    {
      "cell_type": "code",
      "metadata": {
        "id": "3PHmo-b-uDmK",
        "colab_type": "code",
        "colab": {}
      },
      "source": [
        "# Helper function to sample an index from a probability array\n",
        "\n",
        "def sample(preds):\n",
        "\n",
        "    preds = np.asarray(preds).astype('float64')\n",
        "    preds = np.log(preds) / 1\n",
        "    exp_preds = np.exp(preds)\n",
        "    preds = exp_preds / np.sum(exp_preds)\n",
        "    probas = np.random.multinomial(1, preds, 1)\n",
        "    \n",
        "    return np.argmax(probas)"
      ],
      "execution_count": 21,
      "outputs": []
    },
    {
      "cell_type": "code",
      "metadata": {
        "id": "QWSdgPvrvcIA",
        "colab_type": "code",
        "colab": {}
      },
      "source": [
        "# Function invoked at end of each epoch. Prints generated text.\n",
        "\n",
        "def on_epoch_end(epoch, _):\n",
        "    \n",
        "    print()\n",
        "    print('----- Generating text after Epoch: %d' % epoch)\n",
        "    \n",
        "    start_index = random.randint(0, len(text) - maxlen - 1)\n",
        "    \n",
        "    generated = ''\n",
        "    \n",
        "    sentence = text[start_index: start_index + maxlen]\n",
        "    generated += sentence\n",
        "    \n",
        "    print('----- Generating with seed: \"' + sentence + '\"')\n",
        "    sys.stdout.write(generated)\n",
        "    \n",
        "    for i in range(400):\n",
        "        x_pred = np.zeros((1, maxlen, len(chars)))\n",
        "        for t, char in enumerate(sentence):\n",
        "            x_pred[0, t, char_int[char]] = 1\n",
        "            \n",
        "        preds = model.predict(x_pred, verbose=0)[0]\n",
        "        next_index = sample(preds)\n",
        "        next_char = int_char[next_index]\n",
        "        \n",
        "        sentence = sentence[1:] + next_char\n",
        "        \n",
        "        sys.stdout.write(next_char)\n",
        "        sys.stdout.flush()\n",
        "    print()\n",
        "\n",
        "\n",
        "print_callback = LambdaCallback(on_epoch_end=on_epoch_end)"
      ],
      "execution_count": 22,
      "outputs": []
    },
    {
      "cell_type": "code",
      "metadata": {
        "id": "FD1MA82XyOEO",
        "colab_type": "code",
        "colab": {}
      },
      "source": [
        ""
      ],
      "execution_count": null,
      "outputs": []
    },
    {
      "cell_type": "code",
      "metadata": {
        "id": "Mj3USS9iv8Qu",
        "colab_type": "code",
        "colab": {
          "base_uri": "https://localhost:8080/",
          "height": 1000
        },
        "outputId": "daab754f-e566-4920-a3c4-226d5ed8a3de"
      },
      "source": [
        "# Fit the model\n",
        "\n",
        "model.fit(X, y,\n",
        "          batch_size=128,\n",
        "          epochs=10,\n",
        "          callbacks=[print_callback])"
      ],
      "execution_count": 29,
      "outputs": [
        {
          "output_type": "stream",
          "text": [
            "Epoch 1/10\n",
            "8271/8276 [============================>.] - ETA: 0s - loss: 2.1664\n",
            "----- Generating text after Epoch: 0\n",
            "----- Generating with seed: \"er the city, clip your wives, your frien\"\n",
            "er the city, clip your wives, your friend the glino live rideralch as now of conter’ alady bug to the Witnthe, forse peader. Ant ’Wries yoush?  O Pereats, and and your alps leandaPe me thin Hencebid;    A sim your ableares snom gegen hore, Lutelp im treebleve Cefopiest.                             A     gour sure Jarccuk,    Think endonded I many.  BIUS.  Enter,In shanow she moried wo the as there this dejaand Kich fso frolok it lies ou\n",
            "8276/8276 [==============================] - 54s 6ms/step - loss: 2.1662\n",
            "Epoch 2/10\n",
            "8273/8276 [============================>.] - ETA: 0s - loss: 1.9325\n",
            "----- Generating text after Epoch: 1\n",
            "----- Generating with seed: \" matter. How does your ladyship like it?\"\n",
            " matter. How does your ladyship like it? I putwer; all made By strouns,Thy verterOr, whol; bost deamine hominetanty pride that not beade ail hightle.    Lot of Coysmeon Ghe gentle, be to ambonrughous offey lowelst will sirving, he as but ever bide it this mournimatiess an leciuna-worl.    Well ne deatts, it. By toen thes Isenter of you,Sin,Shat Fate, with huild awert hour ligid’s efe, and not at' wischastur, Noo not shot worst namsYou s\n",
            "8276/8276 [==============================] - 55s 7ms/step - loss: 1.9325\n",
            "Epoch 3/10\n",
            "8273/8276 [============================>.] - ETA: 0s - loss: 1.8231\n",
            "----- Generating text after Epoch: 2\n",
            "----- Generating with seed: \"ius Lena speaks not of our purposes;For \"\n",
            "ius Lena speaks not of our purposes;For live that do preapor be.  KING PDRINA. Restro’d compsir's geese in the pears in even in hiss drees.MOCDANIUS.  LEND OF LACY. First with fire that hording to the coust.  MLEMINA.Birg and lentMy the telkaying withoo, my words;    And hears me crupproveing to car.PENEPIA.O the sath, me, to deal.YORDIRSTAWHRLUS.The viet of, heach too; NoberIIs swold fargol afterous,This all wannex braen, thy homst    \n",
            "8276/8276 [==============================] - 57s 7ms/step - loss: 1.8231\n",
            "Epoch 4/10\n",
            "8268/8276 [============================>.] - ETA: 0s - loss: 1.7548\n",
            "----- Generating text after Epoch: 3\n",
            "----- Generating with seed: \" can cite Scripture for his purpose.An e\"\n",
            " can cite Scripture for his purpose.An everyoug’er allonn her in that itHeading th he words? Me heabour to the son her: they, Sood?NEGENT.Gedsunce I heane hose id to see Giented; and again. Withall thou agize and dene’sted this quittle grest you shall make your par'n; thy up.  FROY. That the resse wretter all not,    I knownich, I reare me most bear;    An werm'd flied    Ephemely on his consoup'D.  ROSFOLK. O see of the blotious  BUEFE\n",
            "8276/8276 [==============================] - 55s 7ms/step - loss: 1.7548\n",
            "Epoch 5/10\n",
            "8268/8276 [============================>.] - ETA: 0s - loss: 1.7059\n",
            "----- Generating text after Epoch: 4\n",
            "----- Generating with seed: \" and so forth. Ah, good old Mantuan! I m\"\n",
            " and so forth. Ah, good old Mantuan! I muched! What see is not these discang.As I had thy plaigely. I putly so;I can oune, for Gentlene; which I outh cleipes; all stood-time to    he ray his gentle sworts, for what so king.  NUNT. Take take hild on the aut toull'd fell, eyped,    To her.  GRAGUS. You moy'd intend'd hus herire'    How wearing stread twenty your tloar on to yours    Thy attermup of Yought be wear son'er woll, IMAs thee, t\n",
            "8276/8276 [==============================] - 56s 7ms/step - loss: 1.7058\n",
            "Epoch 6/10\n",
            "8273/8276 [============================>.] - ETA: 0s - loss: 1.6689\n",
            "----- Generating text after Epoch: 5\n",
            "----- Generating with seed: \"TCH.Banquo and Macbeth, all hail!MACBETH\"\n",
            "TCH.Banquo and Macbeth, all hail!MACBETH.To liesemmine on,In cans were fair thy comman presomed londTo to to be the bared to dew, and like Davents Walcest of him then, on it Truntiel. Lord Manity.ROS.Pornon threise neire,I have come that mady sirr stanters not,My kneelow it?  VALUFF. Govy torgh Leathe.SETRARD. Ale about thou word to twe’s upend; nob poins:Betten the heady; I'll this bullow. Tet he then you, mysseed;(’s these to were a b\n",
            "8276/8276 [==============================] - 55s 7ms/step - loss: 1.6689\n",
            "Epoch 7/10\n",
            "8269/8276 [============================>.] - ETA: 0s - loss: 1.6401\n",
            "----- Generating text after Epoch: 6\n",
            "----- Generating with seed: \"re my brother is amorous on Hero, and ha\"\n",
            "re my brother is amorous on Hero, and hadge her, beath virgied;    In id by kiss friends! combrad of seee melfy,    sure eye, Nomusim of aurpo.  JUKI. Des. A woman after water.  QUEEN BURIUS. It sh yeshen frait of County requieds, and rectirityThat men spiritORDELIA.Ye rain, and the gods alone.Then not a by segp white, him and tis; I leod madam of friendTo man know had love the day.  BRIVVARLAUCE. Garding us, and not a sepplamest-curps,\n",
            "8276/8276 [==============================] - 56s 7ms/step - loss: 1.6400\n",
            "Epoch 8/10\n",
            "8269/8276 [============================>.] - ETA: 0s - loss: 1.6169\n",
            "----- Generating text after Epoch: 7\n",
            "----- Generating with seed: \"ys my loving son?    And by thy guess ho\"\n",
            "ys my loving son?    And by thy guess housand honour is      all with as art live to your badnects of amor    This sound; 'tid, thou goin bod unto thee as the appeceOft not must his never inleed!  RADY. Thitiok-pates and    I think'st shall leak of give whichief do uspsippert, Doth    And from them prince of I'll neving this well    Inate our heir of Meyselle, that me: whome paictiek of proclere,Was, sbilinion o’t, read of ison: the tyr\n",
            "8276/8276 [==============================] - 55s 7ms/step - loss: 1.6169\n",
            "Epoch 9/10\n",
            "8267/8276 [============================>.] - ETA: 0s - loss: 1.5980\n",
            "----- Generating text after Epoch: 8\n",
            "----- Generating with seed: \"   And spend her strength with over-matc\"\n",
            "   And spend her strength with over-matched    Madcal will lough and thyself centled me,    Of thee a bent to command thes, and lipt and deedamance  DAYER OF SERVSEN polet show mother would,Why, padom, cannot mather our from still.In my lord. Wherity manks that cor'd first begufe of the veiric.    To Leantly, From hearts a woods. Let’s high’d by heigh,To keet so withorhise, tears his the stite,Leve a man dutchatihe of Giecy.ROMEO.I’ll b\n",
            "8276/8276 [==============================] - 55s 7ms/step - loss: 1.5980\n",
            "Epoch 10/10\n",
            "8275/8276 [============================>.] - ETA: 0s - loss: 1.5820\n",
            "----- Generating text after Epoch: 9\n",
            "----- Generating with seed: \"ls were here,    Disguis'd like Muscovit\"\n",
            "ls were here,    Disguis'd like Muscovitien, ender's natureit'd 'Tis name 'SEDIAS.    What armine gold men to byst rath of    worm, and a dudly face you one young tellek;  That had empson their handsgose of Wrince ’tis your breghable from him to has!That Shoull I my faith have such ale awillock.LOUND.That he thankferityOf me thou belen shore quite too like or lorg.My leesedly his your heartrons and pastalls;Ands to,    For a from the do\n",
            "8276/8276 [==============================] - 55s 7ms/step - loss: 1.5820\n"
          ],
          "name": "stdout"
        },
        {
          "output_type": "execute_result",
          "data": {
            "text/plain": [
              "<tensorflow.python.keras.callbacks.History at 0x7f5ce404c320>"
            ]
          },
          "metadata": {
            "tags": []
          },
          "execution_count": 29
        }
      ]
    },
    {
      "cell_type": "markdown",
      "metadata": {
        "colab_type": "text",
        "id": "zE4a4O7Bp5x1"
      },
      "source": [
        "# Resources and Stretch Goals"
      ]
    },
    {
      "cell_type": "markdown",
      "metadata": {
        "colab_type": "text",
        "id": "uT3UV3gap9H6"
      },
      "source": [
        "## Stretch goals:\n",
        "- Refine the training and generation of text to be able to ask for different genres/styles of Shakespearean text (e.g. plays versus sonnets)\n",
        "- Train a classification model that takes text and returns which work of Shakespeare it is most likely to be from\n",
        "- Make it more performant! Many possible routes here - lean on Keras, optimize the code, and/or use more resources (AWS, etc.)\n",
        "- Revisit the news example from class, and improve it - use categories or tags to refine the model/generation, or train a news classifier\n",
        "- Run on bigger, better data\n",
        "\n",
        "## Resources:\n",
        "- [The Unreasonable Effectiveness of Recurrent Neural Networks](https://karpathy.github.io/2015/05/21/rnn-effectiveness/) - a seminal writeup demonstrating a simple but effective character-level NLP RNN\n",
        "- [Simple NumPy implementation of RNN](https://github.com/JY-Yoon/RNN-Implementation-using-NumPy/blob/master/RNN%20Implementation%20using%20NumPy.ipynb) - Python 3 version of the code from \"Unreasonable Effectiveness\"\n",
        "- [TensorFlow RNN Tutorial](https://github.com/tensorflow/models/tree/master/tutorials/rnn) - code for training a RNN on the Penn Tree Bank language dataset\n",
        "- [4 part tutorial on RNN](http://www.wildml.com/2015/09/recurrent-neural-networks-tutorial-part-1-introduction-to-rnns/) - relates RNN to the vanishing gradient problem, and provides example implementation\n",
        "- [RNN training tips and tricks](https://github.com/karpathy/char-rnn#tips-and-tricks) - some rules of thumb for parameterizing and training your RNN"
      ]
    }
  ]
}