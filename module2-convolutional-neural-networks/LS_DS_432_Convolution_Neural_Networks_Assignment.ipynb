{
  "nbformat": 4,
  "nbformat_minor": 0,
  "metadata": {
    "kernelspec": {
      "display_name": "Python 3.8.2 64-bit",
      "language": "python",
      "name": "python38264bit6fbed7d5dc4f4c788af5198eb1a1d73e"
    },
    "language_info": {
      "codemirror_mode": {
        "name": "ipython",
        "version": 3
      },
      "file_extension": ".py",
      "mimetype": "text/x-python",
      "name": "python",
      "nbconvert_exporter": "python",
      "pygments_lexer": "ipython3",
      "version": "3.8.2-final"
    },
    "nteract": {
      "version": "0.23.1"
    },
    "colab": {
      "name": "LS_DS_432_Convolution_Neural_Networks_Assignment.ipynb",
      "provenance": [],
      "collapsed_sections": []
    },
    "accelerator": "GPU"
  },
  "cells": [
    {
      "cell_type": "markdown",
      "metadata": {
        "id": "1yF9C_OhNxPN",
        "colab_type": "text"
      },
      "source": [
        "<img align=\"left\" src=\"https://lever-client-logos.s3.amazonaws.com/864372b1-534c-480e-acd5-9711f850815c-1524247202159.png\" width=200>\n",
        "<br></br>\n",
        "<br></br>\n",
        "\n",
        "## *Data Science Unit 4 Sprint 3 Assignment 2*\n",
        "# Convolutional Neural Networks (CNNs)"
      ]
    },
    {
      "cell_type": "markdown",
      "metadata": {
        "colab_type": "text",
        "id": "0lfZdD_cp1t5"
      },
      "source": [
        "# Assignment\n",
        "\n",
        "- <a href=\"#p1\">Part 1:</a> Pre-Trained Model\n",
        "- <a href=\"#p2\">Part 2:</a> Custom CNN Model\n",
        "- <a href=\"#p3\">Part 3:</a> CNN with Data Augmentation\n",
        "\n",
        "\n",
        "You will apply three different CNN models to a binary image classification model using Keras. Classify images of Mountains (`./data/train/mountain/*`) and images of forests (`./data/train/forest/*`). Treat mountains as the positive class (1) and the forest images as the negative (zero). \n",
        "\n",
        "|Mountain (+)|Forest (-)|\n",
        "|---|---|\n",
        "|![](https://github.com/johnjdailey/DS-Unit-4-Sprint-3-Deep-Learning/blob/main/module2-convolutional-neural-networks/data/train/mountain/art1131.jpg?raw=1)|![](https://github.com/johnjdailey/DS-Unit-4-Sprint-3-Deep-Learning/blob/main/module2-convolutional-neural-networks/data/validation/forest/cdmc317.jpg?raw=1)|\n",
        "\n",
        "The problem is relatively difficult given that the sample is tiny: there are about 350 observations per class. This sample size might be something that you can expect with prototyping an image classification problem/solution at work. Get accustomed to evaluating several different possible models."
      ]
    },
    {
      "cell_type": "markdown",
      "metadata": {
        "colab_type": "text",
        "id": "XFFyWZbsNxPQ"
      },
      "source": [
        "# Pre - Trained Model\n",
        "<a id=\"p1\"></a>\n",
        "\n",
        "Load a pretrained network from Keras, [ResNet50](https://tfhub.dev/google/imagenet/resnet_v1_50/classification/1) - a 50 layer deep network trained to recognize [1000 objects](https://storage.googleapis.com/download.tensorflow.org/data/ImageNetLabels.txt). Starting usage:\n",
        "\n",
        "```python\n",
        "import numpy as np\n",
        "\n",
        "from tensorflow.keras.applications.resnet50 import ResNet50\n",
        "from tensorflow.keras.preprocessing import image\n",
        "from tensorflow.keras.applications.resnet50 import preprocess_input, decode_predictions\n",
        "\n",
        "from tensorflow.keras.layers import Dense, GlobalAveragePooling2D\n",
        "from tensorflow.keras.models import Model # This is the functional API\n",
        "\n",
        "resnet = ResNet50(weights='imagenet', include_top=False)\n",
        "\n",
        "```\n",
        "\n",
        "The `include_top` parameter in `ResNet50` will remove the full connected layers from the ResNet model. The next step is to turn off the training of the ResNet layers. We want to use the learned parameters without updating them in future training passes. \n",
        "\n",
        "```python\n",
        "for layer in resnet.layers:\n",
        "    layer.trainable = False\n",
        "```\n",
        "\n",
        "Using the Keras functional API, we will need to additional additional full connected layers to our model. We we removed the top layers, we removed all preivous fully connected layers. In other words, we kept only the feature processing portions of our network. You can expert with additional layers beyond what's listed here. The `GlobalAveragePooling2D` layer functions as a really fancy flatten function by taking the average of each of the last convolutional layer outputs (which is two dimensional still). \n",
        "\n",
        "```python\n",
        "x = resnet.output\n",
        "x = GlobalAveragePooling2D()(x) # This layer is a really fancy flatten\n",
        "x = Dense(1024, activation='relu')(x)\n",
        "predictions = Dense(1, activation='sigmoid')(x)\n",
        "model = Model(resnet.input, predictions)\n",
        "```\n",
        "\n",
        "Your assignment is to apply the transfer learning above to classify images of Mountains (`./data/train/mountain/*`) and images of forests (`./data/train/forest/*`). Treat mountains as the positive class (1) and the forest images as the negative (zero). \n",
        "\n",
        "Steps to complete assignment: \n",
        "1. Load in Image Data into numpy arrays (`X`) \n",
        "2. Create a `y` for the labels\n",
        "3. Train your model with pre-trained layers from resnet\n",
        "4. Report your model's accuracy"
      ]
    },
    {
      "cell_type": "markdown",
      "metadata": {
        "id": "8qFi5UZMNxPR",
        "colab_type": "text"
      },
      "source": [
        "## Load in Data\n",
        "\n",
        "This surprisingly more difficult than it seems, because you are working with directories of images instead of a single file. This boiler plate will help you download a zipped version of the directory of images. The directory is organized into \"train\" and \"validation\" which you can use inside an `ImageGenerator` class to stream batches of images thru your model.  \n"
      ]
    },
    {
      "cell_type": "markdown",
      "metadata": {
        "id": "ltNYsmC0NxPS",
        "colab_type": "text"
      },
      "source": [
        "### Download & Summarize the Data\n",
        "\n",
        "This step is completed for you. Just run the cells and review the results. "
      ]
    },
    {
      "cell_type": "code",
      "metadata": {
        "id": "SOhSXEiSP80Q",
        "colab_type": "code",
        "colab": {}
      },
      "source": [
        "# Load a pretrained network from Keras, ResNet50 \n",
        "\n",
        "import numpy as np\n",
        " \n",
        "from tensorflow.keras.applications.resnet50 import ResNet50\n",
        "from tensorflow.keras.preprocessing import image\n",
        "from tensorflow.keras.applications.resnet50 import preprocess_input, decode_predictions\n",
        " \n",
        "from tensorflow.keras.layers import Dense, GlobalAveragePooling2D\n",
        "from tensorflow.keras.models import Model # This is the functional API\n",
        " \n",
        "resnet = ResNet50(weights='imagenet', include_top=False)"
      ],
      "execution_count": 19,
      "outputs": []
    },
    {
      "cell_type": "code",
      "metadata": {
        "id": "lcjmAM2uP889",
        "colab_type": "code",
        "colab": {}
      },
      "source": [
        "# Turn off the training of the ResNet layers. We want to use the learned parameters without updating them in future training passes.\n",
        "\n",
        "for layer in resnet.layers:\n",
        "    layer.trainable = False"
      ],
      "execution_count": 20,
      "outputs": []
    },
    {
      "cell_type": "code",
      "metadata": {
        "tags": [],
        "id": "VABiOjYiNxPT",
        "colab_type": "code",
        "colab": {}
      },
      "source": [
        "# Imports\n",
        "\n",
        "import tensorflow as tf\n",
        "import os\n",
        "from tensorflow.keras.models import Sequential\n",
        "from tensorflow.keras.layers import Conv2D, MaxPool2D, Flatten, Dense, Dropout\n",
        "\n",
        "_URL = 'https://github.com/LambdaSchool/DS-Unit-4-Sprint-3-Deep-Learning/blob/main/module2-convolutional-neural-networks/data.zip?raw=true'\n",
        "\n",
        "path_to_zip = tf.keras.utils.get_file('./data.zip', origin=_URL, extract=True)\n",
        "PATH = os.path.join(os.path.dirname(path_to_zip), 'data')"
      ],
      "execution_count": 25,
      "outputs": []
    },
    {
      "cell_type": "code",
      "metadata": {
        "id": "Ga_npeWyNxPY",
        "colab_type": "code",
        "colab": {}
      },
      "source": [
        "# Instantiate train and validation directories\n",
        "\n",
        "train_dir = os.path.join(PATH, 'train')\n",
        "validation_dir = os.path.join(PATH, 'validation')"
      ],
      "execution_count": 4,
      "outputs": []
    },
    {
      "cell_type": "code",
      "metadata": {
        "id": "0vqVdg7eNxPi",
        "colab_type": "code",
        "colab": {}
      },
      "source": [
        "# Instantiate train and validation data\n",
        "\n",
        "train_mountain_dir = os.path.join(train_dir, 'mountain')  # directory with our training mountain pictures\n",
        "train_forest_dir = os.path.join(train_dir, 'forest')  # directory with our training forest pictures\n",
        "validation_mountain_dir = os.path.join(validation_dir, 'mountain')  # directory with our validation mountain pictures\n",
        "validation_forest_dir = os.path.join(validation_dir, 'forest')  # directory with our validation forest pictures"
      ],
      "execution_count": 5,
      "outputs": []
    },
    {
      "cell_type": "code",
      "metadata": {
        "id": "ASuCBwmsNxPm",
        "colab_type": "code",
        "colab": {}
      },
      "source": [
        "# Instantiate for number of images for train, validation, and total\n",
        "\n",
        "num_mountain_tr = len(os.listdir(train_mountain_dir))\n",
        "num_forest_tr = len(os.listdir(train_forest_dir))\n",
        "\n",
        "num_mountain_val = len(os.listdir(validation_mountain_dir))\n",
        "num_forest_val = len(os.listdir(validation_forest_dir))\n",
        "\n",
        "total_train = num_mountain_tr + num_forest_tr\n",
        "total_val = num_mountain_val + num_forest_val"
      ],
      "execution_count": 6,
      "outputs": []
    },
    {
      "cell_type": "code",
      "metadata": {
        "tags": [],
        "id": "ZFOkRC9wNxPr",
        "colab_type": "code",
        "colab": {
          "base_uri": "https://localhost:8080/",
          "height": 136
        },
        "outputId": "60bfe966-a826-45be-8066-0c2a612856b5"
      },
      "source": [
        "# Print number of images for train, validation, and total\n",
        "\n",
        "print('total training mountain images:', num_mountain_tr)\n",
        "print('total training forest images:', num_forest_tr)\n",
        "\n",
        "print('total validation mountain images:', num_mountain_val)\n",
        "print('total validation forest images:', num_forest_val)\n",
        "print(\"--\")\n",
        "print(\"Total training images:\", total_train)\n",
        "print(\"Total validation images:\", total_val)"
      ],
      "execution_count": 7,
      "outputs": [
        {
          "output_type": "stream",
          "text": [
            "total training mountain images: 254\n",
            "total training forest images: 270\n",
            "total validation mountain images: 125\n",
            "total validation forest images: 62\n",
            "--\n",
            "Total training images: 524\n",
            "Total validation images: 187\n"
          ],
          "name": "stdout"
        }
      ]
    },
    {
      "cell_type": "markdown",
      "metadata": {
        "id": "ExV10eJYNxPw",
        "colab_type": "text"
      },
      "source": [
        "### Keras `ImageGenerator` to Process the Data\n",
        "\n",
        "This step is completed for you, but please review the code. The `ImageGenerator` class reads in batches of data from a directory and pass them to the model one batch at a time. Just like large text files, this method is advantageous, because it stifles the need to load a bunch of images into memory. \n",
        "\n",
        "Check out the documentation for this class method: [Keras `ImageGenerator` Class](https://keras.io/preprocessing/image/#imagedatagenerator-class). You'll expand it's use in the third assignment objective."
      ]
    },
    {
      "cell_type": "code",
      "metadata": {
        "id": "mMIYl91qNxPx",
        "colab_type": "code",
        "colab": {}
      },
      "source": [
        "# Instantiate convolutional neural network parameters\n",
        "\n",
        "batch_size = 16\n",
        "epochs = 50\n",
        "IMG_HEIGHT = 224\n",
        "IMG_WIDTH = 224"
      ],
      "execution_count": 8,
      "outputs": []
    },
    {
      "cell_type": "code",
      "metadata": {
        "id": "AgvUzUe3NxP7",
        "colab_type": "code",
        "colab": {}
      },
      "source": [
        "# Rescale the Image Data Generator\n",
        "\n",
        "from tensorflow.keras.preprocessing.image import ImageDataGenerator\n",
        "\n",
        "train_image_generator = ImageDataGenerator(rescale=1./255) # Generator for our training data\n",
        "validation_image_generator = ImageDataGenerator(rescale=1./255) # Generator for our validation data"
      ],
      "execution_count": 9,
      "outputs": []
    },
    {
      "cell_type": "code",
      "metadata": {
        "tags": [],
        "id": "EOS5qtzMNxP_",
        "colab_type": "code",
        "colab": {
          "base_uri": "https://localhost:8080/",
          "height": 34
        },
        "outputId": "effd3ccb-49fb-46d2-8bb0-d661035b6963"
      },
      "source": [
        "# Instantiate the train image generator\n",
        "\n",
        "train_data_gen = train_image_generator.flow_from_directory(batch_size=batch_size,\n",
        "                                                           directory=train_dir,\n",
        "                                                           shuffle=True,\n",
        "                                                           target_size=(IMG_HEIGHT, IMG_WIDTH),\n",
        "                                                           class_mode='binary')"
      ],
      "execution_count": 10,
      "outputs": [
        {
          "output_type": "stream",
          "text": [
            "Found 533 images belonging to 2 classes.\n"
          ],
          "name": "stdout"
        }
      ]
    },
    {
      "cell_type": "code",
      "metadata": {
        "tags": [],
        "id": "UABtgyYlNxQD",
        "colab_type": "code",
        "colab": {
          "base_uri": "https://localhost:8080/",
          "height": 34
        },
        "outputId": "febb0d5b-ff63-4f7a-f6ab-570655d71413"
      },
      "source": [
        "# Instantiate the validation image generator\n",
        "\n",
        "val_data_gen = validation_image_generator.flow_from_directory(batch_size=batch_size,\n",
        "                                                              directory=validation_dir,\n",
        "                                                              target_size=(IMG_HEIGHT, IMG_WIDTH),\n",
        "                                                              class_mode='binary')"
      ],
      "execution_count": 11,
      "outputs": [
        {
          "output_type": "stream",
          "text": [
            "Found 195 images belonging to 2 classes.\n"
          ],
          "name": "stdout"
        }
      ]
    },
    {
      "cell_type": "markdown",
      "metadata": {
        "id": "HlwsKVWJNxQG",
        "colab_type": "text"
      },
      "source": [
        "## Instatiate Model"
      ]
    },
    {
      "cell_type": "code",
      "metadata": {
        "id": "ULcbNzYnP9Ca",
        "colab_type": "code",
        "colab": {}
      },
      "source": [
        "# Instantiate the model and keep only the feature processing portions of our network.\n",
        "\n",
        "x = resnet.output\n",
        "x = GlobalAveragePooling2D()(x) # This layer is a really fancy flatten\n",
        "x = Dense(1024, activation='relu')(x)\n",
        "predictions = Dense(1, activation='sigmoid')(x)\n",
        "model = Model(resnet.input, predictions)"
      ],
      "execution_count": 12,
      "outputs": []
    },
    {
      "cell_type": "code",
      "metadata": {
        "id": "fShBhb7PNxQH",
        "colab_type": "code",
        "colab": {}
      },
      "source": [
        "# Compile the model\n",
        "\n",
        "model.compile(loss=\"binary_crossentropy\", optimizer=\"adam\", metrics=[\"accuracy\"])"
      ],
      "execution_count": 13,
      "outputs": []
    },
    {
      "cell_type": "markdown",
      "metadata": {
        "id": "IgUe-CKfNxQL",
        "colab_type": "text"
      },
      "source": [
        "## Fit Model"
      ]
    },
    {
      "cell_type": "code",
      "metadata": {
        "id": "_tFGgzj2NxQL",
        "colab_type": "code",
        "colab": {
          "base_uri": "https://localhost:8080/",
          "height": 1000
        },
        "outputId": "6474f128-f70b-4400-cccd-78abe5dcfc90"
      },
      "source": [
        "# Fit the model\n",
        "\n",
        "history = model.fit(\n",
        "    train_data_gen,\n",
        "    steps_per_epoch=total_train // batch_size,\n",
        "    epochs=epochs,\n",
        "    validation_data=val_data_gen,\n",
        "    validation_steps=total_val // batch_size\n",
        ")"
      ],
      "execution_count": 14,
      "outputs": [
        {
          "output_type": "stream",
          "text": [
            "Epoch 1/50\n",
            "32/32 [==============================] - 6s 201ms/step - loss: 0.8392 - accuracy: 0.5629 - val_loss: 0.6963 - val_accuracy: 0.5795\n",
            "Epoch 2/50\n",
            "32/32 [==============================] - 5s 154ms/step - loss: 0.6643 - accuracy: 0.6008 - val_loss: 0.5469 - val_accuracy: 0.6875\n",
            "Epoch 3/50\n",
            "32/32 [==============================] - 5s 153ms/step - loss: 0.5217 - accuracy: 0.7964 - val_loss: 0.4961 - val_accuracy: 0.6989\n",
            "Epoch 4/50\n",
            "32/32 [==============================] - 5s 153ms/step - loss: 0.4885 - accuracy: 0.8084 - val_loss: 0.5369 - val_accuracy: 0.7955\n",
            "Epoch 5/50\n",
            "32/32 [==============================] - 5s 156ms/step - loss: 0.4669 - accuracy: 0.7764 - val_loss: 0.6795 - val_accuracy: 0.5682\n",
            "Epoch 6/50\n",
            "32/32 [==============================] - 5s 156ms/step - loss: 0.4284 - accuracy: 0.8223 - val_loss: 0.4167 - val_accuracy: 0.8523\n",
            "Epoch 7/50\n",
            "32/32 [==============================] - 5s 155ms/step - loss: 0.3734 - accuracy: 0.8603 - val_loss: 0.3764 - val_accuracy: 0.8182\n",
            "Epoch 8/50\n",
            "32/32 [==============================] - 5s 155ms/step - loss: 0.3309 - accuracy: 0.8743 - val_loss: 0.3397 - val_accuracy: 0.8295\n",
            "Epoch 9/50\n",
            "32/32 [==============================] - 5s 155ms/step - loss: 0.3734 - accuracy: 0.8343 - val_loss: 0.5009 - val_accuracy: 0.7784\n",
            "Epoch 10/50\n",
            "32/32 [==============================] - 5s 154ms/step - loss: 0.3188 - accuracy: 0.8683 - val_loss: 0.3212 - val_accuracy: 0.8977\n",
            "Epoch 11/50\n",
            "32/32 [==============================] - 5s 156ms/step - loss: 0.3017 - accuracy: 0.8902 - val_loss: 0.3970 - val_accuracy: 0.8352\n",
            "Epoch 12/50\n",
            "32/32 [==============================] - 5s 155ms/step - loss: 0.3426 - accuracy: 0.8523 - val_loss: 0.3517 - val_accuracy: 0.8125\n",
            "Epoch 13/50\n",
            "32/32 [==============================] - 5s 156ms/step - loss: 0.2785 - accuracy: 0.8922 - val_loss: 0.2936 - val_accuracy: 0.9034\n",
            "Epoch 14/50\n",
            "32/32 [==============================] - 5s 157ms/step - loss: 0.2439 - accuracy: 0.9261 - val_loss: 0.2837 - val_accuracy: 0.8807\n",
            "Epoch 15/50\n",
            "32/32 [==============================] - 5s 157ms/step - loss: 0.2259 - accuracy: 0.9261 - val_loss: 0.2431 - val_accuracy: 0.9261\n",
            "Epoch 16/50\n",
            "32/32 [==============================] - 5s 157ms/step - loss: 0.2119 - accuracy: 0.9261 - val_loss: 0.2509 - val_accuracy: 0.9148\n",
            "Epoch 17/50\n",
            "32/32 [==============================] - 5s 158ms/step - loss: 0.2191 - accuracy: 0.9199 - val_loss: 0.3826 - val_accuracy: 0.8409\n",
            "Epoch 18/50\n",
            "32/32 [==============================] - 5s 157ms/step - loss: 0.2298 - accuracy: 0.9182 - val_loss: 0.4211 - val_accuracy: 0.7784\n",
            "Epoch 19/50\n",
            "32/32 [==============================] - 5s 157ms/step - loss: 0.2253 - accuracy: 0.9122 - val_loss: 0.3263 - val_accuracy: 0.8636\n",
            "Epoch 20/50\n",
            "32/32 [==============================] - 5s 155ms/step - loss: 0.1884 - accuracy: 0.9281 - val_loss: 0.3294 - val_accuracy: 0.8466\n",
            "Epoch 21/50\n",
            "32/32 [==============================] - 5s 156ms/step - loss: 0.1721 - accuracy: 0.9501 - val_loss: 0.3914 - val_accuracy: 0.8466\n",
            "Epoch 22/50\n",
            "32/32 [==============================] - 5s 156ms/step - loss: 0.2012 - accuracy: 0.9222 - val_loss: 0.6143 - val_accuracy: 0.7443\n",
            "Epoch 23/50\n",
            "32/32 [==============================] - 5s 156ms/step - loss: 0.4123 - accuracy: 0.8144 - val_loss: 0.9273 - val_accuracy: 0.6023\n",
            "Epoch 24/50\n",
            "32/32 [==============================] - 5s 159ms/step - loss: 0.3434 - accuracy: 0.8359 - val_loss: 0.5667 - val_accuracy: 0.7670\n",
            "Epoch 25/50\n",
            "32/32 [==============================] - 5s 156ms/step - loss: 0.1523 - accuracy: 0.9521 - val_loss: 0.2669 - val_accuracy: 0.8693\n",
            "Epoch 26/50\n",
            "32/32 [==============================] - 5s 158ms/step - loss: 0.1694 - accuracy: 0.9421 - val_loss: 0.1951 - val_accuracy: 0.9375\n",
            "Epoch 27/50\n",
            "32/32 [==============================] - 5s 157ms/step - loss: 0.1374 - accuracy: 0.9621 - val_loss: 0.1845 - val_accuracy: 0.9432\n",
            "Epoch 28/50\n",
            "32/32 [==============================] - 5s 156ms/step - loss: 0.1354 - accuracy: 0.9641 - val_loss: 0.1826 - val_accuracy: 0.9432\n",
            "Epoch 29/50\n",
            "32/32 [==============================] - 5s 157ms/step - loss: 0.1572 - accuracy: 0.9381 - val_loss: 0.4106 - val_accuracy: 0.8352\n",
            "Epoch 30/50\n",
            "32/32 [==============================] - 5s 156ms/step - loss: 0.1459 - accuracy: 0.9521 - val_loss: 0.1994 - val_accuracy: 0.9375\n",
            "Epoch 31/50\n",
            "32/32 [==============================] - 5s 156ms/step - loss: 0.1193 - accuracy: 0.9601 - val_loss: 0.3430 - val_accuracy: 0.8523\n",
            "Epoch 32/50\n",
            "32/32 [==============================] - 5s 157ms/step - loss: 0.1310 - accuracy: 0.9621 - val_loss: 0.2353 - val_accuracy: 0.9261\n",
            "Epoch 33/50\n",
            "32/32 [==============================] - 5s 157ms/step - loss: 0.1403 - accuracy: 0.9481 - val_loss: 0.1948 - val_accuracy: 0.9375\n",
            "Epoch 34/50\n",
            "32/32 [==============================] - 5s 158ms/step - loss: 0.1452 - accuracy: 0.9336 - val_loss: 0.2687 - val_accuracy: 0.8977\n",
            "Epoch 35/50\n",
            "32/32 [==============================] - 5s 157ms/step - loss: 0.1321 - accuracy: 0.9421 - val_loss: 0.2787 - val_accuracy: 0.8977\n",
            "Epoch 36/50\n",
            "32/32 [==============================] - 5s 156ms/step - loss: 0.1226 - accuracy: 0.9561 - val_loss: 0.2354 - val_accuracy: 0.9148\n",
            "Epoch 37/50\n",
            "32/32 [==============================] - 5s 156ms/step - loss: 0.2340 - accuracy: 0.9042 - val_loss: 0.2073 - val_accuracy: 0.9318\n",
            "Epoch 38/50\n",
            "32/32 [==============================] - 5s 155ms/step - loss: 0.1089 - accuracy: 0.9681 - val_loss: 0.2340 - val_accuracy: 0.9205\n",
            "Epoch 39/50\n",
            "32/32 [==============================] - 5s 156ms/step - loss: 0.1114 - accuracy: 0.9601 - val_loss: 0.3161 - val_accuracy: 0.8693\n",
            "Epoch 40/50\n",
            "32/32 [==============================] - 5s 156ms/step - loss: 0.1615 - accuracy: 0.9202 - val_loss: 0.1691 - val_accuracy: 0.9432\n",
            "Epoch 41/50\n",
            "32/32 [==============================] - 5s 159ms/step - loss: 0.1706 - accuracy: 0.9082 - val_loss: 0.2072 - val_accuracy: 0.9261\n",
            "Epoch 42/50\n",
            "32/32 [==============================] - 5s 156ms/step - loss: 0.1293 - accuracy: 0.9441 - val_loss: 0.3206 - val_accuracy: 0.8693\n",
            "Epoch 43/50\n",
            "32/32 [==============================] - 5s 156ms/step - loss: 0.0937 - accuracy: 0.9721 - val_loss: 0.4504 - val_accuracy: 0.8182\n",
            "Epoch 44/50\n",
            "32/32 [==============================] - 5s 155ms/step - loss: 0.1276 - accuracy: 0.9501 - val_loss: 0.2213 - val_accuracy: 0.9432\n",
            "Epoch 45/50\n",
            "32/32 [==============================] - 5s 156ms/step - loss: 0.1329 - accuracy: 0.9521 - val_loss: 0.2128 - val_accuracy: 0.9375\n",
            "Epoch 46/50\n",
            "32/32 [==============================] - 5s 156ms/step - loss: 0.1236 - accuracy: 0.9541 - val_loss: 0.3394 - val_accuracy: 0.8636\n",
            "Epoch 47/50\n",
            "32/32 [==============================] - 5s 156ms/step - loss: 0.0788 - accuracy: 0.9741 - val_loss: 0.1867 - val_accuracy: 0.9432\n",
            "Epoch 48/50\n",
            "32/32 [==============================] - 5s 155ms/step - loss: 0.0953 - accuracy: 0.9581 - val_loss: 0.2490 - val_accuracy: 0.9205\n",
            "Epoch 49/50\n",
            "32/32 [==============================] - 5s 158ms/step - loss: 0.0873 - accuracy: 0.9727 - val_loss: 0.5285 - val_accuracy: 0.8125\n",
            "Epoch 50/50\n",
            "32/32 [==============================] - 5s 156ms/step - loss: 0.1625 - accuracy: 0.9321 - val_loss: 0.1690 - val_accuracy: 0.9375\n"
          ],
          "name": "stdout"
        }
      ]
    },
    {
      "cell_type": "markdown",
      "metadata": {
        "id": "lPa7s53oNxQP",
        "colab_type": "text"
      },
      "source": [
        "# Custom CNN Model\n",
        "\n",
        "In this step, write and train your own convolutional neural network using Keras. You can use any architecture that suits you as long as it has at least one convolutional and one pooling layer at the beginning of the network - you can add more if you want. "
      ]
    },
    {
      "cell_type": "code",
      "metadata": {
        "id": "IuTWOLgeNxQP",
        "colab_type": "code",
        "colab": {}
      },
      "source": [
        "# Define the Model\n",
        "\n",
        "custom_model = Sequential([\n",
        "                           Conv2D(32,3, activation=\"relu\", input_shape=(224,224,3)),\n",
        "                           MaxPool2D(2,2),\n",
        "                           Conv2D(64,3, activation=\"relu\", input_shape=(224,224,3)),\n",
        "                           MaxPool2D(2,2),\n",
        "                           Conv2D(128,3, activation=\"relu\", input_shape=(224,224,3)),\n",
        "                           MaxPool2D(2,2),\n",
        "                           Flatten(),\n",
        "                           Dense(64, activation=\"relu\"),\n",
        "                           Dropout (0.1),\n",
        "                           Dense(1, activation=\"sigmoid\")\n",
        "])"
      ],
      "execution_count": 27,
      "outputs": []
    },
    {
      "cell_type": "code",
      "metadata": {
        "id": "UUCp_RWGNxQT",
        "colab_type": "code",
        "colab": {}
      },
      "source": [
        "# Compile Model\n",
        "\n",
        "custom_model.compile(optimizer=\"adam\", loss=\"binary_crossentropy\", metrics=[\"accuracy\"])"
      ],
      "execution_count": 28,
      "outputs": []
    },
    {
      "cell_type": "code",
      "metadata": {
        "id": "i0RE_loANxQW",
        "colab_type": "code",
        "colab": {
          "base_uri": "https://localhost:8080/",
          "height": 1000
        },
        "outputId": "ac18da59-bed1-4159-bdba-1d7be77f7638"
      },
      "source": [
        "# Fit Model\n",
        "\n",
        "history = custom_model.fit(\n",
        "    train_data_gen,\n",
        "    steps_per_epoch=total_train // batch_size,\n",
        "    epochs=epochs,\n",
        "    validation_data=val_data_gen,\n",
        "    validation_steps=total_val // batch_size\n",
        ")"
      ],
      "execution_count": 29,
      "outputs": [
        {
          "output_type": "stream",
          "text": [
            "Epoch 1/50\n",
            "32/32 [==============================] - 3s 83ms/step - loss: 0.7902 - accuracy: 0.6806 - val_loss: 0.4107 - val_accuracy: 0.8636\n",
            "Epoch 2/50\n",
            "32/32 [==============================] - 2s 73ms/step - loss: 0.2859 - accuracy: 0.8882 - val_loss: 0.2402 - val_accuracy: 0.9318\n",
            "Epoch 3/50\n",
            "32/32 [==============================] - 2s 75ms/step - loss: 0.2001 - accuracy: 0.9341 - val_loss: 0.2160 - val_accuracy: 0.9205\n",
            "Epoch 4/50\n",
            "32/32 [==============================] - 2s 74ms/step - loss: 0.2414 - accuracy: 0.9162 - val_loss: 0.2116 - val_accuracy: 0.9205\n",
            "Epoch 5/50\n",
            "32/32 [==============================] - 2s 74ms/step - loss: 0.2081 - accuracy: 0.9122 - val_loss: 0.2743 - val_accuracy: 0.8807\n",
            "Epoch 6/50\n",
            "32/32 [==============================] - 2s 75ms/step - loss: 0.1484 - accuracy: 0.9541 - val_loss: 0.2996 - val_accuracy: 0.8750\n",
            "Epoch 7/50\n",
            "32/32 [==============================] - 2s 73ms/step - loss: 0.1228 - accuracy: 0.9561 - val_loss: 0.3769 - val_accuracy: 0.8750\n",
            "Epoch 8/50\n",
            "32/32 [==============================] - 2s 73ms/step - loss: 0.1509 - accuracy: 0.9321 - val_loss: 0.2224 - val_accuracy: 0.9261\n",
            "Epoch 9/50\n",
            "32/32 [==============================] - 2s 74ms/step - loss: 0.1050 - accuracy: 0.9601 - val_loss: 0.4042 - val_accuracy: 0.8636\n",
            "Epoch 10/50\n",
            "32/32 [==============================] - 2s 74ms/step - loss: 0.1354 - accuracy: 0.9421 - val_loss: 0.2644 - val_accuracy: 0.9091\n",
            "Epoch 11/50\n",
            "32/32 [==============================] - 2s 76ms/step - loss: 0.0751 - accuracy: 0.9780 - val_loss: 0.1896 - val_accuracy: 0.9318\n",
            "Epoch 12/50\n",
            "32/32 [==============================] - 2s 76ms/step - loss: 0.0466 - accuracy: 0.9844 - val_loss: 0.6074 - val_accuracy: 0.8693\n",
            "Epoch 13/50\n",
            "32/32 [==============================] - 2s 73ms/step - loss: 0.0639 - accuracy: 0.9800 - val_loss: 0.1803 - val_accuracy: 0.9261\n",
            "Epoch 14/50\n",
            "32/32 [==============================] - 2s 74ms/step - loss: 0.0316 - accuracy: 0.9920 - val_loss: 0.2641 - val_accuracy: 0.9091\n",
            "Epoch 15/50\n",
            "32/32 [==============================] - 2s 73ms/step - loss: 0.0218 - accuracy: 0.9940 - val_loss: 0.2035 - val_accuracy: 0.9205\n",
            "Epoch 16/50\n",
            "32/32 [==============================] - 2s 74ms/step - loss: 0.0263 - accuracy: 0.9920 - val_loss: 0.1932 - val_accuracy: 0.9432\n",
            "Epoch 17/50\n",
            "32/32 [==============================] - 2s 73ms/step - loss: 0.0108 - accuracy: 0.9980 - val_loss: 0.2848 - val_accuracy: 0.9261\n",
            "Epoch 18/50\n",
            "32/32 [==============================] - 2s 73ms/step - loss: 0.0048 - accuracy: 1.0000 - val_loss: 0.2755 - val_accuracy: 0.9205\n",
            "Epoch 19/50\n",
            "32/32 [==============================] - 2s 74ms/step - loss: 0.0055 - accuracy: 0.9960 - val_loss: 0.2966 - val_accuracy: 0.9318\n",
            "Epoch 20/50\n",
            "32/32 [==============================] - 2s 74ms/step - loss: 0.0014 - accuracy: 1.0000 - val_loss: 0.2861 - val_accuracy: 0.9375\n",
            "Epoch 21/50\n",
            "32/32 [==============================] - 2s 74ms/step - loss: 6.8589e-04 - accuracy: 1.0000 - val_loss: 0.3503 - val_accuracy: 0.9318\n",
            "Epoch 22/50\n",
            "32/32 [==============================] - 2s 75ms/step - loss: 5.8332e-04 - accuracy: 1.0000 - val_loss: 0.4653 - val_accuracy: 0.9261\n",
            "Epoch 23/50\n",
            "32/32 [==============================] - 2s 73ms/step - loss: 3.8108e-04 - accuracy: 1.0000 - val_loss: 0.4426 - val_accuracy: 0.9318\n",
            "Epoch 24/50\n",
            "32/32 [==============================] - 2s 75ms/step - loss: 3.8758e-04 - accuracy: 1.0000 - val_loss: 0.3735 - val_accuracy: 0.9375\n",
            "Epoch 25/50\n",
            "32/32 [==============================] - 2s 75ms/step - loss: 3.3998e-04 - accuracy: 1.0000 - val_loss: 0.4632 - val_accuracy: 0.9261\n",
            "Epoch 26/50\n",
            "32/32 [==============================] - 2s 73ms/step - loss: 1.6906e-04 - accuracy: 1.0000 - val_loss: 0.4681 - val_accuracy: 0.9318\n",
            "Epoch 27/50\n",
            "32/32 [==============================] - 2s 74ms/step - loss: 1.8698e-04 - accuracy: 1.0000 - val_loss: 0.4452 - val_accuracy: 0.9318\n",
            "Epoch 28/50\n",
            "32/32 [==============================] - 2s 76ms/step - loss: 2.3746e-04 - accuracy: 1.0000 - val_loss: 0.5378 - val_accuracy: 0.9091\n",
            "Epoch 29/50\n",
            "32/32 [==============================] - 2s 77ms/step - loss: 3.0669e-04 - accuracy: 1.0000 - val_loss: 0.4127 - val_accuracy: 0.9375\n",
            "Epoch 30/50\n",
            "32/32 [==============================] - 2s 76ms/step - loss: 1.2860e-04 - accuracy: 1.0000 - val_loss: 0.5126 - val_accuracy: 0.9261\n",
            "Epoch 31/50\n",
            "32/32 [==============================] - 2s 77ms/step - loss: 1.5291e-04 - accuracy: 1.0000 - val_loss: 0.4625 - val_accuracy: 0.9375\n",
            "Epoch 32/50\n",
            "32/32 [==============================] - 2s 75ms/step - loss: 8.9266e-05 - accuracy: 1.0000 - val_loss: 0.5784 - val_accuracy: 0.9205\n",
            "Epoch 33/50\n",
            "32/32 [==============================] - 2s 74ms/step - loss: 1.3298e-04 - accuracy: 1.0000 - val_loss: 0.3892 - val_accuracy: 0.9205\n",
            "Epoch 34/50\n",
            "32/32 [==============================] - 2s 73ms/step - loss: 1.1730e-04 - accuracy: 1.0000 - val_loss: 0.5772 - val_accuracy: 0.9205\n",
            "Epoch 35/50\n",
            "32/32 [==============================] - 2s 75ms/step - loss: 1.0147e-04 - accuracy: 1.0000 - val_loss: 0.4938 - val_accuracy: 0.9375\n",
            "Epoch 36/50\n",
            "32/32 [==============================] - 2s 76ms/step - loss: 1.2020e-04 - accuracy: 1.0000 - val_loss: 0.5113 - val_accuracy: 0.9261\n",
            "Epoch 37/50\n",
            "32/32 [==============================] - 2s 75ms/step - loss: 1.3309e-04 - accuracy: 1.0000 - val_loss: 0.5749 - val_accuracy: 0.9091\n",
            "Epoch 38/50\n",
            "32/32 [==============================] - 2s 74ms/step - loss: 1.1733e-04 - accuracy: 1.0000 - val_loss: 0.5122 - val_accuracy: 0.9318\n",
            "Epoch 39/50\n",
            "32/32 [==============================] - 2s 74ms/step - loss: 8.8213e-05 - accuracy: 1.0000 - val_loss: 0.6191 - val_accuracy: 0.9148\n",
            "Epoch 40/50\n",
            "32/32 [==============================] - 2s 74ms/step - loss: 4.3949e-05 - accuracy: 1.0000 - val_loss: 0.4822 - val_accuracy: 0.9261\n",
            "Epoch 41/50\n",
            "32/32 [==============================] - 2s 74ms/step - loss: 4.2792e-05 - accuracy: 1.0000 - val_loss: 0.6694 - val_accuracy: 0.9091\n",
            "Epoch 42/50\n",
            "32/32 [==============================] - 2s 72ms/step - loss: 9.7722e-05 - accuracy: 1.0000 - val_loss: 0.5691 - val_accuracy: 0.9205\n",
            "Epoch 43/50\n",
            "32/32 [==============================] - 2s 74ms/step - loss: 2.2019e-05 - accuracy: 1.0000 - val_loss: 0.5738 - val_accuracy: 0.9261\n",
            "Epoch 44/50\n",
            "32/32 [==============================] - 2s 73ms/step - loss: 0.0362 - accuracy: 0.9900 - val_loss: 0.2068 - val_accuracy: 0.9489\n",
            "Epoch 45/50\n",
            "32/32 [==============================] - 2s 74ms/step - loss: 0.1310 - accuracy: 0.9561 - val_loss: 0.2383 - val_accuracy: 0.9318\n",
            "Epoch 46/50\n",
            "32/32 [==============================] - 2s 73ms/step - loss: 0.0621 - accuracy: 0.9800 - val_loss: 0.5431 - val_accuracy: 0.8636\n",
            "Epoch 47/50\n",
            "32/32 [==============================] - 2s 75ms/step - loss: 0.0304 - accuracy: 0.9860 - val_loss: 0.4981 - val_accuracy: 0.8807\n",
            "Epoch 48/50\n",
            "32/32 [==============================] - 2s 76ms/step - loss: 0.0520 - accuracy: 0.9840 - val_loss: 0.8003 - val_accuracy: 0.8182\n",
            "Epoch 49/50\n",
            "32/32 [==============================] - 2s 75ms/step - loss: 0.0287 - accuracy: 0.9860 - val_loss: 0.3529 - val_accuracy: 0.9148\n",
            "Epoch 50/50\n",
            "32/32 [==============================] - 2s 74ms/step - loss: 0.0078 - accuracy: 1.0000 - val_loss: 0.4367 - val_accuracy: 0.9091\n"
          ],
          "name": "stdout"
        }
      ]
    },
    {
      "cell_type": "markdown",
      "metadata": {
        "id": "FpnDi5lpNxQZ",
        "colab_type": "text"
      },
      "source": [
        "# Custom CNN Model with Image Manipulations\n",
        "\n",
        "To simulate an increase in a sample of image, you can apply image manipulation techniques: cropping, rotation, stretching, etc. Luckily Keras has some handy functions for us to apply these techniques to our mountain and forest example. Simply, you should be able to modify our image generator for the problem. Check out these resources to help you get started: \n",
        "\n",
        "1. [Keras `ImageGenerator` Class](https://keras.io/preprocessing/image/#imagedatagenerator-class)\n",
        "2. [Building a powerful image classifier with very little data](https://blog.keras.io/building-powerful-image-classification-models-using-very-little-data.html)\n",
        " "
      ]
    },
    {
      "cell_type": "code",
      "metadata": {
        "id": "AVgmQNSpNxQZ",
        "colab_type": "code",
        "colab": {
          "base_uri": "https://localhost:8080/",
          "height": 51
        },
        "outputId": "074beeda-e69c-4b8d-c293-ed52072cc0f5"
      },
      "source": [
        "# Instantiate the train and validation image generators\n",
        "\n",
        "train_image_gen = ImageDataGenerator(\n",
        "    featurewise_center=False,\n",
        "    samplewise_center=False,\n",
        "    featurewise_std_normalization=False,\n",
        "    samplewise_std_normalization=False,\n",
        "    zca_whitening=False,\n",
        "    zca_epsilon=1e-06,\n",
        "    rotation_range=40,\n",
        "    width_shift_range=0.2,\n",
        "    height_shift_range=0.2,\n",
        "    brightness_range=None,\n",
        "    shear_range=0.2,\n",
        "    zoom_range=0.2,\n",
        "    channel_shift_range=0.0,\n",
        "    fill_mode=\"nearest\",\n",
        "    cval=0.0,\n",
        "    horizontal_flip=True,\n",
        "    vertical_flip=False,\n",
        "    rescale=1./255,\n",
        "    preprocessing_function=None,\n",
        "    data_format=None,\n",
        "    validation_split=0.0,\n",
        "    dtype=None,\n",
        ")\n",
        "\n",
        "val_image_gen = ImageDataGenerator(\n",
        "    featurewise_center=False,\n",
        "    samplewise_center=False,\n",
        "    featurewise_std_normalization=False,\n",
        "    samplewise_std_normalization=False,\n",
        "    zca_whitening=False,\n",
        "    zca_epsilon=1e-06,\n",
        "    rotation_range=40,\n",
        "    width_shift_range=0.2,\n",
        "    height_shift_range=0.2,\n",
        "    brightness_range=None,\n",
        "    shear_range=0.2,\n",
        "    zoom_range=0.2,\n",
        "    channel_shift_range=0.0,\n",
        "    fill_mode=\"nearest\",\n",
        "    cval=0.0,\n",
        "    horizontal_flip=True,\n",
        "    vertical_flip=False,\n",
        "    rescale=1./255,\n",
        "    preprocessing_function=None,\n",
        "    data_format=None,\n",
        "    validation_split=0.0,\n",
        "    dtype=None,\n",
        ")\n",
        "\n",
        "train_data_gen = train_image_gen.flow_from_directory(batch_size=batch_size,\n",
        "                                                           directory=train_dir,\n",
        "                                                           shuffle=True,\n",
        "                                                           target_size=(IMG_HEIGHT, IMG_WIDTH),\n",
        "                                                           class_mode='binary')\n",
        "\n",
        "val_data_gen = val_image_gen.flow_from_directory(batch_size=batch_size,\n",
        "                                                              directory=validation_dir,\n",
        "                                                              target_size=(IMG_HEIGHT, IMG_WIDTH),\n",
        "                                                              class_mode='binary')"
      ],
      "execution_count": 33,
      "outputs": [
        {
          "output_type": "stream",
          "text": [
            "Found 533 images belonging to 2 classes.\n",
            "Found 195 images belonging to 2 classes.\n"
          ],
          "name": "stdout"
        }
      ]
    },
    {
      "cell_type": "code",
      "metadata": {
        "id": "kJmJ9w3SYSdz",
        "colab_type": "code",
        "colab": {
          "base_uri": "https://localhost:8080/",
          "height": 1000
        },
        "outputId": "b2389136-76d5-4093-8197-937e4921080a"
      },
      "source": [
        "# Fit Custom Model with Image Manipulations\n",
        "\n",
        "history = custom_model.fit(\n",
        "    train_data_gen,\n",
        "    steps_per_epoch=total_train // batch_size,\n",
        "    epochs=epochs,\n",
        "    validation_data=val_data_gen,\n",
        "    validation_steps=total_val // batch_size\n",
        ")"
      ],
      "execution_count": 34,
      "outputs": [
        {
          "output_type": "stream",
          "text": [
            "Epoch 1/50\n",
            "32/32 [==============================] - 10s 308ms/step - loss: 0.6920 - accuracy: 0.5190 - val_loss: 0.7106 - val_accuracy: 0.3636\n",
            "Epoch 2/50\n",
            "32/32 [==============================] - 10s 303ms/step - loss: 0.6856 - accuracy: 0.5309 - val_loss: 0.6894 - val_accuracy: 0.3920\n",
            "Epoch 3/50\n",
            "32/32 [==============================] - 10s 300ms/step - loss: 0.6997 - accuracy: 0.5449 - val_loss: 0.7128 - val_accuracy: 0.3693\n",
            "Epoch 4/50\n",
            "32/32 [==============================] - 10s 301ms/step - loss: 0.6905 - accuracy: 0.5309 - val_loss: 0.6974 - val_accuracy: 0.3750\n",
            "Epoch 5/50\n",
            "32/32 [==============================] - 10s 299ms/step - loss: 0.6681 - accuracy: 0.5808 - val_loss: 0.6662 - val_accuracy: 0.5739\n",
            "Epoch 6/50\n",
            "32/32 [==============================] - 10s 305ms/step - loss: 0.6147 - accuracy: 0.6926 - val_loss: 0.4936 - val_accuracy: 0.7727\n",
            "Epoch 7/50\n",
            "32/32 [==============================] - 10s 300ms/step - loss: 0.5682 - accuracy: 0.7745 - val_loss: 0.5885 - val_accuracy: 0.6307\n",
            "Epoch 8/50\n",
            "32/32 [==============================] - 10s 299ms/step - loss: 0.5685 - accuracy: 0.7773 - val_loss: 0.3856 - val_accuracy: 0.9091\n",
            "Epoch 9/50\n",
            "32/32 [==============================] - 10s 299ms/step - loss: 0.5438 - accuracy: 0.8064 - val_loss: 0.4363 - val_accuracy: 0.8807\n",
            "Epoch 10/50\n",
            "32/32 [==============================] - 10s 303ms/step - loss: 0.4912 - accuracy: 0.8723 - val_loss: 0.3664 - val_accuracy: 0.8920\n",
            "Epoch 11/50\n",
            "32/32 [==============================] - 10s 298ms/step - loss: 0.4763 - accuracy: 0.8882 - val_loss: 0.3583 - val_accuracy: 0.8920\n",
            "Epoch 12/50\n",
            "32/32 [==============================] - 10s 302ms/step - loss: 0.4436 - accuracy: 0.8802 - val_loss: 0.2618 - val_accuracy: 0.8977\n",
            "Epoch 13/50\n",
            "32/32 [==============================] - 10s 305ms/step - loss: 0.2765 - accuracy: 0.9042 - val_loss: 0.2169 - val_accuracy: 0.8977\n",
            "Epoch 14/50\n",
            "32/32 [==============================] - 10s 308ms/step - loss: 0.3270 - accuracy: 0.8842 - val_loss: 0.1853 - val_accuracy: 0.9318\n",
            "Epoch 15/50\n",
            "32/32 [==============================] - 10s 301ms/step - loss: 0.2483 - accuracy: 0.8942 - val_loss: 0.4316 - val_accuracy: 0.8409\n",
            "Epoch 16/50\n",
            "32/32 [==============================] - 10s 300ms/step - loss: 0.2587 - accuracy: 0.9082 - val_loss: 0.2183 - val_accuracy: 0.8977\n",
            "Epoch 17/50\n",
            "32/32 [==============================] - 10s 301ms/step - loss: 0.1867 - accuracy: 0.9281 - val_loss: 0.2456 - val_accuracy: 0.9034\n",
            "Epoch 18/50\n",
            "32/32 [==============================] - 10s 298ms/step - loss: 0.2555 - accuracy: 0.8962 - val_loss: 0.2216 - val_accuracy: 0.9205\n",
            "Epoch 19/50\n",
            "32/32 [==============================] - 10s 300ms/step - loss: 0.2152 - accuracy: 0.9182 - val_loss: 0.2758 - val_accuracy: 0.8864\n",
            "Epoch 20/50\n",
            "32/32 [==============================] - 10s 300ms/step - loss: 0.1939 - accuracy: 0.9341 - val_loss: 0.1969 - val_accuracy: 0.8920\n",
            "Epoch 21/50\n",
            "32/32 [==============================] - 10s 304ms/step - loss: 0.1791 - accuracy: 0.9301 - val_loss: 0.2213 - val_accuracy: 0.8750\n",
            "Epoch 22/50\n",
            "32/32 [==============================] - 10s 313ms/step - loss: 0.1876 - accuracy: 0.9381 - val_loss: 0.1494 - val_accuracy: 0.9489\n",
            "Epoch 23/50\n",
            "32/32 [==============================] - 10s 301ms/step - loss: 0.1762 - accuracy: 0.9381 - val_loss: 0.3213 - val_accuracy: 0.8807\n",
            "Epoch 24/50\n",
            "32/32 [==============================] - 10s 299ms/step - loss: 0.1908 - accuracy: 0.9162 - val_loss: 0.1770 - val_accuracy: 0.9318\n",
            "Epoch 25/50\n",
            "32/32 [==============================] - 10s 301ms/step - loss: 0.1605 - accuracy: 0.9321 - val_loss: 0.1907 - val_accuracy: 0.9261\n",
            "Epoch 26/50\n",
            "32/32 [==============================] - 10s 301ms/step - loss: 0.1660 - accuracy: 0.9281 - val_loss: 0.2103 - val_accuracy: 0.9205\n",
            "Epoch 27/50\n",
            "32/32 [==============================] - 10s 309ms/step - loss: 0.1773 - accuracy: 0.9142 - val_loss: 0.3677 - val_accuracy: 0.8295\n",
            "Epoch 28/50\n",
            "32/32 [==============================] - 10s 306ms/step - loss: 0.1740 - accuracy: 0.9202 - val_loss: 0.1718 - val_accuracy: 0.9148\n",
            "Epoch 29/50\n",
            "32/32 [==============================] - 10s 303ms/step - loss: 0.1541 - accuracy: 0.9421 - val_loss: 0.2075 - val_accuracy: 0.9034\n",
            "Epoch 30/50\n",
            "32/32 [==============================] - 10s 306ms/step - loss: 0.1741 - accuracy: 0.9361 - val_loss: 0.2490 - val_accuracy: 0.8807\n",
            "Epoch 31/50\n",
            "32/32 [==============================] - 10s 308ms/step - loss: 0.1652 - accuracy: 0.9242 - val_loss: 0.2400 - val_accuracy: 0.8977\n",
            "Epoch 32/50\n",
            "32/32 [==============================] - 10s 307ms/step - loss: 0.1640 - accuracy: 0.9361 - val_loss: 0.2039 - val_accuracy: 0.9318\n",
            "Epoch 33/50\n",
            "32/32 [==============================] - 10s 307ms/step - loss: 0.1604 - accuracy: 0.9301 - val_loss: 0.2291 - val_accuracy: 0.8864\n",
            "Epoch 34/50\n",
            "32/32 [==============================] - 10s 310ms/step - loss: 0.1758 - accuracy: 0.9222 - val_loss: 0.2390 - val_accuracy: 0.8750\n",
            "Epoch 35/50\n",
            "32/32 [==============================] - 10s 309ms/step - loss: 0.1493 - accuracy: 0.9381 - val_loss: 0.2089 - val_accuracy: 0.9375\n",
            "Epoch 36/50\n",
            "32/32 [==============================] - 10s 305ms/step - loss: 0.1719 - accuracy: 0.9301 - val_loss: 0.3019 - val_accuracy: 0.8750\n",
            "Epoch 37/50\n",
            "32/32 [==============================] - 10s 307ms/step - loss: 0.1689 - accuracy: 0.9501 - val_loss: 0.2031 - val_accuracy: 0.8977\n",
            "Epoch 38/50\n",
            "32/32 [==============================] - 10s 309ms/step - loss: 0.1161 - accuracy: 0.9561 - val_loss: 0.2418 - val_accuracy: 0.8864\n",
            "Epoch 39/50\n",
            "32/32 [==============================] - 10s 307ms/step - loss: 0.1603 - accuracy: 0.9321 - val_loss: 0.2733 - val_accuracy: 0.9091\n",
            "Epoch 40/50\n",
            "32/32 [==============================] - 10s 307ms/step - loss: 0.1615 - accuracy: 0.9421 - val_loss: 0.1967 - val_accuracy: 0.9205\n",
            "Epoch 41/50\n",
            "32/32 [==============================] - 10s 304ms/step - loss: 0.1324 - accuracy: 0.9281 - val_loss: 0.1912 - val_accuracy: 0.9034\n",
            "Epoch 42/50\n",
            "32/32 [==============================] - 10s 300ms/step - loss: 0.1167 - accuracy: 0.9641 - val_loss: 0.2293 - val_accuracy: 0.8977\n",
            "Epoch 43/50\n",
            "32/32 [==============================] - 10s 306ms/step - loss: 0.1393 - accuracy: 0.9381 - val_loss: 0.2354 - val_accuracy: 0.9034\n",
            "Epoch 44/50\n",
            "32/32 [==============================] - 10s 304ms/step - loss: 0.1375 - accuracy: 0.9441 - val_loss: 0.2956 - val_accuracy: 0.8864\n",
            "Epoch 45/50\n",
            "32/32 [==============================] - 10s 306ms/step - loss: 0.1380 - accuracy: 0.9395 - val_loss: 0.3369 - val_accuracy: 0.8580\n",
            "Epoch 46/50\n",
            "32/32 [==============================] - 10s 301ms/step - loss: 0.1446 - accuracy: 0.9381 - val_loss: 0.2643 - val_accuracy: 0.9148\n",
            "Epoch 47/50\n",
            "32/32 [==============================] - 10s 303ms/step - loss: 0.1224 - accuracy: 0.9521 - val_loss: 0.2556 - val_accuracy: 0.8977\n",
            "Epoch 48/50\n",
            "32/32 [==============================] - 10s 300ms/step - loss: 0.1312 - accuracy: 0.9521 - val_loss: 0.1995 - val_accuracy: 0.9205\n",
            "Epoch 49/50\n",
            "32/32 [==============================] - 10s 298ms/step - loss: 0.1346 - accuracy: 0.9521 - val_loss: 0.2217 - val_accuracy: 0.8977\n",
            "Epoch 50/50\n",
            "32/32 [==============================] - 10s 302ms/step - loss: 0.1276 - accuracy: 0.9481 - val_loss: 0.2052 - val_accuracy: 0.9261\n"
          ],
          "name": "stdout"
        }
      ]
    },
    {
      "cell_type": "markdown",
      "metadata": {
        "colab_type": "text",
        "id": "uT3UV3gap9H6"
      },
      "source": [
        "# Resources and Stretch Goals\n",
        "\n",
        "Stretch goals\n",
        "- Enhance your code to use classes/functions and accept terms to search and classes to look for in recognizing the downloaded images (e.g. download images of parties, recognize all that contain balloons)\n",
        "- Check out [other available pretrained networks](https://tfhub.dev), try some and compare\n",
        "- Image recognition/classification is somewhat solved, but *relationships* between entities and describing an image is not - check out some of the extended resources (e.g. [Visual Genome](https://visualgenome.org/)) on the topic\n",
        "- Transfer learning - using images you source yourself, [retrain a classifier](https://www.tensorflow.org/hub/tutorials/image_retraining) with a new category\n",
        "- (Not CNN related) Use [piexif](https://pypi.org/project/piexif/) to check out the metadata of images passed in to your system - see if they're from a national park! (Note - many images lack GPS metadata, so this won't work in most cases, but still cool)\n",
        "\n",
        "Resources\n",
        "- [Deep Residual Learning for Image Recognition](https://arxiv.org/abs/1512.03385) - influential paper (introduced ResNet)\n",
        "- [YOLO: Real-Time Object Detection](https://pjreddie.com/darknet/yolo/) - an influential convolution based object detection system, focused on inference speed (for applications to e.g. self driving vehicles)\n",
        "- [R-CNN, Fast R-CNN, Faster R-CNN, YOLO](https://towardsdatascience.com/r-cnn-fast-r-cnn-faster-r-cnn-yolo-object-detection-algorithms-36d53571365e) - comparison of object detection systems\n",
        "- [Common Objects in Context](http://cocodataset.org/) - a large-scale object detection, segmentation, and captioning dataset\n",
        "- [Visual Genome](https://visualgenome.org/) - a dataset, a knowledge base, an ongoing effort to connect structured image concepts to language"
      ]
    }
  ]
}